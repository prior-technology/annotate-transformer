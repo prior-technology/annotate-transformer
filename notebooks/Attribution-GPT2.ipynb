{
 "cells": [
  {
   "cell_type": "markdown",
   "id": "27759517",
   "metadata": {},
   "source": [
    "Goal is to attribute transformer output to either earlier positions or lower layers\n",
    "\n",
    "First apply the full model forward from Token through to LM Head without attribution"
   ]
  },
  {
   "cell_type": "code",
   "execution_count": 58,
   "id": "5e305c4f",
   "metadata": {},
   "outputs": [
    {
     "name": "stderr",
     "output_type": "stream",
     "text": [
      "c:\\users\\stephenprior\\appdata\\local\\programs\\python\\python39\\lib\\site-packages\\torch\\nn\\modules\\lazy.py:175: UserWarning: Lazy modules are a new feature under heavy development so changes to the API or functionality can happen at any moment.\n",
      "  warnings.warn('Lazy modules are a new feature under heavy development '\n"
     ]
    }
   ],
   "source": [
    "from transformer_utils.low_memory import enable_low_memory_load\n",
    "import transformers\n",
    "\n",
    "enable_low_memory_load()\n",
    "tokenizer = transformers.AutoTokenizer.from_pretrained(\"gpt2\")\n",
    "model = transformers.AutoModelForCausalLM.from_pretrained('gpt2')"
   ]
  },
  {
   "cell_type": "code",
   "execution_count": 59,
   "id": "ac7c8e3a",
   "metadata": {},
   "outputs": [],
   "source": [
    "from src.visualization import visualize"
   ]
  },
  {
   "cell_type": "code",
   "execution_count": 60,
   "id": "84a1a3db",
   "metadata": {},
   "outputs": [
    {
     "data": {
      "text/plain": [
       "(tensor([[  464, 11092,   531,   326, 18355, 12135,  3842,   351,   262,  2526,\n",
       "            286, 32405,   481,  1085,   284,  1957,  1417]], device='cuda:0'),\n",
       " torch.Size([1, 17]))"
      ]
     },
     "execution_count": 60,
     "metadata": {},
     "output_type": "execute_result"
    }
   ],
   "source": [
    "text = \"The forecast said that thunderstorm activity with the risk of hail will lead to localised\"\n",
    "tokens = visualize.text_to_input_ids(tokenizer, text)\n",
    "tokens, tokens.shape"
   ]
  },
  {
   "cell_type": "code",
   "execution_count": 61,
   "id": "99cd82a7",
   "metadata": {},
   "outputs": [
    {
     "data": {
      "text/plain": [
       "(['The forecast said that thunderstorm activity with the risk of hail will lead to localised'],\n",
       " ['The',\n",
       "  ' forecast',\n",
       "  ' said',\n",
       "  ' that',\n",
       "  ' thunder',\n",
       "  'storm',\n",
       "  ' activity',\n",
       "  ' with',\n",
       "  ' the',\n",
       "  ' risk',\n",
       "  ' of',\n",
       "  ' hail',\n",
       "  ' will',\n",
       "  ' lead',\n",
       "  ' to',\n",
       "  ' local',\n",
       "  'ised'])"
      ]
     },
     "execution_count": 61,
     "metadata": {},
     "output_type": "execute_result"
    }
   ],
   "source": [
    "tokenizer.batch_decode(tokens), [tokenizer.decode(token) for token in tokens[0]]"
   ]
  },
  {
   "cell_type": "code",
   "execution_count": 62,
   "id": "18b86175",
   "metadata": {},
   "outputs": [
    {
     "data": {
      "text/plain": [
       "GPT2LMHeadModel(\n",
       "  (transformer): GPT2Model(\n",
       "    (wte): Embedding(50257, 768)\n",
       "    (wpe): Embedding(1024, 768)\n",
       "    (drop): Dropout(p=0.1, inplace=False)\n",
       "    (h): ModuleList(\n",
       "      (0): Block(\n",
       "        (ln_1): LayerNorm((768,), eps=1e-05, elementwise_affine=True)\n",
       "        (attn): Attention(\n",
       "          (c_attn): Conv1D()\n",
       "          (c_proj): Conv1D()\n",
       "          (attn_dropout): Dropout(p=0.1, inplace=False)\n",
       "          (resid_dropout): Dropout(p=0.1, inplace=False)\n",
       "        )\n",
       "        (ln_2): LayerNorm((768,), eps=1e-05, elementwise_affine=True)\n",
       "        (mlp): MLP(\n",
       "          (c_fc): Conv1D()\n",
       "          (c_proj): Conv1D()\n",
       "          (dropout): Dropout(p=0.1, inplace=False)\n",
       "        )\n",
       "      )\n",
       "      (1): Block(\n",
       "        (ln_1): LayerNorm((768,), eps=1e-05, elementwise_affine=True)\n",
       "        (attn): Attention(\n",
       "          (c_attn): Conv1D()\n",
       "          (c_proj): Conv1D()\n",
       "          (attn_dropout): Dropout(p=0.1, inplace=False)\n",
       "          (resid_dropout): Dropout(p=0.1, inplace=False)\n",
       "        )\n",
       "        (ln_2): LayerNorm((768,), eps=1e-05, elementwise_affine=True)\n",
       "        (mlp): MLP(\n",
       "          (c_fc): Conv1D()\n",
       "          (c_proj): Conv1D()\n",
       "          (dropout): Dropout(p=0.1, inplace=False)\n",
       "        )\n",
       "      )\n",
       "      (2): Block(\n",
       "        (ln_1): LayerNorm((768,), eps=1e-05, elementwise_affine=True)\n",
       "        (attn): Attention(\n",
       "          (c_attn): Conv1D()\n",
       "          (c_proj): Conv1D()\n",
       "          (attn_dropout): Dropout(p=0.1, inplace=False)\n",
       "          (resid_dropout): Dropout(p=0.1, inplace=False)\n",
       "        )\n",
       "        (ln_2): LayerNorm((768,), eps=1e-05, elementwise_affine=True)\n",
       "        (mlp): MLP(\n",
       "          (c_fc): Conv1D()\n",
       "          (c_proj): Conv1D()\n",
       "          (dropout): Dropout(p=0.1, inplace=False)\n",
       "        )\n",
       "      )\n",
       "      (3): Block(\n",
       "        (ln_1): LayerNorm((768,), eps=1e-05, elementwise_affine=True)\n",
       "        (attn): Attention(\n",
       "          (c_attn): Conv1D()\n",
       "          (c_proj): Conv1D()\n",
       "          (attn_dropout): Dropout(p=0.1, inplace=False)\n",
       "          (resid_dropout): Dropout(p=0.1, inplace=False)\n",
       "        )\n",
       "        (ln_2): LayerNorm((768,), eps=1e-05, elementwise_affine=True)\n",
       "        (mlp): MLP(\n",
       "          (c_fc): Conv1D()\n",
       "          (c_proj): Conv1D()\n",
       "          (dropout): Dropout(p=0.1, inplace=False)\n",
       "        )\n",
       "      )\n",
       "      (4): Block(\n",
       "        (ln_1): LayerNorm((768,), eps=1e-05, elementwise_affine=True)\n",
       "        (attn): Attention(\n",
       "          (c_attn): Conv1D()\n",
       "          (c_proj): Conv1D()\n",
       "          (attn_dropout): Dropout(p=0.1, inplace=False)\n",
       "          (resid_dropout): Dropout(p=0.1, inplace=False)\n",
       "        )\n",
       "        (ln_2): LayerNorm((768,), eps=1e-05, elementwise_affine=True)\n",
       "        (mlp): MLP(\n",
       "          (c_fc): Conv1D()\n",
       "          (c_proj): Conv1D()\n",
       "          (dropout): Dropout(p=0.1, inplace=False)\n",
       "        )\n",
       "      )\n",
       "      (5): Block(\n",
       "        (ln_1): LayerNorm((768,), eps=1e-05, elementwise_affine=True)\n",
       "        (attn): Attention(\n",
       "          (c_attn): Conv1D()\n",
       "          (c_proj): Conv1D()\n",
       "          (attn_dropout): Dropout(p=0.1, inplace=False)\n",
       "          (resid_dropout): Dropout(p=0.1, inplace=False)\n",
       "        )\n",
       "        (ln_2): LayerNorm((768,), eps=1e-05, elementwise_affine=True)\n",
       "        (mlp): MLP(\n",
       "          (c_fc): Conv1D()\n",
       "          (c_proj): Conv1D()\n",
       "          (dropout): Dropout(p=0.1, inplace=False)\n",
       "        )\n",
       "      )\n",
       "      (6): Block(\n",
       "        (ln_1): LayerNorm((768,), eps=1e-05, elementwise_affine=True)\n",
       "        (attn): Attention(\n",
       "          (c_attn): Conv1D()\n",
       "          (c_proj): Conv1D()\n",
       "          (attn_dropout): Dropout(p=0.1, inplace=False)\n",
       "          (resid_dropout): Dropout(p=0.1, inplace=False)\n",
       "        )\n",
       "        (ln_2): LayerNorm((768,), eps=1e-05, elementwise_affine=True)\n",
       "        (mlp): MLP(\n",
       "          (c_fc): Conv1D()\n",
       "          (c_proj): Conv1D()\n",
       "          (dropout): Dropout(p=0.1, inplace=False)\n",
       "        )\n",
       "      )\n",
       "      (7): Block(\n",
       "        (ln_1): LayerNorm((768,), eps=1e-05, elementwise_affine=True)\n",
       "        (attn): Attention(\n",
       "          (c_attn): Conv1D()\n",
       "          (c_proj): Conv1D()\n",
       "          (attn_dropout): Dropout(p=0.1, inplace=False)\n",
       "          (resid_dropout): Dropout(p=0.1, inplace=False)\n",
       "        )\n",
       "        (ln_2): LayerNorm((768,), eps=1e-05, elementwise_affine=True)\n",
       "        (mlp): MLP(\n",
       "          (c_fc): Conv1D()\n",
       "          (c_proj): Conv1D()\n",
       "          (dropout): Dropout(p=0.1, inplace=False)\n",
       "        )\n",
       "      )\n",
       "      (8): Block(\n",
       "        (ln_1): LayerNorm((768,), eps=1e-05, elementwise_affine=True)\n",
       "        (attn): Attention(\n",
       "          (c_attn): Conv1D()\n",
       "          (c_proj): Conv1D()\n",
       "          (attn_dropout): Dropout(p=0.1, inplace=False)\n",
       "          (resid_dropout): Dropout(p=0.1, inplace=False)\n",
       "        )\n",
       "        (ln_2): LayerNorm((768,), eps=1e-05, elementwise_affine=True)\n",
       "        (mlp): MLP(\n",
       "          (c_fc): Conv1D()\n",
       "          (c_proj): Conv1D()\n",
       "          (dropout): Dropout(p=0.1, inplace=False)\n",
       "        )\n",
       "      )\n",
       "      (9): Block(\n",
       "        (ln_1): LayerNorm((768,), eps=1e-05, elementwise_affine=True)\n",
       "        (attn): Attention(\n",
       "          (c_attn): Conv1D()\n",
       "          (c_proj): Conv1D()\n",
       "          (attn_dropout): Dropout(p=0.1, inplace=False)\n",
       "          (resid_dropout): Dropout(p=0.1, inplace=False)\n",
       "        )\n",
       "        (ln_2): LayerNorm((768,), eps=1e-05, elementwise_affine=True)\n",
       "        (mlp): MLP(\n",
       "          (c_fc): Conv1D()\n",
       "          (c_proj): Conv1D()\n",
       "          (dropout): Dropout(p=0.1, inplace=False)\n",
       "        )\n",
       "      )\n",
       "      (10): Block(\n",
       "        (ln_1): LayerNorm((768,), eps=1e-05, elementwise_affine=True)\n",
       "        (attn): Attention(\n",
       "          (c_attn): Conv1D()\n",
       "          (c_proj): Conv1D()\n",
       "          (attn_dropout): Dropout(p=0.1, inplace=False)\n",
       "          (resid_dropout): Dropout(p=0.1, inplace=False)\n",
       "        )\n",
       "        (ln_2): LayerNorm((768,), eps=1e-05, elementwise_affine=True)\n",
       "        (mlp): MLP(\n",
       "          (c_fc): Conv1D()\n",
       "          (c_proj): Conv1D()\n",
       "          (dropout): Dropout(p=0.1, inplace=False)\n",
       "        )\n",
       "      )\n",
       "      (11): Block(\n",
       "        (ln_1): LayerNorm((768,), eps=1e-05, elementwise_affine=True)\n",
       "        (attn): Attention(\n",
       "          (c_attn): Conv1D()\n",
       "          (c_proj): Conv1D()\n",
       "          (attn_dropout): Dropout(p=0.1, inplace=False)\n",
       "          (resid_dropout): Dropout(p=0.1, inplace=False)\n",
       "        )\n",
       "        (ln_2): LayerNorm((768,), eps=1e-05, elementwise_affine=True)\n",
       "        (mlp): MLP(\n",
       "          (c_fc): Conv1D()\n",
       "          (c_proj): Conv1D()\n",
       "          (dropout): Dropout(p=0.1, inplace=False)\n",
       "        )\n",
       "      )\n",
       "    )\n",
       "    (ln_f): LayerNorm((768,), eps=1e-05, elementwise_affine=True)\n",
       "  )\n",
       "  (lm_head): Linear(in_features=0, out_features=50257, bias=False)\n",
       ")"
      ]
     },
     "execution_count": 62,
     "metadata": {},
     "output_type": "execute_result"
    }
   ],
   "source": [
    "model"
   ]
  },
  {
   "cell_type": "code",
   "execution_count": 63,
   "id": "ef88a7ab",
   "metadata": {},
   "outputs": [
    {
     "data": {
      "text/plain": [
       "' flooding'"
      ]
     },
     "execution_count": 63,
     "metadata": {},
     "output_type": "execute_result"
    }
   ],
   "source": [
    "expected_token_id = 17448\n",
    "tokenizer.decode(expected_token_id)"
   ]
  },
  {
   "cell_type": "markdown",
   "id": "bb67b51e",
   "metadata": {},
   "source": [
    "Apply the Captum Integrated Gradients algorithm to attribute this token to the input embedding vectors.\n",
    "We don't use the GPTNeoForCausalLM model because it is not straightforward to apply attribution to the embedding step (though it should be possible using [Captum Interpretable Embeddings](https://captum.ai/api/utilities.html#interpretable-embeddings) )\n",
    "The model is wrapped in a function to allow transformer.forward be called with named argument, and to return the relevant logit as a single record 1d-tensor."
   ]
  },
  {
   "cell_type": "code",
   "execution_count": 64,
   "id": "7efd586c",
   "metadata": {},
   "outputs": [],
   "source": [
    "from captum.attr import IntegratedGradients\n",
    "\n",
    "embeds = model.transformer.wte(tokens)\n",
    "\n",
    "def forward_with_embeds(embeds):\n",
    "    transformer_outputs = model.transformer.forward(inputs_embeds=embeds)\n",
    "    hidden_states = transformer_outputs[0]\n",
    "    lm_logits = model.lm_head(hidden_states)\n",
    "    return lm_logits[0,-1,expected_token_id:expected_token_id+1]\n",
    "\n",
    "ig=IntegratedGradients(forward_with_embeds)\n",
    "embeds.requires_grad_()\n",
    "attr, delta = ig.attribute(embeds,return_convergence_delta=True)#, target=expected_token_id)\n",
    "attr = attr.detach().cpu().numpy()"
   ]
  },
  {
   "cell_type": "markdown",
   "id": "62f95f88",
   "metadata": {},
   "source": [
    "attribution result is num input tokens by vector length"
   ]
  },
  {
   "cell_type": "code",
   "execution_count": 65,
   "id": "37976fb8",
   "metadata": {},
   "outputs": [
    {
     "data": {
      "text/plain": [
       "(17, 768)"
      ]
     },
     "execution_count": 65,
     "metadata": {},
     "output_type": "execute_result"
    }
   ],
   "source": [
    "attr[0].shape"
   ]
  },
  {
   "cell_type": "markdown",
   "id": "20a22bd1",
   "metadata": {},
   "source": [
    "No obvious pattern in the attribution for a single vector"
   ]
  },
  {
   "cell_type": "code",
   "execution_count": 66,
   "id": "2c540632",
   "metadata": {},
   "outputs": [
    {
     "data": {
      "text/plain": [
       "[<matplotlib.lines.Line2D at 0x262c9a41400>]"
      ]
     },
     "execution_count": 66,
     "metadata": {},
     "output_type": "execute_result"
    },
    {
     "data": {
      "image/png": "[encoded data removed]",
      "text/plain": [
       "<Figure size 432x288 with 1 Axes>"
      ]
     },
     "metadata": {
      "needs_background": "light"
     },
     "output_type": "display_data"
    }
   ],
   "source": [
    "import matplotlib.pyplot as plt\n",
    "plt.plot(attr[0,16])\n"
   ]
  },
  {
   "cell_type": "markdown",
   "id": "5f4bbfb0",
   "metadata": {},
   "source": [
    "The norm of attributions for each input token looks vaguely sensible. Need to check if this matches other attribution methods - \n",
    "e.g. using Ecco and Captum Saliency."
   ]
  },
  {
   "cell_type": "code",
   "execution_count": 67,
   "id": "d84c1c3e",
   "metadata": {},
   "outputs": [
    {
     "data": {
      "image/png": "[encoded data removed]",
      "text/plain": [
       "<Figure size 432x288 with 1 Axes>"
      ]
     },
     "metadata": {
      "needs_background": "light"
     },
     "output_type": "display_data"
    }
   ],
   "source": [
    "import numpy as np\n",
    "norms = np.linalg.norm(attr[0], axis=1)\n",
    "labels = [tokenizer.decode(token) for token in tokens[0]]\n",
    "#plt.plot(labels, norms)\n",
    "fig, ax = plt.subplots()\n",
    "ax.plot(norms)\n",
    "ax.set_xticks(np.arange(attr.shape[1]))\n",
    "\n",
    "ax.set_xticklabels(labels,rotation='vertical')\n",
    "plt.show()\n"
   ]
  },
  {
   "cell_type": "code",
   "execution_count": 68,
   "id": "3227cebd",
   "metadata": {},
   "outputs": [
    {
     "data": {
      "image/png": "[encoded data removed]",
      "text/plain": [
       "<Figure size 432x288 with 1 Axes>"
      ]
     },
     "metadata": {
      "needs_background": "light"
     },
     "output_type": "display_data"
    }
   ],
   "source": [
    "norms = np.linalg.norm(attr[0], axis=1)\n",
    "#plt.pcolor(norms[np.newaxis,:])\n",
    "fig, ax = plt.subplots()\n",
    "ax.pcolor(norms[np.newaxis,:])\n",
    "ax.set_xticks(np.arange(attr.shape[1]))\n",
    "ax.set_yticks([])\n",
    "ax.set_xticklabels(labels,rotation='vertical')\n",
    "plt.show()"
   ]
  },
  {
   "cell_type": "markdown",
   "id": "76efebda",
   "metadata": {},
   "source": [
    "No obvious pattern in showing full attribution vectors for all input embedding vectors. "
   ]
  },
  {
   "cell_type": "code",
   "execution_count": 69,
   "id": "671fb27f",
   "metadata": {},
   "outputs": [
    {
     "data": {
      "image/png": "[encoded data removed]",
      "text/plain": [
       "<Figure size 432x288 with 1 Axes>"
      ]
     },
     "metadata": {
      "needs_background": "light"
     },
     "output_type": "display_data"
    }
   ],
   "source": [
    "norms = map(norm,attr[0])\n",
    "fig, ax = plt.subplots()\n",
    "ax.pcolor(attr[0])\n",
    "#ax.imshow(norms[np.newaxis,:])\n",
    "ax.set_yticks(np.arange(attr.shape[1]))\n",
    "ax.set_yticklabels(labels)\n",
    "fig.tight_layout()\n",
    "plt.show()"
   ]
  },
  {
   "cell_type": "markdown",
   "id": "c77e5d7a",
   "metadata": {},
   "source": [
    "Next step is to attribute from output logits to hidden layers and history.\n",
    "\n",
    "The idea would be to generate a [Graph_(discrete_mathematics)](https://en.wikipedia.org/wiki/Graph_(discrete_mathematics)) based on whether attribution is from earlier positions or lower layers"
   ]
  },
  {
   "cell_type": "code",
   "execution_count": null,
   "id": "613550d1",
   "metadata": {},
   "outputs": [],
   "source": []
  }
 ],
 "metadata": {
  "kernelspec": {
   "display_name": "Python 3",
   "language": "python",
   "name": "python3"
  },
  "language_info": {
   "codemirror_mode": {
    "name": "ipython",
    "version": 3
   },
   "file_extension": ".py",
   "mimetype": "text/x-python",
   "name": "python",
   "nbconvert_exporter": "python",
   "pygments_lexer": "ipython3",
   "version": "3.9.1"
  }
 },
 "nbformat": 4,
 "nbformat_minor": 5
}
