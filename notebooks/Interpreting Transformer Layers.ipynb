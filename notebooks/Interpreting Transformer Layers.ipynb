{
 "cells": [
  {
   "cell_type": "markdown",
   "id": "5c4e9a63",
   "metadata": {},
   "source": [
    "Functional Discourse Grammar is normally used to describe the production of spoken language in a way that is comparable across widely differing languages. Can we define a notation informed by FDG to describe the structure of a transformer model?\n",
    "\n",
    "The features of such a notation include:\n",
    "* Describe a discourse, not just a sentence\n",
    "* Utterances are described in parallel at a number of levels, which are completed in parallel as the sentence is completed.  There are links between the levels, FDG describes 4 levels, including the phonological layer which is less relevant to text proessing. Lower levels follow the actual word ordering more closely, upper levels may not be completed out of order. \n",
    "* Each level has a hierarchically ordered layered organization. \n",
    "* Layers always have a head, and usually a modifier (both of which may themselves be layers or lexical content), and may also be specified by a linguistic-operator and carry a linguistic-function.\n",
    "\n",
    "Challenges include similar terminology with quiet distinct meanings.In particular the use of layer and function in FDG may lead to confusion, I will attempt to be specific in referring to linguistic-layer and transformer-layers.\n",
    "\n",
    "A key difference between transformer language models and typical FDG tasks is that FDG is focussed primarily on the formulation of speech rather than language interpretation, while generative language models both intepret and formulate language, with an indistinct boundary between the two. I expect the first and last layers to remain close to morphosyntactic representation, and internal transformer-layers to be reflect the interpersonal and representational linguistic-levels."
   ]
  },
  {
   "cell_type": "markdown",
   "id": "045ace02",
   "metadata": {},
   "source": [
    "I do not propose trying to train a network to interpret an utterance using FDG - I am sure this would be possible since analysis using more widely used linguistic representations are already possible. I am more interested in what parallels there may be between the structure of the transformer latent space and the structure of FDG\n",
    "\n",
    "My understanding of the transformer architecture is that the token generated depends on a transformation of the same position in a lower transformer-level, and through attention heads on other positions in the same level. (describe this more rigorously...)\n",
    "\n",
    "The idea is to identify elements that span multiple consecutive positions within a transformer-layer based on \n",
    "a) identifying sets of neurons that have been  significant to later positions\n",
    "b) identifying how long those neurons remain active \n",
    "c) where they came from (previous history or lower layers)\n",
    "\n",
    "step down through levels to identify where certain activation patterns were introduced, then search across to identify which positions in history at that level contributed. These are then treated as starting points on that layer.\n",
    "\n",
    "\n",
    "\n",
    "\n"
   ]
  },
  {
   "cell_type": "code",
   "execution_count": 1,
   "id": "b39f12e3",
   "metadata": {},
   "outputs": [
    {
     "name": "stderr",
     "output_type": "stream",
     "text": [
      "c:\\users\\stephenprior\\.virtualenvs\\transformer-utils-kjd8b5rh\\lib\\site-packages\\torch\\nn\\modules\\lazy.py:175: UserWarning: Lazy modules are a new feature under heavy development so changes to the API or functionality can happen at any moment.\n",
      "  warnings.warn('Lazy modules are a new feature under heavy development '\n"
     ]
    }
   ],
   "source": [
    "from transformer_utils.low_memory import enable_low_memory_load\n",
    "import transformers\n",
    "\n",
    "enable_low_memory_load()\n",
    "tokenizer = transformers.AutoTokenizer.from_pretrained(\"gpt2\")\n",
    "model = transformers.AutoModelForCausalLM.from_pretrained('EleutherAI/gpt-neo-125M')\n"
   ]
  },
  {
   "cell_type": "markdown",
   "id": "c2dc9f13",
   "metadata": {},
   "source": [
    "Embeds 50,257 BPE vocab tokens to 768-dimensional latent space."
   ]
  },
  {
   "cell_type": "code",
   "execution_count": 2,
   "id": "2214439e",
   "metadata": {},
   "outputs": [
    {
     "data": {
      "text/plain": [
       "Embedding(50257, 768)"
      ]
     },
     "execution_count": 2,
     "metadata": {},
     "output_type": "execute_result"
    }
   ],
   "source": [
    "model.transformer.wte"
   ]
  },
  {
   "cell_type": "markdown",
   "id": "3f4a3e61",
   "metadata": {},
   "source": [
    "Embeds 2048 token positions to 768-dimensional latent space."
   ]
  },
  {
   "cell_type": "code",
   "execution_count": 3,
   "id": "6a00e2cb",
   "metadata": {},
   "outputs": [
    {
     "data": {
      "text/plain": [
       "Embedding(2048, 768)"
      ]
     },
     "execution_count": 3,
     "metadata": {},
     "output_type": "execute_result"
    }
   ],
   "source": [
    "model.transformer.wpe"
   ]
  },
  {
   "cell_type": "code",
   "execution_count": 4,
   "id": "be6937f2",
   "metadata": {},
   "outputs": [
    {
     "data": {
      "text/plain": [
       "GPTNeoBlock(\n",
       "  (ln_1): LayerNorm((768,), eps=1e-05, elementwise_affine=True)\n",
       "  (attn): GPTNeoAttention(\n",
       "    (attention): GPTNeoSelfAttention(\n",
       "      (attn_dropout): Dropout(p=0, inplace=False)\n",
       "      (resid_dropout): Dropout(p=0, inplace=False)\n",
       "      (k_proj): Linear(in_features=0, out_features=768, bias=False)\n",
       "      (v_proj): Linear(in_features=0, out_features=768, bias=False)\n",
       "      (q_proj): Linear(in_features=0, out_features=768, bias=False)\n",
       "      (out_proj): Linear(in_features=0, out_features=768, bias=True)\n",
       "    )\n",
       "  )\n",
       "  (ln_2): LayerNorm((768,), eps=1e-05, elementwise_affine=True)\n",
       "  (mlp): GPTNeoMLP(\n",
       "    (c_fc): Linear(in_features=0, out_features=3072, bias=True)\n",
       "    (c_proj): Linear(in_features=0, out_features=768, bias=True)\n",
       "    (dropout): Dropout(p=0, inplace=False)\n",
       "  )\n",
       ")"
      ]
     },
     "execution_count": 4,
     "metadata": {},
     "output_type": "execute_result"
    }
   ],
   "source": [
    "model.transformer.h[0]"
   ]
  },
  {
   "cell_type": "code",
   "execution_count": 5,
   "id": "7868ee44",
   "metadata": {},
   "outputs": [],
   "source": [
    "import torch\n",
    "def text_to_input_ids(text):\n",
    "    toks = tokenizer.encode(text)\n",
    "    return torch.as_tensor(toks).view(1, -1).cuda()"
   ]
  },
  {
   "cell_type": "code",
   "execution_count": 6,
   "id": "3206bb39",
   "metadata": {},
   "outputs": [],
   "source": [
    "from transformer_utils.partial_forward import partial_forward\n"
   ]
  },
  {
   "cell_type": "code",
   "execution_count": 7,
   "id": "10bc0708",
   "metadata": {},
   "outputs": [],
   "source": [
    "\n",
    "input_ids = text_to_input_ids(\"Watch out, because there is a bull in the field. Don't\")\n"
   ]
  },
  {
   "cell_type": "code",
   "execution_count": 8,
   "id": "0123b5be",
   "metadata": {},
   "outputs": [
    {
     "data": {
      "text/plain": [
       "tensor([[10723,   503,    11,   780,   612,   318,   257,  6473,   287,   262,\n",
       "          2214,    13,  2094,   470]], device='cuda:0')"
      ]
     },
     "execution_count": 8,
     "metadata": {},
     "output_type": "execute_result"
    }
   ],
   "source": [
    "input_ids"
   ]
  },
  {
   "cell_type": "code",
   "execution_count": 9,
   "id": "03852787",
   "metadata": {},
   "outputs": [
    {
     "data": {
      "text/plain": [
       "[\"Watch out, because there is a bull in the field. Don't\"]"
      ]
     },
     "execution_count": 9,
     "metadata": {},
     "output_type": "execute_result"
    }
   ],
   "source": [
    "tokenizer.batch_decode(input_ids)"
   ]
  },
  {
   "cell_type": "code",
   "execution_count": 10,
   "id": "f7309524",
   "metadata": {},
   "outputs": [
    {
     "data": {
      "text/plain": [
       "'Watch'"
      ]
     },
     "execution_count": 10,
     "metadata": {},
     "output_type": "execute_result"
    }
   ],
   "source": [
    "tokenizer.decode(10723)"
   ]
  },
  {
   "cell_type": "code",
   "execution_count": 11,
   "id": "bbe6b8ab",
   "metadata": {},
   "outputs": [
    {
     "data": {
      "text/plain": [
       "torch.Size([1, 14])"
      ]
     },
     "execution_count": 11,
     "metadata": {},
     "output_type": "execute_result"
    }
   ],
   "source": [
    "input_ids.shape"
   ]
  },
  {
   "cell_type": "code",
   "execution_count": 12,
   "id": "a3ead924",
   "metadata": {},
   "outputs": [
    {
     "data": {
      "text/plain": [
       "torch.Size([1, 14, 768])"
      ]
     },
     "execution_count": 12,
     "metadata": {},
     "output_type": "execute_result"
    }
   ],
   "source": [
    "    output_names=['h.0', 'h.1','h.2','h.3', 'h.4','h.5','h.6', 'h.7','h.8','h.9','h.10','h.11']\n",
    "    with torch.no_grad():\n",
    "        hidden_states = partial_forward(\n",
    "            model.base_model,\n",
    "            output_names,\n",
    "            input_ids,\n",
    "        )\n",
    "    hidden_states['h.11'].shape"
   ]
  },
  {
   "cell_type": "code",
   "execution_count": 13,
   "id": "9037dd22",
   "metadata": {},
   "outputs": [
    {
     "data": {
      "text/plain": [
       "torch.Size([768])"
      ]
     },
     "execution_count": 13,
     "metadata": {},
     "output_type": "execute_result"
    }
   ],
   "source": [
    "    hidden_states['h.11'][0][0].shape"
   ]
  },
  {
   "cell_type": "code",
   "execution_count": 14,
   "id": "5eac94ef",
   "metadata": {},
   "outputs": [
    {
     "data": {
      "text/plain": [
       "array(200.0554, dtype=float32)"
      ]
     },
     "execution_count": 14,
     "metadata": {},
     "output_type": "execute_result"
    }
   ],
   "source": [
    "\n",
    "    \n",
    "torch.linalg.norm(hidden_states['h.11'][0][0]).cpu().numpy()"
   ]
  },
  {
   "cell_type": "code",
   "execution_count": 15,
   "id": "908ed5e6",
   "metadata": {},
   "outputs": [],
   "source": [
    "%matplotlib inline\n",
    "import matplotlib.pyplot as plt\n",
    "import numpy as np\n",
    "\n"
   ]
  },
  {
   "cell_type": "code",
   "execution_count": 16,
   "id": "0e97a07e",
   "metadata": {},
   "outputs": [
    {
     "data": {
      "text/plain": [
       "[<matplotlib.lines.Line2D at 0x22895a9d790>]"
      ]
     },
     "execution_count": 16,
     "metadata": {},
     "output_type": "execute_result"
    },
    {
     "data": {
      "image/png": "[encoded data removed]",
      "text/plain": [
       "<Figure size 432x288 with 1 Axes>"
      ]
     },
     "metadata": {
      "needs_background": "light"
     },
     "output_type": "display_data"
    }
   ],
   "source": [
    "#plot the norm of hidden states across layers for first word \n",
    "def norm(layer):\n",
    "    return torch.linalg.norm(hidden_states[layer][0][0]).cpu().numpy()\n",
    "\n",
    "norms = list(map(norm,output_names))\n",
    "plt.plot(output_names,norms)\n",
    "\n"
   ]
  },
  {
   "cell_type": "code",
   "execution_count": 17,
   "id": "bcb93733",
   "metadata": {},
   "outputs": [
    {
     "data": {
      "text/plain": [
       "[<matplotlib.lines.Line2D at 0x228988f38e0>]"
      ]
     },
     "execution_count": 17,
     "metadata": {},
     "output_type": "execute_result"
    },
    {
     "data": {
      "image/png": "[encoded data removed]",
      "text/plain": [
       "<Figure size 432x288 with 1 Axes>"
      ]
     },
     "metadata": {
      "needs_background": "light"
     },
     "output_type": "display_data"
    }
   ],
   "source": [
    "#plot the norm of hidden states across layers for second word (later ones are fairly similar)\n",
    "\n",
    "def norm(layer):\n",
    "    return torch.linalg.norm(hidden_states[layer][0][1]).cpu().numpy()\n",
    "\n",
    "norms = list(map(norm,output_names))\n",
    "plt.plot(output_names,norms)"
   ]
  },
  {
   "cell_type": "code",
   "execution_count": 18,
   "id": "66aa3c4b",
   "metadata": {},
   "outputs": [
    {
     "data": {
      "text/plain": [
       "[<matplotlib.lines.Line2D at 0x22898966970>]"
      ]
     },
     "execution_count": 18,
     "metadata": {},
     "output_type": "execute_result"
    },
    {
     "data": {
      "image/png": "[encoded data removed]",
      "text/plain": [
       "<Figure size 432x288 with 1 Axes>"
      ]
     },
     "metadata": {
      "needs_background": "light"
     },
     "output_type": "display_data"
    }
   ],
   "source": [
    "#hidden state waveform for first word\n",
    "plt.plot(hidden_states['h.0'][0][0].cpu().numpy())\n",
    "\n"
   ]
  },
  {
   "cell_type": "code",
   "execution_count": 19,
   "id": "6239b8b9",
   "metadata": {},
   "outputs": [
    {
     "data": {
      "text/plain": [
       "'Watch'"
      ]
     },
     "execution_count": 19,
     "metadata": {},
     "output_type": "execute_result"
    }
   ],
   "source": [
    "tokenizer.decode(10723)"
   ]
  },
  {
   "cell_type": "code",
   "execution_count": 20,
   "id": "d692340d",
   "metadata": {},
   "outputs": [
    {
     "data": {
      "text/plain": [
       "[10723]"
      ]
     },
     "execution_count": 20,
     "metadata": {},
     "output_type": "execute_result"
    }
   ],
   "source": [
    "tokenizer.encode('Watch')"
   ]
  },
  {
   "cell_type": "code",
   "execution_count": null,
   "id": "d0e17f5a",
   "metadata": {},
   "outputs": [],
   "source": []
  },
  {
   "cell_type": "code",
   "execution_count": 21,
   "id": "2d89baf2",
   "metadata": {},
   "outputs": [],
   "source": [
    "last_layer_normed = model.base_model.ln_f(hidden_states['h.11'][0])\n",
    "all_logits = model.lm_head(last_layer_normed)"
   ]
  },
  {
   "cell_type": "code",
   "execution_count": 22,
   "id": "d76fabf8",
   "metadata": {},
   "outputs": [],
   "source": [
    "logits=all_logits[0]"
   ]
  },
  {
   "cell_type": "code",
   "execution_count": 23,
   "id": "b9e71727",
   "metadata": {},
   "outputs": [
    {
     "data": {
      "text/plain": [
       "(torch.Size([50257]),\n",
       " tensor([ -3.3300,  -2.4929,  -7.4483,  ..., -14.6817, -10.4255,  -5.0853],\n",
       "        device='cuda:0', grad_fn=<SelectBackward>))"
      ]
     },
     "execution_count": 23,
     "metadata": {},
     "output_type": "execute_result"
    }
   ],
   "source": [
    "logits.shape, logits"
   ]
  },
  {
   "cell_type": "code",
   "execution_count": 24,
   "id": "c38f08dc",
   "metadata": {},
   "outputs": [
    {
     "data": {
      "text/plain": [
       "tensor(278, device='cuda:0')"
      ]
     },
     "execution_count": 24,
     "metadata": {},
     "output_type": "execute_result"
    }
   ],
   "source": [
    "torch.argmax(logits)"
   ]
  },
  {
   "cell_type": "code",
   "execution_count": 25,
   "id": "e3027bb8",
   "metadata": {},
   "outputs": [
    {
     "data": {
      "text/plain": [
       "tensor(486, device='cuda:0')"
      ]
     },
     "execution_count": 25,
     "metadata": {},
     "output_type": "execute_result"
    }
   ],
   "source": [
    "torch.argmax(last_layer_normed[0])"
   ]
  },
  {
   "cell_type": "code",
   "execution_count": 26,
   "id": "9f3338b4",
   "metadata": {},
   "outputs": [
    {
     "data": {
      "text/plain": [
       "'ide'"
      ]
     },
     "execution_count": 26,
     "metadata": {},
     "output_type": "execute_result"
    }
   ],
   "source": [
    "tokenizer.decode(485)"
   ]
  },
  {
   "cell_type": "code",
   "execution_count": 27,
   "id": "8b1de8db",
   "metadata": {},
   "outputs": [
    {
     "data": {
      "text/plain": [
       "GPTNeoForCausalLM(\n",
       "  (transformer): GPTNeoModel(\n",
       "    (wte): Embedding(50257, 768)\n",
       "    (wpe): Embedding(2048, 768)\n",
       "    (drop): Dropout(p=0, inplace=False)\n",
       "    (h): ModuleList(\n",
       "      (0): GPTNeoBlock(\n",
       "        (ln_1): LayerNorm((768,), eps=1e-05, elementwise_affine=True)\n",
       "        (attn): GPTNeoAttention(\n",
       "          (attention): GPTNeoSelfAttention(\n",
       "            (attn_dropout): Dropout(p=0, inplace=False)\n",
       "            (resid_dropout): Dropout(p=0, inplace=False)\n",
       "            (k_proj): Linear(in_features=0, out_features=768, bias=False)\n",
       "            (v_proj): Linear(in_features=0, out_features=768, bias=False)\n",
       "            (q_proj): Linear(in_features=0, out_features=768, bias=False)\n",
       "            (out_proj): Linear(in_features=0, out_features=768, bias=True)\n",
       "          )\n",
       "        )\n",
       "        (ln_2): LayerNorm((768,), eps=1e-05, elementwise_affine=True)\n",
       "        (mlp): GPTNeoMLP(\n",
       "          (c_fc): Linear(in_features=0, out_features=3072, bias=True)\n",
       "          (c_proj): Linear(in_features=0, out_features=768, bias=True)\n",
       "          (dropout): Dropout(p=0, inplace=False)\n",
       "        )\n",
       "      )\n",
       "      (1): GPTNeoBlock(\n",
       "        (ln_1): LayerNorm((768,), eps=1e-05, elementwise_affine=True)\n",
       "        (attn): GPTNeoAttention(\n",
       "          (attention): GPTNeoLocalSelfAttention(\n",
       "            (attn_dropout): Dropout(p=0, inplace=False)\n",
       "            (resid_dropout): Dropout(p=0, inplace=False)\n",
       "            (k_proj): Linear(in_features=0, out_features=768, bias=False)\n",
       "            (v_proj): Linear(in_features=0, out_features=768, bias=False)\n",
       "            (q_proj): Linear(in_features=0, out_features=768, bias=False)\n",
       "            (out_proj): Linear(in_features=0, out_features=768, bias=True)\n",
       "          )\n",
       "        )\n",
       "        (ln_2): LayerNorm((768,), eps=1e-05, elementwise_affine=True)\n",
       "        (mlp): GPTNeoMLP(\n",
       "          (c_fc): Linear(in_features=0, out_features=3072, bias=True)\n",
       "          (c_proj): Linear(in_features=0, out_features=768, bias=True)\n",
       "          (dropout): Dropout(p=0, inplace=False)\n",
       "        )\n",
       "      )\n",
       "      (2): GPTNeoBlock(\n",
       "        (ln_1): LayerNorm((768,), eps=1e-05, elementwise_affine=True)\n",
       "        (attn): GPTNeoAttention(\n",
       "          (attention): GPTNeoSelfAttention(\n",
       "            (attn_dropout): Dropout(p=0, inplace=False)\n",
       "            (resid_dropout): Dropout(p=0, inplace=False)\n",
       "            (k_proj): Linear(in_features=0, out_features=768, bias=False)\n",
       "            (v_proj): Linear(in_features=0, out_features=768, bias=False)\n",
       "            (q_proj): Linear(in_features=0, out_features=768, bias=False)\n",
       "            (out_proj): Linear(in_features=0, out_features=768, bias=True)\n",
       "          )\n",
       "        )\n",
       "        (ln_2): LayerNorm((768,), eps=1e-05, elementwise_affine=True)\n",
       "        (mlp): GPTNeoMLP(\n",
       "          (c_fc): Linear(in_features=0, out_features=3072, bias=True)\n",
       "          (c_proj): Linear(in_features=0, out_features=768, bias=True)\n",
       "          (dropout): Dropout(p=0, inplace=False)\n",
       "        )\n",
       "      )\n",
       "      (3): GPTNeoBlock(\n",
       "        (ln_1): LayerNorm((768,), eps=1e-05, elementwise_affine=True)\n",
       "        (attn): GPTNeoAttention(\n",
       "          (attention): GPTNeoLocalSelfAttention(\n",
       "            (attn_dropout): Dropout(p=0, inplace=False)\n",
       "            (resid_dropout): Dropout(p=0, inplace=False)\n",
       "            (k_proj): Linear(in_features=0, out_features=768, bias=False)\n",
       "            (v_proj): Linear(in_features=0, out_features=768, bias=False)\n",
       "            (q_proj): Linear(in_features=0, out_features=768, bias=False)\n",
       "            (out_proj): Linear(in_features=0, out_features=768, bias=True)\n",
       "          )\n",
       "        )\n",
       "        (ln_2): LayerNorm((768,), eps=1e-05, elementwise_affine=True)\n",
       "        (mlp): GPTNeoMLP(\n",
       "          (c_fc): Linear(in_features=0, out_features=3072, bias=True)\n",
       "          (c_proj): Linear(in_features=0, out_features=768, bias=True)\n",
       "          (dropout): Dropout(p=0, inplace=False)\n",
       "        )\n",
       "      )\n",
       "      (4): GPTNeoBlock(\n",
       "        (ln_1): LayerNorm((768,), eps=1e-05, elementwise_affine=True)\n",
       "        (attn): GPTNeoAttention(\n",
       "          (attention): GPTNeoSelfAttention(\n",
       "            (attn_dropout): Dropout(p=0, inplace=False)\n",
       "            (resid_dropout): Dropout(p=0, inplace=False)\n",
       "            (k_proj): Linear(in_features=0, out_features=768, bias=False)\n",
       "            (v_proj): Linear(in_features=0, out_features=768, bias=False)\n",
       "            (q_proj): Linear(in_features=0, out_features=768, bias=False)\n",
       "            (out_proj): Linear(in_features=0, out_features=768, bias=True)\n",
       "          )\n",
       "        )\n",
       "        (ln_2): LayerNorm((768,), eps=1e-05, elementwise_affine=True)\n",
       "        (mlp): GPTNeoMLP(\n",
       "          (c_fc): Linear(in_features=0, out_features=3072, bias=True)\n",
       "          (c_proj): Linear(in_features=0, out_features=768, bias=True)\n",
       "          (dropout): Dropout(p=0, inplace=False)\n",
       "        )\n",
       "      )\n",
       "      (5): GPTNeoBlock(\n",
       "        (ln_1): LayerNorm((768,), eps=1e-05, elementwise_affine=True)\n",
       "        (attn): GPTNeoAttention(\n",
       "          (attention): GPTNeoLocalSelfAttention(\n",
       "            (attn_dropout): Dropout(p=0, inplace=False)\n",
       "            (resid_dropout): Dropout(p=0, inplace=False)\n",
       "            (k_proj): Linear(in_features=0, out_features=768, bias=False)\n",
       "            (v_proj): Linear(in_features=0, out_features=768, bias=False)\n",
       "            (q_proj): Linear(in_features=0, out_features=768, bias=False)\n",
       "            (out_proj): Linear(in_features=0, out_features=768, bias=True)\n",
       "          )\n",
       "        )\n",
       "        (ln_2): LayerNorm((768,), eps=1e-05, elementwise_affine=True)\n",
       "        (mlp): GPTNeoMLP(\n",
       "          (c_fc): Linear(in_features=0, out_features=3072, bias=True)\n",
       "          (c_proj): Linear(in_features=0, out_features=768, bias=True)\n",
       "          (dropout): Dropout(p=0, inplace=False)\n",
       "        )\n",
       "      )\n",
       "      (6): GPTNeoBlock(\n",
       "        (ln_1): LayerNorm((768,), eps=1e-05, elementwise_affine=True)\n",
       "        (attn): GPTNeoAttention(\n",
       "          (attention): GPTNeoSelfAttention(\n",
       "            (attn_dropout): Dropout(p=0, inplace=False)\n",
       "            (resid_dropout): Dropout(p=0, inplace=False)\n",
       "            (k_proj): Linear(in_features=0, out_features=768, bias=False)\n",
       "            (v_proj): Linear(in_features=0, out_features=768, bias=False)\n",
       "            (q_proj): Linear(in_features=0, out_features=768, bias=False)\n",
       "            (out_proj): Linear(in_features=0, out_features=768, bias=True)\n",
       "          )\n",
       "        )\n",
       "        (ln_2): LayerNorm((768,), eps=1e-05, elementwise_affine=True)\n",
       "        (mlp): GPTNeoMLP(\n",
       "          (c_fc): Linear(in_features=0, out_features=3072, bias=True)\n",
       "          (c_proj): Linear(in_features=0, out_features=768, bias=True)\n",
       "          (dropout): Dropout(p=0, inplace=False)\n",
       "        )\n",
       "      )\n",
       "      (7): GPTNeoBlock(\n",
       "        (ln_1): LayerNorm((768,), eps=1e-05, elementwise_affine=True)\n",
       "        (attn): GPTNeoAttention(\n",
       "          (attention): GPTNeoLocalSelfAttention(\n",
       "            (attn_dropout): Dropout(p=0, inplace=False)\n",
       "            (resid_dropout): Dropout(p=0, inplace=False)\n",
       "            (k_proj): Linear(in_features=0, out_features=768, bias=False)\n",
       "            (v_proj): Linear(in_features=0, out_features=768, bias=False)\n",
       "            (q_proj): Linear(in_features=0, out_features=768, bias=False)\n",
       "            (out_proj): Linear(in_features=0, out_features=768, bias=True)\n",
       "          )\n",
       "        )\n",
       "        (ln_2): LayerNorm((768,), eps=1e-05, elementwise_affine=True)\n",
       "        (mlp): GPTNeoMLP(\n",
       "          (c_fc): Linear(in_features=0, out_features=3072, bias=True)\n",
       "          (c_proj): Linear(in_features=0, out_features=768, bias=True)\n",
       "          (dropout): Dropout(p=0, inplace=False)\n",
       "        )\n",
       "      )\n",
       "      (8): GPTNeoBlock(\n",
       "        (ln_1): LayerNorm((768,), eps=1e-05, elementwise_affine=True)\n",
       "        (attn): GPTNeoAttention(\n",
       "          (attention): GPTNeoSelfAttention(\n",
       "            (attn_dropout): Dropout(p=0, inplace=False)\n",
       "            (resid_dropout): Dropout(p=0, inplace=False)\n",
       "            (k_proj): Linear(in_features=0, out_features=768, bias=False)\n",
       "            (v_proj): Linear(in_features=0, out_features=768, bias=False)\n",
       "            (q_proj): Linear(in_features=0, out_features=768, bias=False)\n",
       "            (out_proj): Linear(in_features=0, out_features=768, bias=True)\n",
       "          )\n",
       "        )\n",
       "        (ln_2): LayerNorm((768,), eps=1e-05, elementwise_affine=True)\n",
       "        (mlp): GPTNeoMLP(\n",
       "          (c_fc): Linear(in_features=0, out_features=3072, bias=True)\n",
       "          (c_proj): Linear(in_features=0, out_features=768, bias=True)\n",
       "          (dropout): Dropout(p=0, inplace=False)\n",
       "        )\n",
       "      )\n",
       "      (9): GPTNeoBlock(\n",
       "        (ln_1): LayerNorm((768,), eps=1e-05, elementwise_affine=True)\n",
       "        (attn): GPTNeoAttention(\n",
       "          (attention): GPTNeoLocalSelfAttention(\n",
       "            (attn_dropout): Dropout(p=0, inplace=False)\n",
       "            (resid_dropout): Dropout(p=0, inplace=False)\n",
       "            (k_proj): Linear(in_features=0, out_features=768, bias=False)\n",
       "            (v_proj): Linear(in_features=0, out_features=768, bias=False)\n",
       "            (q_proj): Linear(in_features=0, out_features=768, bias=False)\n",
       "            (out_proj): Linear(in_features=0, out_features=768, bias=True)\n",
       "          )\n",
       "        )\n",
       "        (ln_2): LayerNorm((768,), eps=1e-05, elementwise_affine=True)\n",
       "        (mlp): GPTNeoMLP(\n",
       "          (c_fc): Linear(in_features=0, out_features=3072, bias=True)\n",
       "          (c_proj): Linear(in_features=0, out_features=768, bias=True)\n",
       "          (dropout): Dropout(p=0, inplace=False)\n",
       "        )\n",
       "      )\n",
       "      (10): GPTNeoBlock(\n",
       "        (ln_1): LayerNorm((768,), eps=1e-05, elementwise_affine=True)\n",
       "        (attn): GPTNeoAttention(\n",
       "          (attention): GPTNeoSelfAttention(\n",
       "            (attn_dropout): Dropout(p=0, inplace=False)\n",
       "            (resid_dropout): Dropout(p=0, inplace=False)\n",
       "            (k_proj): Linear(in_features=0, out_features=768, bias=False)\n",
       "            (v_proj): Linear(in_features=0, out_features=768, bias=False)\n",
       "            (q_proj): Linear(in_features=0, out_features=768, bias=False)\n",
       "            (out_proj): Linear(in_features=0, out_features=768, bias=True)\n",
       "          )\n",
       "        )\n",
       "        (ln_2): LayerNorm((768,), eps=1e-05, elementwise_affine=True)\n",
       "        (mlp): GPTNeoMLP(\n",
       "          (c_fc): Linear(in_features=0, out_features=3072, bias=True)\n",
       "          (c_proj): Linear(in_features=0, out_features=768, bias=True)\n",
       "          (dropout): Dropout(p=0, inplace=False)\n",
       "        )\n",
       "      )\n",
       "      (11): GPTNeoBlock(\n",
       "        (ln_1): LayerNorm((768,), eps=1e-05, elementwise_affine=True)\n",
       "        (attn): GPTNeoAttention(\n",
       "          (attention): GPTNeoLocalSelfAttention(\n",
       "            (attn_dropout): Dropout(p=0, inplace=False)\n",
       "            (resid_dropout): Dropout(p=0, inplace=False)\n",
       "            (k_proj): Linear(in_features=0, out_features=768, bias=False)\n",
       "            (v_proj): Linear(in_features=0, out_features=768, bias=False)\n",
       "            (q_proj): Linear(in_features=0, out_features=768, bias=False)\n",
       "            (out_proj): Linear(in_features=0, out_features=768, bias=True)\n",
       "          )\n",
       "        )\n",
       "        (ln_2): LayerNorm((768,), eps=1e-05, elementwise_affine=True)\n",
       "        (mlp): GPTNeoMLP(\n",
       "          (c_fc): Linear(in_features=0, out_features=3072, bias=True)\n",
       "          (c_proj): Linear(in_features=0, out_features=768, bias=True)\n",
       "          (dropout): Dropout(p=0, inplace=False)\n",
       "        )\n",
       "      )\n",
       "    )\n",
       "    (ln_f): LayerNorm((768,), eps=1e-05, elementwise_affine=True)\n",
       "  )\n",
       "  (lm_head): Linear(in_features=0, out_features=50257, bias=False)\n",
       ")"
      ]
     },
     "execution_count": 27,
     "metadata": {},
     "output_type": "execute_result"
    }
   ],
   "source": [
    "model"
   ]
  },
  {
   "cell_type": "code",
   "execution_count": 28,
   "id": "27a3d402",
   "metadata": {},
   "outputs": [
    {
     "data": {
      "text/plain": [
       "CausalLMOutputWithPast(loss=None, logits=tensor([[[ -3.3300,  -2.4929,  -7.4483,  ..., -14.6817, -10.4255,  -5.0853],\n",
       "         [ -0.0507,  -5.2973, -10.6778,  ..., -15.0821, -11.9509,  -6.5869],\n",
       "         [ -5.7390,  -6.8029,  -9.7417,  ..., -13.3648, -11.1025,  -7.3311],\n",
       "         ...,\n",
       "         [ -7.7671,  -5.1437,  -7.8700,  ..., -21.8658, -13.1095,  -1.5508],\n",
       "         [ -8.2493,  -6.0710, -12.2007,  ..., -23.3041, -18.3014,  -9.1534],\n",
       "         [ -5.3456,  -8.2189, -13.6079,  ..., -13.1011, -16.0331,  -7.2978]]],\n",
       "       device='cuda:0'), past_key_values=((tensor([[[[ 3.0395e-01,  2.8227e-01,  2.5899e-01,  ...,  3.6717e-02,\n",
       "            1.5334e-01, -7.2069e-02],\n",
       "          [ 4.2654e-01,  4.2869e-01,  5.2565e-01,  ..., -1.5126e-01,\n",
       "           -1.5136e-01,  1.9724e-01],\n",
       "          [ 1.2494e-01,  1.3457e-01,  2.5722e-01,  ..., -6.1420e-02,\n",
       "            1.6631e-01, -4.5170e-02],\n",
       "          ...,\n",
       "          [ 3.6231e-01,  1.1602e-02,  2.3648e-01,  ..., -3.5882e-01,\n",
       "            2.7190e-01, -3.7830e-02],\n",
       "          [ 3.4541e-01, -2.3671e-02,  3.6047e-01,  ...,  1.3792e-01,\n",
       "           -1.7394e-01,  3.2376e-01],\n",
       "          [ 3.0108e-02, -4.2100e-02,  1.2416e-01,  ..., -6.1611e-01,\n",
       "           -3.1975e-01, -1.8367e-01]],\n",
       "\n",
       "         [[-2.1133e-01,  4.4042e-01, -2.1468e-01,  ..., -4.7462e-01,\n",
       "            5.8422e-01,  1.7098e-01],\n",
       "          [-2.0270e-01,  1.2119e+00, -1.8230e-01,  ..., -3.0898e-01,\n",
       "            5.5387e-01,  1.1504e-02],\n",
       "          [-3.1592e-01,  6.3633e-01, -6.0788e-01,  ..., -6.9493e-02,\n",
       "           -6.8099e-01,  2.5172e-01],\n",
       "          ...,\n",
       "          [-2.9317e-01,  8.2625e-01, -5.6060e-01,  ...,  5.5693e-02,\n",
       "           -9.0270e-01,  8.2348e-02],\n",
       "          [-4.8034e-01,  3.1867e-01, -3.4136e-01,  ..., -5.1586e-01,\n",
       "            3.9195e-01,  1.0581e-02],\n",
       "          [-5.7552e-01,  7.8861e-01, -6.8420e-01,  ..., -8.0105e-01,\n",
       "            8.8289e-02,  3.7978e-01]],\n",
       "\n",
       "         [[-4.3179e-01,  3.8149e-01, -8.0136e-01,  ..., -1.2256e-01,\n",
       "            1.8879e-02,  6.0345e-01],\n",
       "          [-1.4544e-01,  4.9492e-01, -3.3063e+00,  ..., -6.7634e-01,\n",
       "           -3.8061e-02,  3.3137e-01],\n",
       "          [-5.8597e-02,  2.3447e-01, -2.6575e+00,  ...,  2.2741e-01,\n",
       "            2.0389e-01,  6.2222e-01],\n",
       "          ...,\n",
       "          [-3.6043e-01, -3.3232e-02, -1.4091e+00,  ..., -1.0074e-01,\n",
       "           -4.6132e-03,  3.1508e-01],\n",
       "          [-1.3175e+00, -2.8772e-01, -1.6953e+00,  ..., -3.3263e-01,\n",
       "           -8.2175e-01,  1.7171e+00],\n",
       "          [-8.8114e-01, -1.9794e-01, -1.0974e+00,  ...,  1.4673e+00,\n",
       "            6.8920e-02,  1.0323e+00]],\n",
       "\n",
       "         ...,\n",
       "\n",
       "         [[ 4.2534e-01, -4.6308e-01, -9.8706e-02,  ...,  3.0366e-01,\n",
       "           -4.3416e-01,  8.4232e-01],\n",
       "          [ 7.6061e-01, -4.7492e-01,  3.6697e-01,  ...,  6.6607e-01,\n",
       "           -8.7833e-01,  5.4042e-01],\n",
       "          [ 8.9407e-01, -2.5731e-01, -2.0688e-02,  ...,  4.4893e-01,\n",
       "           -6.3414e-01,  1.2606e+00],\n",
       "          ...,\n",
       "          [ 7.5779e-01, -1.9296e-01,  3.6932e-01,  ...,  6.1792e-01,\n",
       "           -4.8362e-01,  1.1022e+00],\n",
       "          [ 6.8172e-02, -6.3310e-01, -6.7165e-02,  ...,  2.9424e-01,\n",
       "           -4.4943e-01,  1.2725e+00],\n",
       "          [ 8.6277e-01,  5.5685e-02,  1.9734e-01,  ...,  1.0141e+00,\n",
       "            5.2686e-02,  7.4258e-01]],\n",
       "\n",
       "         [[ 2.3379e+00,  3.1765e-01,  1.9218e-01,  ..., -2.0912e+00,\n",
       "            9.6007e-01, -2.5755e-01],\n",
       "          [ 3.1787e+00,  1.1593e+00,  5.8974e-01,  ..., -4.6689e+00,\n",
       "            1.1615e+00, -2.5838e-01],\n",
       "          [ 3.1228e+00,  9.3002e-01,  3.9349e-01,  ..., -4.0545e+00,\n",
       "            1.5674e+00,  9.1774e-02],\n",
       "          ...,\n",
       "          [ 2.8569e+00,  8.0205e-01,  4.4299e-01,  ..., -4.0135e+00,\n",
       "            1.6384e+00, -1.0205e-01],\n",
       "          [ 2.8386e+00,  1.5660e+00,  1.2966e+00,  ..., -4.1143e+00,\n",
       "            1.4596e+00, -1.2421e+00],\n",
       "          [ 2.5728e+00,  2.3802e-01,  2.3203e-02,  ..., -3.1519e+00,\n",
       "            1.6117e+00, -1.3738e-01]],\n",
       "\n",
       "         [[-1.7210e-01,  2.4302e-01, -9.5712e-01,  ..., -6.9195e-01,\n",
       "            4.6665e-01,  2.0374e-02],\n",
       "          [ 2.8738e-01, -1.0488e-01,  1.2425e-01,  ..., -1.2032e+00,\n",
       "            8.8951e-01, -1.3886e-01],\n",
       "          [ 1.8556e-01, -5.3653e-01, -9.8860e-01,  ..., -4.9613e-01,\n",
       "            5.7635e-01,  6.2495e-02],\n",
       "          ...,\n",
       "          [ 1.4466e-01, -1.6333e-01, -6.9551e-01,  ..., -4.9223e-01,\n",
       "            2.4501e-01,  7.7760e-03],\n",
       "          [ 1.3392e+00, -1.0288e-02,  2.3406e-01,  ..., -5.5815e-01,\n",
       "            5.3906e-01,  3.3512e-01],\n",
       "          [-3.1307e-01, -2.5849e-01, -1.2989e-01,  ..., -8.2089e-01,\n",
       "            4.5803e-01,  1.3301e-01]]]], device='cuda:0'), tensor([[[[-1.6424e-01, -1.0477e-01,  8.5032e-03,  ...,  8.7105e-03,\n",
       "           -6.6897e-02, -1.0200e-02],\n",
       "          [-5.7992e-01,  5.4037e-02, -1.1535e-01,  ..., -1.0931e-01,\n",
       "            8.1896e-01, -5.8565e-01],\n",
       "          [-1.9132e-01,  4.0676e-02,  4.8580e-01,  ..., -5.4541e-02,\n",
       "           -8.3277e-02,  3.5673e-01],\n",
       "          ...,\n",
       "          [-1.2033e-01, -4.0296e-02,  1.4799e-03,  ..., -3.3388e-02,\n",
       "           -1.5530e-01, -7.0780e-02],\n",
       "          [-2.0511e-01,  9.3126e-02,  7.7801e-02,  ..., -2.4031e-01,\n",
       "            6.2481e-02, -4.8098e-03],\n",
       "          [-6.2963e-02,  9.6018e-02, -5.1099e-03,  ...,  2.0165e-01,\n",
       "           -3.6895e-01, -1.1672e-01]],\n",
       "\n",
       "         [[-5.7404e-01,  9.5781e-02,  1.1555e-01,  ..., -1.8617e-01,\n",
       "            1.8476e-01, -1.1018e-01],\n",
       "          [-4.6191e-01, -4.7656e-02, -3.4643e-01,  ..., -2.0478e-01,\n",
       "           -4.0240e-01, -3.5355e-01],\n",
       "          [-7.5687e-01, -1.0166e-01, -2.5106e-01,  ...,  5.2498e-02,\n",
       "            3.3886e-01, -1.4988e-01],\n",
       "          ...,\n",
       "          [-3.7471e-01,  1.8691e-01, -1.0496e-01,  ...,  2.0967e-02,\n",
       "            4.1864e-01, -1.5591e-01],\n",
       "          [-4.2606e-01,  2.4490e-01, -2.6078e-01,  ...,  1.2062e-02,\n",
       "            7.8830e-02, -2.8669e-01],\n",
       "          [-1.7082e-01,  4.2581e-01, -4.1859e-01,  ...,  3.2414e-01,\n",
       "            2.2517e-01,  9.0652e-02]],\n",
       "\n",
       "         [[ 8.8461e-02,  3.5288e-01,  2.4923e-01,  ..., -4.7269e-01,\n",
       "           -6.9376e-02, -5.0862e-01],\n",
       "          [ 9.5580e-01,  1.2355e-01, -6.8514e-02,  ...,  7.8013e-02,\n",
       "           -5.2906e-01, -1.1463e+00],\n",
       "          [ 4.9946e-02, -5.5702e-01,  2.0475e-01,  ...,  7.1157e-02,\n",
       "            1.2124e-01,  2.2570e-01],\n",
       "          ...,\n",
       "          [ 2.8392e-01, -8.2554e-01,  1.6905e-01,  ..., -3.5985e-01,\n",
       "           -6.0036e-02, -5.7777e-01],\n",
       "          [ 4.6253e-01, -4.9404e-01, -1.0559e-01,  ..., -1.2547e-01,\n",
       "            3.0485e-01, -6.1806e-01],\n",
       "          [-1.1830e-02, -5.5361e-01, -1.1608e+00,  ...,  6.6731e-01,\n",
       "           -3.5124e-01, -4.2003e-01]],\n",
       "\n",
       "         ...,\n",
       "\n",
       "         [[ 2.2565e-02,  2.2603e-01, -1.4563e-01,  ..., -9.2835e-01,\n",
       "           -4.6352e-01, -1.2466e-01],\n",
       "          [ 1.8500e-01,  4.0490e-01, -1.1068e-01,  ..., -1.0377e+00,\n",
       "            4.2851e-01, -2.8466e-01],\n",
       "          [ 1.3198e-01, -2.1008e-02, -2.5333e-02,  ..., -1.0628e+00,\n",
       "           -7.4744e-02, -1.1501e-01],\n",
       "          ...,\n",
       "          [ 1.2696e-01,  1.2544e-02, -2.2467e-02,  ..., -1.1486e+00,\n",
       "           -3.5611e-02, -3.8101e-02],\n",
       "          [-1.1888e-02,  3.0057e-01,  2.4725e-01,  ..., -1.1989e+00,\n",
       "           -1.1287e-01,  2.4556e-02],\n",
       "          [ 8.1091e-02, -1.7828e-02,  4.0837e-02,  ..., -1.5558e+00,\n",
       "           -2.6143e-02, -2.3121e-01]],\n",
       "\n",
       "         [[-2.8092e-01, -3.3220e-02,  5.7778e-02,  ..., -2.0559e-02,\n",
       "           -2.1366e-01, -1.6024e-01],\n",
       "          [-4.8697e-01,  3.0550e-01, -3.2256e-02,  ...,  1.3647e-01,\n",
       "            5.2383e-01, -3.7829e-01],\n",
       "          [-7.8907e-02, -4.2935e-02, -1.1175e-01,  ..., -6.5678e-02,\n",
       "           -9.4778e-02, -5.4903e-02],\n",
       "          ...,\n",
       "          [-4.6421e-02, -4.7720e-02, -1.3289e-01,  ..., -9.1533e-02,\n",
       "           -1.1136e-01, -6.8671e-02],\n",
       "          [-2.2296e-02,  3.2290e-01, -8.3383e-02,  ..., -4.2084e-01,\n",
       "           -4.2035e-01,  2.2440e-04],\n",
       "          [-5.9727e-02,  1.1212e-01,  4.5843e-01,  ..., -2.0580e-01,\n",
       "           -2.6470e-01, -9.1115e-02]],\n",
       "\n",
       "         [[ 1.9066e-01, -4.2320e-01,  1.5106e-01,  ..., -1.8992e-01,\n",
       "           -1.7584e-02, -8.6754e-02],\n",
       "          [-9.4662e-01, -1.8857e-01,  3.1178e-01,  ..., -2.5394e-01,\n",
       "            6.9686e-01, -4.0636e-01],\n",
       "          [-1.2118e-01, -2.3733e-01,  2.9617e-01,  ..., -1.3735e-02,\n",
       "            1.7544e-01, -1.1676e-01],\n",
       "          ...,\n",
       "          [-1.0241e-01, -1.8526e-01,  2.8457e-01,  ..., -3.8843e-02,\n",
       "            1.4548e-01, -5.4005e-02],\n",
       "          [-1.7351e-01,  1.5653e-01,  5.8282e-01,  ..., -6.6232e-01,\n",
       "            9.0271e-04, -4.0292e-01],\n",
       "          [-8.1873e-02, -1.8059e-01,  6.6787e-01,  ..., -1.0304e-01,\n",
       "           -1.5561e-01, -4.9592e-02]]]], device='cuda:0')), (tensor([[[-0.0018,  0.0179,  0.0248,  ..., -0.0100, -0.0017,  0.0130],\n",
       "         [ 0.0101,  0.0196,  0.0216,  ...,  0.0325,  0.0088,  0.0258],\n",
       "         [-0.0283,  0.0100, -0.0336,  ..., -0.0117,  0.0379,  0.0131],\n",
       "         ...,\n",
       "         [ 0.0137, -0.0120, -0.0325,  ..., -0.0123, -0.0250, -0.0097],\n",
       "         [ 0.0672,  0.0151,  0.0093,  ...,  0.0201, -0.0249, -0.0276],\n",
       "         [ 0.0295,  0.0149,  0.0193,  ..., -0.0535,  0.0573,  0.0623]]],\n",
       "       device='cuda:0'),), (tensor([[[[-1.5379e+01, -4.9857e+00,  1.6425e+01,  ..., -3.8692e+00,\n",
       "            8.7120e-01,  3.4729e+00],\n",
       "          [-1.6125e+01, -5.9857e+00,  1.7528e+01,  ..., -5.7031e+00,\n",
       "            1.6103e+00,  3.7699e+00],\n",
       "          [-1.5298e+01, -6.7175e+00,  1.7559e+01,  ..., -5.4372e+00,\n",
       "            1.4191e+00,  4.0791e+00],\n",
       "          ...,\n",
       "          [-1.4809e+01, -9.1951e+00,  1.8459e+01,  ..., -5.8652e+00,\n",
       "           -2.7671e-01,  6.6570e+00],\n",
       "          [-1.4816e+01, -9.8457e+00,  1.8210e+01,  ..., -6.0432e+00,\n",
       "           -3.2335e-01,  6.5057e+00],\n",
       "          [-1.4858e+01, -8.8641e+00,  1.8803e+01,  ..., -6.1482e+00,\n",
       "           -7.6743e-01,  8.0445e+00]],\n",
       "\n",
       "         [[-4.3501e-01, -3.8999e-01, -3.6070e-02,  ..., -2.1861e-02,\n",
       "           -9.3934e-01, -3.7987e-01],\n",
       "          [-3.5131e-01, -5.7931e-02,  1.3842e-01,  ..., -3.9683e-01,\n",
       "           -1.2368e+00, -6.7767e-02],\n",
       "          [-3.8376e-01, -1.2665e-01, -1.5842e-01,  ..., -9.8414e-02,\n",
       "           -1.0883e+00, -4.2642e-01],\n",
       "          ...,\n",
       "          [-2.9076e-01, -8.4747e-02, -1.2351e-01,  ..., -1.6304e-01,\n",
       "           -8.7720e-01, -2.1029e-01],\n",
       "          [-4.2909e-01,  4.8063e-01, -2.4251e-01,  ..., -5.5111e-01,\n",
       "           -9.2009e-01, -2.0863e-01],\n",
       "          [-6.4793e-02,  3.3021e-01, -1.9639e-01,  ..., -1.4480e-01,\n",
       "           -1.0446e+00,  2.3491e-02]],\n",
       "\n",
       "         [[ 1.7048e-01, -1.9818e-01,  1.7859e-01,  ...,  9.2665e-02,\n",
       "           -4.2431e-01,  1.7111e-01],\n",
       "          [ 1.7708e-01, -2.6468e-01,  5.4103e-02,  ...,  1.1226e-01,\n",
       "           -5.6038e-01,  1.8000e-01],\n",
       "          [ 2.5322e-01, -2.6132e-01,  4.3178e-02,  ...,  1.1028e-01,\n",
       "           -4.5988e-01,  4.8856e-02],\n",
       "          ...,\n",
       "          [ 1.2754e-01, -2.9898e-01,  5.0244e-02,  ...,  1.1776e-01,\n",
       "           -4.6927e-01,  1.2414e-01],\n",
       "          [ 1.3496e-01, -2.0252e-01,  6.5051e-02,  ...,  5.0747e-02,\n",
       "           -5.1411e-01,  2.3478e-01],\n",
       "          [ 1.8269e-01, -1.0486e-01,  1.6545e-01,  ...,  4.5167e-02,\n",
       "           -4.2646e-01,  1.3045e-01]],\n",
       "\n",
       "         ...,\n",
       "\n",
       "         [[-5.6199e+00,  4.0715e+00,  2.1879e+00,  ...,  2.2803e+00,\n",
       "            3.0027e-03, -3.1937e+00],\n",
       "          [-6.1984e+00,  4.1590e+00,  2.2554e+00,  ...,  1.8099e+00,\n",
       "           -5.4188e-03, -3.1157e+00],\n",
       "          [-6.0774e+00,  4.0430e+00,  2.1589e+00,  ...,  1.5615e+00,\n",
       "            9.5879e-03, -2.9634e+00],\n",
       "          ...,\n",
       "          [-6.1781e+00,  3.9824e+00,  2.1130e+00,  ...,  1.4015e+00,\n",
       "           -1.6641e-02, -2.8082e+00],\n",
       "          [-5.9113e+00,  4.6343e+00,  2.9115e+00,  ...,  1.3500e+00,\n",
       "           -4.0647e-01, -3.1913e+00],\n",
       "          [-6.8768e+00,  4.1761e+00,  2.1443e+00,  ...,  1.6097e+00,\n",
       "           -2.1860e-01, -2.7857e+00]],\n",
       "\n",
       "         [[ 9.2586e+00, -3.1597e+00, -4.9621e+00,  ..., -7.0831e+00,\n",
       "            4.1828e+00,  1.6188e+00],\n",
       "          [ 9.1849e+00, -3.4455e+00, -4.7900e+00,  ..., -6.9490e+00,\n",
       "            4.0225e+00,  1.6347e+00],\n",
       "          [ 9.5219e+00, -3.2550e+00, -5.2132e+00,  ..., -6.5683e+00,\n",
       "            4.0868e+00,  1.6037e+00],\n",
       "          ...,\n",
       "          [ 1.0064e+01, -2.7464e+00, -4.9753e+00,  ..., -5.3912e+00,\n",
       "            4.2613e+00,  1.4306e+00],\n",
       "          [ 1.0433e+01, -2.6502e+00, -5.2231e+00,  ..., -5.6491e+00,\n",
       "            3.6375e+00,  1.0886e+00],\n",
       "          [ 1.0868e+01, -2.4545e+00, -5.4986e+00,  ..., -5.7537e+00,\n",
       "            4.2181e+00,  1.7296e+00]],\n",
       "\n",
       "         [[-1.7359e-01, -8.0909e-01,  2.4853e-01,  ...,  2.8366e+00,\n",
       "           -8.6573e-01, -7.7450e-01],\n",
       "          [ 4.8138e-01, -8.4873e-01,  7.5321e-01,  ...,  2.4534e+00,\n",
       "           -4.5350e-01, -9.2082e-01],\n",
       "          [-1.0517e-01, -9.6678e-01,  2.3920e-01,  ...,  2.4359e+00,\n",
       "           -6.9394e-01, -6.4563e-01],\n",
       "          ...,\n",
       "          [-3.8334e-01, -1.1360e+00, -5.3457e-02,  ...,  2.3387e+00,\n",
       "           -1.0940e+00, -8.5545e-01],\n",
       "          [ 1.9599e-01, -4.6298e-01,  5.3705e-01,  ...,  2.1044e+00,\n",
       "           -8.9752e-01, -1.1437e+00],\n",
       "          [ 2.3130e-01, -1.0356e+00,  5.2666e-01,  ...,  2.2458e+00,\n",
       "           -4.5117e-01, -1.1194e+00]]]], device='cuda:0'), tensor([[[[-2.4480e-02,  6.5264e-02,  7.0064e-02,  ...,  4.5403e-02,\n",
       "           -5.8553e-02,  9.7354e-03],\n",
       "          [-1.9236e-01,  2.4851e-01, -1.0805e-01,  ...,  3.5835e-01,\n",
       "            3.3786e-01,  8.9261e-01],\n",
       "          [ 7.5301e-02, -7.5948e-02, -6.8468e-02,  ..., -1.1226e-01,\n",
       "           -2.5371e-01, -4.0043e-02],\n",
       "          ...,\n",
       "          [-7.3806e-03,  1.6430e-01, -1.4736e-01,  ...,  5.7992e-02,\n",
       "           -5.5419e-02,  2.0224e-01],\n",
       "          [ 6.7687e-01,  4.2322e-01, -2.2775e-01,  ...,  1.7924e-01,\n",
       "            4.6269e-01,  1.9709e-02],\n",
       "          [-1.4721e+00,  3.9771e-01, -1.0052e-01,  ..., -1.7463e-01,\n",
       "           -4.7389e-02, -6.3627e-01]],\n",
       "\n",
       "         [[-1.0062e-01, -1.0802e-01, -9.0673e-02,  ...,  2.5056e-01,\n",
       "           -2.6105e-01, -3.4776e-01],\n",
       "          [ 2.0952e-01, -9.2080e-02,  2.4260e-01,  ...,  4.1610e-01,\n",
       "            2.9454e-01, -1.6161e-01],\n",
       "          [ 5.2592e-02, -1.1859e-01,  2.0282e-01,  ..., -2.3177e-01,\n",
       "           -2.2391e-01, -3.9979e-01],\n",
       "          ...,\n",
       "          [-2.6134e-01, -1.5615e-01, -8.3920e-02,  ...,  6.5984e-02,\n",
       "           -2.4046e-01, -6.2956e-01],\n",
       "          [ 4.8232e-01,  4.0230e-01,  1.9390e-02,  ...,  2.5495e-02,\n",
       "           -4.4311e-01,  1.5963e-01],\n",
       "          [ 7.4237e-02, -1.4066e-01, -7.2824e-01,  ...,  3.0418e-03,\n",
       "           -3.5786e-01,  7.6894e-02]],\n",
       "\n",
       "         [[-2.0455e-01, -3.1252e-02,  4.4353e+00,  ...,  2.0858e-01,\n",
       "           -6.7225e-04,  1.1755e-01],\n",
       "          [ 1.6837e-01, -1.8336e-01,  3.9354e+00,  ...,  6.9954e-01,\n",
       "            5.2651e-02, -1.4823e-01],\n",
       "          [ 1.9598e-01, -2.5079e-01,  3.5821e+00,  ...,  1.7641e-01,\n",
       "           -5.6702e-01, -2.3414e-01],\n",
       "          ...,\n",
       "          [-1.1909e-01, -1.5540e-02,  3.5592e+00,  ...,  2.5423e-01,\n",
       "           -8.6674e-01, -2.6393e-01],\n",
       "          [-1.1263e+00,  7.8819e-01,  3.8424e+00,  ...,  2.7988e-01,\n",
       "            3.0636e-01,  5.3609e-01],\n",
       "          [-5.3686e-03,  3.5644e-01,  3.9766e+00,  ...,  2.3440e-01,\n",
       "           -9.5346e-02, -6.9701e-02]],\n",
       "\n",
       "         ...,\n",
       "\n",
       "         [[ 3.4311e-01,  2.9446e-02, -4.6686e-01,  ...,  2.8393e-01,\n",
       "           -1.4607e-02,  2.8009e-01],\n",
       "          [-2.6734e-01,  1.6236e-01, -4.1703e-02,  ..., -4.7654e-01,\n",
       "            7.3852e-02,  5.4486e-01],\n",
       "          [ 2.5072e-02, -1.1880e-02,  8.4936e-02,  ...,  5.4005e-02,\n",
       "           -9.7116e-02,  2.8075e-02],\n",
       "          ...,\n",
       "          [ 1.2125e-01,  1.3438e-01, -1.1388e-01,  ...,  2.1311e-02,\n",
       "           -6.9858e-03,  6.6653e-02],\n",
       "          [-6.1714e-01, -5.9528e-01, -2.2743e-02,  ..., -3.7028e-01,\n",
       "           -9.6964e-01,  1.4416e-01],\n",
       "          [-6.9427e-01, -5.0998e-03, -5.5245e-02,  ..., -4.7648e-01,\n",
       "           -2.4420e-01,  1.2905e-02]],\n",
       "\n",
       "         [[-2.0039e-01,  2.2447e-01, -2.2289e-01,  ..., -4.3938e-02,\n",
       "            1.1465e-01,  1.5386e-02],\n",
       "          [ 2.1507e-01, -3.2809e-02,  3.4851e-02,  ...,  2.7515e-02,\n",
       "            3.5478e-01, -2.7487e-01],\n",
       "          [-2.2122e-02,  1.0979e-01,  7.1842e-02,  ..., -2.5639e-01,\n",
       "            2.3466e-02,  5.3190e-02],\n",
       "          ...,\n",
       "          [-1.6219e-01,  1.0223e-01,  8.5561e-02,  ...,  8.7810e-04,\n",
       "            1.9495e-02,  2.1659e-01],\n",
       "          [-2.1090e-01, -1.0839e+00, -5.1710e-01,  ...,  6.5671e-02,\n",
       "           -5.0413e-01, -2.0723e-01],\n",
       "          [-9.3533e-02, -6.1086e-01, -3.3991e-01,  ...,  1.1869e-02,\n",
       "           -2.0452e-01,  8.1457e-02]],\n",
       "\n",
       "         [[-3.7902e-02,  1.5490e-01, -4.0446e-02,  ..., -1.4351e-01,\n",
       "            1.9619e-01, -4.4310e-02],\n",
       "          [-4.8240e-01, -5.1755e-02, -5.4813e-02,  ...,  2.6421e-03,\n",
       "            4.9965e-03, -2.1244e-01],\n",
       "          [-9.8991e-03,  8.5366e-02, -1.7962e-01,  ...,  6.3954e-02,\n",
       "            9.7281e-02,  1.4292e-01],\n",
       "          ...,\n",
       "          [ 3.8254e-03,  2.0716e-01, -3.8970e-02,  ..., -3.9245e-02,\n",
       "            2.7920e-01, -1.4152e-02],\n",
       "          [-1.6364e-01,  1.5852e-01,  2.3818e-01,  ..., -8.2184e-01,\n",
       "            1.0894e-01, -2.1762e-01],\n",
       "          [-3.9912e-01,  8.7055e-02, -5.6529e-01,  ..., -4.6991e-01,\n",
       "            5.7569e-01,  4.8171e-01]]]], device='cuda:0')), (tensor([[[ 0.0010,  0.0182,  0.0484,  ..., -0.0096, -0.0249,  0.0377],\n",
       "         [ 0.0160, -0.0178,  0.0339,  ...,  0.0009,  0.0566,  0.0019],\n",
       "         [-0.0292, -0.0421, -0.0142,  ...,  0.0033,  0.0485,  0.0084],\n",
       "         ...,\n",
       "         [ 0.0006, -0.0200, -0.0061,  ...,  0.0019, -0.0094,  0.0093],\n",
       "         [ 0.0684,  0.0085,  0.0313,  ...,  0.0559, -0.0560, -0.0377],\n",
       "         [-0.0264, -0.0198,  0.0696,  ...,  0.0130,  0.0275,  0.0589]]],\n",
       "       device='cuda:0'),), (tensor([[[[-1.4464, -6.9313,  5.7620,  ...,  2.6086,  6.4921,  2.9518],\n",
       "          [-2.0082, -6.8863,  5.2136,  ...,  2.7577,  6.2812,  3.4438],\n",
       "          [-1.5954, -6.7530,  4.7862,  ...,  2.6419,  6.1445,  3.4360],\n",
       "          ...,\n",
       "          [-1.5562, -6.1768,  4.2715,  ...,  2.2253,  5.9302,  3.0892],\n",
       "          [-1.7717, -6.3630,  4.7777,  ...,  1.5447,  6.0699,  3.4136],\n",
       "          [-1.4951, -5.7212,  4.6933,  ...,  1.7595,  6.1193,  2.9560]],\n",
       "\n",
       "         [[ 4.3868, -1.9409, -0.7837,  ..., -0.4558,  1.5511, -7.3759],\n",
       "          [ 4.2356, -2.3057, -1.4254,  ..., -0.6070,  1.9636, -7.4726],\n",
       "          [ 3.7347, -2.0562, -1.6317,  ..., -0.6478,  2.0631, -7.1359],\n",
       "          ...,\n",
       "          [ 3.3834, -1.8800, -2.2788,  ..., -0.8848,  2.3340, -6.7912],\n",
       "          [ 3.3973, -1.5316, -1.8909,  ..., -1.0405,  1.6635, -6.6111],\n",
       "          [ 3.2491, -1.4991, -2.6122,  ..., -1.2365,  2.4943, -6.1459]],\n",
       "\n",
       "         [[ 2.1535,  3.3689, -3.3367,  ...,  4.0357, -2.1962,  2.7387],\n",
       "          [ 2.1004,  4.9866, -2.9924,  ...,  4.3702, -3.1884,  2.0954],\n",
       "          [ 2.2703,  4.6331, -2.6272,  ...,  4.4062, -2.7500,  2.1957],\n",
       "          ...,\n",
       "          [ 2.1084,  5.0292, -2.1826,  ...,  3.9547, -2.7142,  2.6480],\n",
       "          [ 2.1295,  4.9431, -2.4411,  ...,  4.2018, -3.0274,  2.8623],\n",
       "          [ 2.1402,  5.2578, -2.4982,  ...,  4.5405, -2.6428,  2.7426]],\n",
       "\n",
       "         ...,\n",
       "\n",
       "         [[ 2.3173,  0.2854, -3.2025,  ...,  3.2963,  1.9044, -5.3129],\n",
       "          [ 1.5387, -0.4764, -1.9041,  ...,  4.4445,  1.8948, -5.1511],\n",
       "          [ 1.4567, -0.2104, -2.5661,  ...,  4.1128,  2.3333, -4.4198],\n",
       "          ...,\n",
       "          [ 1.3285, -0.6894, -2.9696,  ...,  4.4202,  2.0572, -3.8965],\n",
       "          [ 1.3609, -1.2091, -3.3455,  ...,  4.4635,  2.3643, -3.2787],\n",
       "          [ 0.5923, -1.2502, -3.6974,  ...,  4.7872,  1.8063, -3.4169]],\n",
       "\n",
       "         [[-3.8217, -5.3960,  2.4895,  ...,  1.4962,  0.2507,  1.6748],\n",
       "          [-4.3528, -5.4673,  3.0976,  ...,  1.4963, -0.0642,  1.2709],\n",
       "          [-4.4019, -5.2840,  2.8588,  ...,  1.0474, -0.2872,  1.0552],\n",
       "          ...,\n",
       "          [-4.5089, -4.4783,  2.5969,  ...,  1.6758,  0.2021,  1.5981],\n",
       "          [-4.6770, -4.3556,  2.6978,  ...,  0.8457,  0.1711,  1.3726],\n",
       "          [-4.0669, -4.4298,  2.6106,  ...,  1.6419,  0.2184,  1.1465]],\n",
       "\n",
       "         [[ 3.3102, -6.8785,  4.1371,  ...,  1.0459, -1.3202,  4.2903],\n",
       "          [ 3.2260, -8.1804,  3.2330,  ...,  0.3342, -1.6673,  4.3714],\n",
       "          [ 3.3244, -8.1076,  3.7836,  ...,  0.1021, -2.3266,  4.4098],\n",
       "          ...,\n",
       "          [ 3.6118, -7.4811,  3.5379,  ...,  0.1428, -1.9336,  4.4219],\n",
       "          [ 3.2553, -7.7544,  3.4808,  ..., -0.0693, -1.8752,  5.0942],\n",
       "          [ 3.1959, -7.8780,  3.3211,  ..., -0.5073, -1.1010,  5.3891]]]],\n",
       "       device='cuda:0'), tensor([[[[ 0.0180, -0.0791,  0.0680,  ..., -0.1324, -0.1787,  0.0665],\n",
       "          [-0.0477,  0.2909, -0.0535,  ...,  0.1256, -0.3977,  0.3077],\n",
       "          [ 0.1115,  0.0718,  0.0757,  ..., -0.0032,  0.2988, -0.1337],\n",
       "          ...,\n",
       "          [ 0.1570,  0.0049,  0.0490,  ..., -0.1513, -0.1280, -0.0865],\n",
       "          [-0.0022,  0.1993, -0.2078,  ..., -0.3125,  0.0975,  0.1913],\n",
       "          [ 0.0153, -0.2037,  0.2866,  ...,  0.1024,  0.2244,  0.0086]],\n",
       "\n",
       "         [[-0.0785, -0.0832, -0.0393,  ..., -0.3545,  0.0045,  0.1667],\n",
       "          [-0.1982,  0.3053, -0.0510,  ..., -0.1972, -0.0360,  0.2900],\n",
       "          [-0.1928,  0.3192, -0.0586,  ...,  0.1022,  0.0256, -0.0507],\n",
       "          ...,\n",
       "          [-0.0808, -0.0684, -0.0346,  ..., -0.0229,  0.0908,  0.0075],\n",
       "          [-0.4640,  0.2440, -0.5582,  ..., -0.0872,  0.0806,  0.6575],\n",
       "          [-0.7389,  0.1555, -0.1747,  ...,  0.3401,  0.0822, -0.5905]],\n",
       "\n",
       "         [[-0.0952,  0.0246, -0.0682,  ..., -0.2064,  0.2500,  0.2097],\n",
       "          [-0.0593,  0.0873,  0.1220,  ...,  0.0081,  0.3921, -0.0576],\n",
       "          [-0.2367, -0.2395,  0.1005,  ...,  0.1090, -0.1308,  0.2212],\n",
       "          ...,\n",
       "          [-0.0307, -0.1602, -0.1869,  ..., -0.0304, -0.0543, -0.0464],\n",
       "          [ 0.2579,  0.2236,  0.0168,  ..., -0.2869,  0.5022,  0.1085],\n",
       "          [-0.7335, -0.1931, -0.1835,  ..., -0.2150, -0.1729,  0.2422]],\n",
       "\n",
       "         ...,\n",
       "\n",
       "         [[ 0.0822,  0.0883, -0.1892,  ..., -0.0803, -0.1196, -0.1247],\n",
       "          [-0.0019,  0.0925,  0.5349,  ..., -0.1048,  0.0430, -0.1769],\n",
       "          [ 0.0414,  0.1539,  0.1878,  ...,  0.4185,  0.0226,  0.7664],\n",
       "          ...,\n",
       "          [-0.0950, -0.0805,  0.0767,  ...,  0.0627,  0.0131,  0.8393],\n",
       "          [ 0.8355, -0.1785, -0.4202,  ...,  0.0708,  0.0117, -0.2371],\n",
       "          [-0.0935,  0.2239, -0.1560,  ..., -0.3002,  0.5801, -0.1853]],\n",
       "\n",
       "         [[-0.0974, -0.0111,  0.1771,  ...,  0.0236,  0.2023, -0.1102],\n",
       "          [ 0.2792,  0.1232,  0.2185,  ...,  0.2927, -0.2308,  0.1198],\n",
       "          [ 0.3259, -0.3685,  0.2571,  ...,  0.3364,  0.3374,  0.3068],\n",
       "          ...,\n",
       "          [ 0.3439, -0.5257,  0.1560,  ...,  0.0258,  0.0589,  0.0248],\n",
       "          [-0.4056, -0.2525,  0.0538,  ..., -0.0415,  0.3454, -0.1459],\n",
       "          [-0.0407,  0.0771,  0.4445,  ..., -0.2927, -0.1238, -0.2522]],\n",
       "\n",
       "         [[-0.0072,  0.1428, -0.0914,  ...,  0.0253, -0.0692,  0.0276],\n",
       "          [-0.0265, -0.0943, -0.1380,  ...,  0.3464, -0.1087,  0.4098],\n",
       "          [ 0.0268,  0.0057,  0.1857,  ...,  0.0034, -0.1817, -0.1866],\n",
       "          ...,\n",
       "          [-0.0617,  0.2155,  0.0509,  ...,  0.1937, -0.1533,  0.1381],\n",
       "          [-0.0153, -0.2136,  0.1170,  ..., -0.4246, -0.3333, -0.2014],\n",
       "          [-0.1753, -0.3797, -0.0557,  ..., -0.1464, -0.5318,  0.1656]]]],\n",
       "       device='cuda:0')), (tensor([[[ 3.3202e-02,  1.2717e-01,  3.0822e-02,  ..., -1.3018e-02,\n",
       "          -1.5016e-02,  2.2380e-02],\n",
       "         [ 1.8108e-02,  1.4861e-02,  1.5918e-02,  ...,  3.8849e-02,\n",
       "           6.4601e-02, -8.9165e-02],\n",
       "         [-6.2239e-02, -1.6075e-02, -4.7945e-02,  ...,  4.8619e-03,\n",
       "           6.3219e-02,  2.0639e-02],\n",
       "         ...,\n",
       "         [-1.2148e-02, -2.4159e-02,  3.0005e-03,  ...,  1.5810e-02,\n",
       "          -9.6206e-05, -1.1974e-02],\n",
       "         [ 4.2364e-02,  5.2858e-02, -2.3920e-02,  ...,  1.7971e-02,\n",
       "          -5.7916e-02, -3.2759e-02],\n",
       "         [-4.4267e-02, -2.1778e-02,  9.4944e-02,  ...,  1.4636e-02,\n",
       "           5.2593e-02,  5.2435e-02]]], device='cuda:0'),), (tensor([[[[ 2.1245e-02,  6.6854e-02,  4.0477e-03,  ...,  4.3762e-02,\n",
       "            1.7137e-01,  3.9124e-02],\n",
       "          [-5.1840e-01,  3.6467e-01,  3.2180e-01,  ...,  5.7570e-01,\n",
       "            1.1782e+00,  3.4271e-01],\n",
       "          [-8.7985e-01,  6.1949e-01, -1.6877e-01,  ...,  9.3638e-01,\n",
       "            2.8356e-01, -1.2038e-01],\n",
       "          ...,\n",
       "          [-8.2975e-01, -6.2245e-02, -6.2467e-01,  ...,  4.1222e-01,\n",
       "           -2.9419e-01,  6.8926e-01],\n",
       "          [-1.2371e-01, -5.3002e-01, -9.2437e-04,  ...,  5.9049e-01,\n",
       "           -5.9429e-01,  5.5371e-01],\n",
       "          [-3.8796e-01,  6.8069e-02,  8.6333e-02,  ...,  3.5184e-01,\n",
       "            6.1079e-01,  1.1608e-01]],\n",
       "\n",
       "         [[ 1.8555e-01, -1.1569e-01,  1.3442e-02,  ..., -7.9217e-03,\n",
       "           -9.2894e-02, -1.8134e-02],\n",
       "          [ 1.2113e-01,  2.6811e-01, -3.1072e-01,  ...,  6.4567e-02,\n",
       "            7.3284e-01,  3.5966e-01],\n",
       "          [-6.6304e-02, -1.3766e+00, -7.8123e-01,  ...,  7.0384e-01,\n",
       "            5.9627e-01, -4.1522e-02],\n",
       "          ...,\n",
       "          [-1.4305e-01, -8.2174e-01, -2.4817e-01,  ...,  6.0076e-01,\n",
       "            4.0984e-01,  3.3728e-02],\n",
       "          [ 2.6113e-01, -3.0392e-01,  5.5068e-02,  ...,  5.2385e-01,\n",
       "           -2.5830e-02,  5.5548e-01],\n",
       "          [ 6.4080e-01, -8.5569e-01, -6.3489e-01,  ..., -4.4292e-01,\n",
       "            1.5611e-01, -1.7702e-01]],\n",
       "\n",
       "         [[ 4.3614e-01, -3.0717e+00, -3.7609e-01,  ..., -1.0120e-01,\n",
       "            2.4463e-01, -2.3435e-01],\n",
       "          [ 8.3394e-01, -3.4042e+00, -3.4800e-01,  ..., -7.1425e-01,\n",
       "           -2.0946e-01,  2.7614e-01],\n",
       "          [ 4.2166e-01, -2.8489e+00, -5.7373e-01,  ..., -6.3021e-02,\n",
       "            3.6752e-01, -1.7130e-01],\n",
       "          ...,\n",
       "          [ 2.3724e-01, -2.6061e+00, -5.3108e-01,  ..., -8.2833e-03,\n",
       "            3.4661e-01, -4.4218e-01],\n",
       "          [ 3.9453e-01, -3.2233e+00, -3.5420e-01,  ..., -1.2814e-01,\n",
       "            1.7694e-01, -2.4447e-01],\n",
       "          [ 4.1669e-01, -3.1696e+00, -5.9939e-01,  ..., -4.2337e-02,\n",
       "            4.7765e-01, -1.3887e-01]],\n",
       "\n",
       "         ...,\n",
       "\n",
       "         [[-1.2465e+00, -1.7467e+00, -7.7617e-01,  ...,  2.5981e+00,\n",
       "           -1.8762e-01,  1.6511e+00],\n",
       "          [-5.6366e-01, -1.7873e+00, -9.2502e-01,  ...,  2.2492e+00,\n",
       "           -2.6920e-01,  6.0171e-01],\n",
       "          [-1.3962e+00, -1.7783e+00, -6.0459e-01,  ...,  2.9599e+00,\n",
       "           -3.8224e-01,  1.0963e+00],\n",
       "          ...,\n",
       "          [-9.8888e-01, -1.7186e+00, -1.6792e-01,  ...,  3.0576e+00,\n",
       "           -2.8774e-01,  1.6662e+00],\n",
       "          [-1.0950e+00, -1.4654e+00, -3.3410e-01,  ...,  3.1002e+00,\n",
       "           -3.8538e-01,  1.4172e+00],\n",
       "          [-1.7189e+00, -1.7514e+00, -5.0978e-01,  ...,  2.8260e+00,\n",
       "           -2.7317e-01,  1.1435e+00]],\n",
       "\n",
       "         [[ 4.2619e-01,  1.4368e+00, -1.3391e+00,  ..., -1.9925e+00,\n",
       "           -1.7636e+00,  1.2326e+00],\n",
       "          [ 1.6973e-01,  8.0739e-01, -7.4913e-01,  ..., -2.7465e+00,\n",
       "           -1.2212e+00,  5.1510e-01],\n",
       "          [ 1.2102e-01,  9.9830e-01, -1.0357e+00,  ..., -2.0992e+00,\n",
       "           -1.5807e+00,  8.8355e-01],\n",
       "          ...,\n",
       "          [-9.0382e-02,  1.3419e+00, -1.3144e+00,  ..., -2.2657e+00,\n",
       "           -1.4336e+00,  1.1153e+00],\n",
       "          [-3.8411e-01,  1.3750e+00, -6.5379e-01,  ..., -2.3489e+00,\n",
       "           -1.3272e+00,  9.5272e-01],\n",
       "          [-2.8862e-01,  7.3897e-01, -1.6382e+00,  ..., -2.2834e+00,\n",
       "           -9.9276e-01,  7.1461e-01]],\n",
       "\n",
       "         [[ 6.6464e-02, -2.0699e-01, -6.8900e-02,  ..., -3.5194e-03,\n",
       "            6.7859e-02,  9.2806e-02],\n",
       "          [-2.8943e-03,  1.9107e-02,  9.3343e-01,  ...,  3.8547e-01,\n",
       "            7.8971e-01, -1.8745e-01],\n",
       "          [ 1.5736e-01,  1.2078e-02,  1.3496e+00,  ..., -2.1986e-01,\n",
       "            3.5577e-01, -8.8202e-02],\n",
       "          ...,\n",
       "          [-3.4443e-01, -5.4729e-01,  6.2018e-02,  ...,  2.7668e-02,\n",
       "           -3.6494e-01, -6.0495e-01],\n",
       "          [-6.9436e-01, -1.6102e-01, -2.0395e-01,  ...,  3.0462e-01,\n",
       "            3.6303e-01, -5.9849e-02],\n",
       "          [ 1.5010e-01, -2.0024e-01,  5.4574e-01,  ...,  2.9375e-03,\n",
       "            2.2180e-01, -6.0754e-02]]]], device='cuda:0'), tensor([[[[ 8.4076e-02,  2.4204e-01,  2.9747e-02,  ..., -2.4208e-02,\n",
       "            6.5167e-02,  9.4342e-03],\n",
       "          [ 3.2774e-01,  3.5955e-01,  6.6106e-01,  ...,  4.2227e-03,\n",
       "           -6.5504e-02,  3.6911e-01],\n",
       "          [-1.9394e-01, -1.6233e-01,  1.0467e+00,  ..., -1.5271e-01,\n",
       "           -1.1125e-01,  1.7089e-01],\n",
       "          ...,\n",
       "          [-3.3713e-01, -1.3673e-01,  3.2539e-02,  ...,  1.1400e-02,\n",
       "           -2.6266e-01, -1.9086e-01],\n",
       "          [ 2.1570e-01, -2.5306e-01,  3.7109e-01,  ...,  8.1261e-02,\n",
       "           -1.0154e-01, -2.9139e-01],\n",
       "          [-2.1340e-01, -7.4305e-01,  6.0321e-01,  ...,  9.6948e-02,\n",
       "            6.8159e-01, -2.6470e-01]],\n",
       "\n",
       "         [[ 9.5824e-02,  2.0116e-02,  4.2335e-03,  ...,  9.3527e-05,\n",
       "           -9.1461e-02, -2.1626e-02],\n",
       "          [ 2.2253e-02,  2.2826e-01, -1.4482e-01,  ..., -1.2622e+00,\n",
       "            5.1073e-01,  2.4239e-01],\n",
       "          [ 4.5390e-01,  2.4275e-01, -4.8538e-01,  ..., -1.1321e-01,\n",
       "            3.8996e-01, -8.1815e-01],\n",
       "          ...,\n",
       "          [ 1.5077e-01,  3.2511e-01, -3.1599e-01,  ...,  1.7936e-01,\n",
       "            2.5879e-01, -7.0305e-01],\n",
       "          [-5.7313e-01,  7.2995e-01,  8.5016e-02,  ..., -2.1039e-01,\n",
       "            2.8451e-01, -5.7122e-01],\n",
       "          [-5.7026e-01,  3.2866e-01, -7.0725e-02,  ..., -1.1977e+00,\n",
       "            4.6734e-02, -9.2009e-01]],\n",
       "\n",
       "         [[ 1.9275e-01,  2.5829e-02, -2.6279e-01,  ..., -4.0987e-01,\n",
       "            4.7813e-01,  1.1147e-01],\n",
       "          [ 4.1168e-01,  1.6777e+00, -2.1649e-01,  ..., -4.5905e-01,\n",
       "            1.7784e+00,  4.0413e-01],\n",
       "          [ 7.0690e-02,  7.1818e-01,  1.9246e-01,  ..., -6.1435e-02,\n",
       "            2.7139e-01,  5.4367e-01],\n",
       "          ...,\n",
       "          [-9.0044e-04,  3.1236e-01, -1.8502e-01,  ...,  2.2463e-01,\n",
       "            2.3746e-01, -1.4481e-01],\n",
       "          [ 7.1790e-02,  1.1034e+00, -1.3034e-01,  ...,  3.9186e-01,\n",
       "            1.6009e+00,  3.8643e-02],\n",
       "          [ 4.5241e-01,  7.1521e-01,  1.1446e+00,  ..., -1.3114e-01,\n",
       "            1.7352e+00,  3.5001e-01]],\n",
       "\n",
       "         ...,\n",
       "\n",
       "         [[-1.0348e-01,  1.9300e-03, -5.1191e-03,  ...,  1.3941e-02,\n",
       "            5.4299e-02, -3.5010e-02],\n",
       "          [-9.5899e-01, -6.5005e-01,  2.1692e-01,  ..., -1.1189e-01,\n",
       "            4.3127e-01,  1.1434e-03],\n",
       "          [-7.0769e-01, -8.8733e-01,  1.8767e-01,  ..., -3.9215e-01,\n",
       "            3.3940e-01,  1.2224e-01],\n",
       "          ...,\n",
       "          [-1.8137e-01, -1.3884e-01, -1.5814e-01,  ...,  3.2023e-01,\n",
       "            7.2713e-02, -8.9957e-03],\n",
       "          [-8.1669e-01, -4.4941e-01,  1.8717e-01,  ..., -4.7526e-02,\n",
       "            3.4823e-01,  1.4331e-01],\n",
       "          [-1.0781e+00, -8.8235e-01, -8.4386e-02,  ..., -2.6449e-01,\n",
       "            3.4161e-02,  2.7565e-03]],\n",
       "\n",
       "         [[-9.9202e-02, -5.1084e-02, -2.4650e-02,  ..., -1.4567e-01,\n",
       "            8.9208e-02,  2.4645e-01],\n",
       "          [-1.2442e-01,  5.2830e-01, -8.9052e-01,  ..., -1.0303e+00,\n",
       "            4.0229e-01,  9.0639e-02],\n",
       "          [-6.6516e-01, -3.3472e-01, -2.2335e-01,  ..., -2.3862e-02,\n",
       "            1.9635e-01,  2.3876e-01],\n",
       "          ...,\n",
       "          [-1.0904e-01, -5.8656e-02, -2.3870e-01,  ..., -1.0126e-01,\n",
       "           -6.1289e-02,  3.0260e-01],\n",
       "          [-3.9854e-01,  8.3184e-02, -7.4304e-01,  ..., -2.7541e-01,\n",
       "            1.1290e-01, -3.2458e-01],\n",
       "          [-2.7298e-01,  8.2570e-02, -2.1188e+00,  ...,  6.8451e-01,\n",
       "            7.0552e-01,  2.9701e-01]],\n",
       "\n",
       "         [[-5.8261e-02,  4.5192e-02,  2.5332e-02,  ...,  3.5912e-03,\n",
       "            5.2413e-02,  3.8676e-02],\n",
       "          [ 8.2037e-01, -1.0306e+00, -1.6746e-01,  ..., -5.6719e-01,\n",
       "           -2.6918e-01,  4.6069e-01],\n",
       "          [ 8.1410e-02, -3.5033e-01, -1.1436e-01,  ..., -1.0012e+00,\n",
       "           -8.5087e-01, -2.3717e-01],\n",
       "          ...,\n",
       "          [ 2.2154e-05,  2.1677e-02, -1.6031e-02,  ...,  3.5208e-01,\n",
       "           -4.6171e-01, -1.1799e-01],\n",
       "          [ 2.0675e-01, -7.6029e-01,  2.1156e-01,  ..., -2.4089e-01,\n",
       "           -5.2691e-01,  4.5755e-02],\n",
       "          [ 3.0891e-01,  1.5471e-01, -2.0039e-01,  ..., -2.8716e-01,\n",
       "           -2.9062e-01, -2.7642e-02]]]], device='cuda:0')), (tensor([[[ 0.0117,  0.0225,  0.0007,  ..., -0.0099,  0.0065,  0.0236],\n",
       "         [ 0.0516,  0.0179,  0.0197,  ...,  0.0106,  0.0946, -0.0555],\n",
       "         [-0.0678, -0.0233, -0.0303,  ...,  0.0058,  0.0638,  0.0477],\n",
       "         ...,\n",
       "         [-0.0102, -0.0192,  0.0189,  ...,  0.0241, -0.0011, -0.0017],\n",
       "         [ 0.0259,  0.0659,  0.0524,  ...,  0.0194, -0.0235,  0.0400],\n",
       "         [-0.1186, -0.0450,  0.0699,  ...,  0.0093,  0.0289,  0.0568]]],\n",
       "       device='cuda:0'),), (tensor([[[[ 6.6912e-02,  1.8678e-02,  1.1983e-01,  ..., -1.0013e-01,\n",
       "           -6.4139e-01,  1.0147e-01],\n",
       "          [-4.9320e-02, -3.1370e-01,  2.5705e-01,  ...,  4.6800e-01,\n",
       "           -9.1009e-01,  4.8227e-01],\n",
       "          [-3.0239e-01, -1.0501e-01,  2.4345e-01,  ...,  4.5678e-01,\n",
       "           -8.7622e-01,  1.0732e-01],\n",
       "          ...,\n",
       "          [-1.5472e-01, -1.4611e-01,  1.6105e-01,  ...,  4.4358e-01,\n",
       "           -1.2613e+00,  1.8700e-01],\n",
       "          [-4.8088e-01, -4.4382e-02,  2.8202e-02,  ...,  2.8944e-02,\n",
       "           -1.0547e+00,  8.5394e-02],\n",
       "          [-6.9817e-02,  2.5668e-01,  2.9524e-01,  ...,  1.4021e-01,\n",
       "           -1.0121e+00, -4.4703e-01]],\n",
       "\n",
       "         [[ 1.2038e-02,  9.6941e-01, -2.4846e-01,  ...,  5.5256e-04,\n",
       "            1.4103e-01, -1.9617e-01],\n",
       "          [ 4.4481e-02,  3.7331e-01, -8.9199e-02,  ..., -9.9004e-01,\n",
       "           -5.4003e-01,  8.4918e-01],\n",
       "          [ 2.1118e-01,  8.0485e-01, -4.4721e-01,  ..., -7.1502e-01,\n",
       "           -1.7943e-01,  6.7990e-01],\n",
       "          ...,\n",
       "          [ 8.7860e-01,  5.3572e-01, -6.0862e-01,  ..., -2.2092e-02,\n",
       "            4.0687e-01,  7.2725e-01],\n",
       "          [ 7.2158e-01,  9.4048e-01, -3.6890e-01,  ..., -2.4406e-01,\n",
       "            1.9345e-01,  8.7870e-01],\n",
       "          [-1.5009e-01,  3.2003e-01, -6.6814e-01,  ..., -3.7387e-01,\n",
       "            2.5131e-01,  1.1808e+00]],\n",
       "\n",
       "         [[ 3.5102e-03,  3.4815e-02, -2.3275e-01,  ..., -1.6786e-02,\n",
       "           -2.7218e-01,  4.3955e-01],\n",
       "          [-1.8379e-01, -2.8552e-01, -5.0252e-01,  ..., -6.7251e-02,\n",
       "           -3.8808e-01, -9.4865e-01],\n",
       "          [-1.8053e-01, -7.6535e-03, -4.1512e-01,  ...,  4.9973e-02,\n",
       "            1.1606e-01, -1.0134e+00],\n",
       "          ...,\n",
       "          [ 2.1216e-01,  3.7599e-01, -5.3512e-01,  ...,  1.5257e-01,\n",
       "           -2.9907e-01, -5.6733e-01],\n",
       "          [-2.7383e-01, -3.3453e-01, -2.7389e-01,  ...,  1.1150e-01,\n",
       "           -2.1878e-01, -5.3126e-01],\n",
       "          [-2.9046e-01, -1.9608e-01, -9.2212e-02,  ..., -2.8833e-01,\n",
       "           -3.9130e-01, -5.0313e-01]],\n",
       "\n",
       "         ...,\n",
       "\n",
       "         [[-8.1481e-01,  5.8699e-01,  2.5895e-01,  ...,  4.0250e-01,\n",
       "           -4.0785e-01, -3.4588e-01],\n",
       "          [-2.4992e+00,  3.7659e-01, -1.6371e-01,  ...,  7.1676e-02,\n",
       "           -7.8361e-02, -9.7794e-01],\n",
       "          [-1.8133e+00,  3.4295e-01, -2.0807e-01,  ...,  4.7453e-01,\n",
       "           -3.8963e-01, -1.0373e+00],\n",
       "          ...,\n",
       "          [-1.1749e+00,  2.1459e-01,  1.1766e-01,  ...,  3.6449e-01,\n",
       "           -3.6181e-01, -7.8866e-01],\n",
       "          [-1.9610e+00, -3.6631e-01, -2.6170e-01,  ...,  7.4128e-01,\n",
       "           -2.8952e-01, -1.3567e+00],\n",
       "          [-1.9389e+00, -9.3336e-03,  6.2780e-01,  ...,  6.1034e-02,\n",
       "           -4.7948e-01, -9.1084e-01]],\n",
       "\n",
       "         [[-5.4746e-02,  1.0031e-01, -1.0004e+00,  ...,  4.3766e-02,\n",
       "           -8.7479e-02,  4.4583e-02],\n",
       "          [-1.3463e-01,  5.5247e-01, -1.5678e+00,  ..., -3.9536e-01,\n",
       "            9.1137e-01,  1.3254e+00],\n",
       "          [-1.4705e-01,  1.9070e-01, -1.7596e+00,  ..., -4.6403e-02,\n",
       "            4.1111e-01,  8.7828e-01],\n",
       "          ...,\n",
       "          [ 3.0237e-02,  2.2013e-01, -1.3271e+00,  ..., -1.8548e-01,\n",
       "           -5.6203e-02,  5.3755e-01],\n",
       "          [-5.2645e-01,  3.8282e-01, -1.5772e+00,  ..., -3.5530e-01,\n",
       "            6.8436e-02,  4.3540e-01],\n",
       "          [-3.0408e-01,  7.6776e-01, -2.1230e+00,  ..., -4.8059e-02,\n",
       "           -2.2510e-01,  6.9366e-01]],\n",
       "\n",
       "         [[ 1.7917e-01, -2.3554e-01,  7.3636e-02,  ..., -6.2843e-02,\n",
       "            2.5099e-02,  2.2295e-01],\n",
       "          [ 3.5950e-01,  6.6560e-01, -2.1914e-01,  ..., -5.0328e-01,\n",
       "           -2.7185e-01,  1.0397e+00],\n",
       "          [ 3.9451e-01,  8.0570e-01,  5.9549e-02,  ...,  2.6083e-01,\n",
       "           -2.2350e-01,  8.1296e-01],\n",
       "          ...,\n",
       "          [-2.7963e-01,  7.1867e-01,  2.3586e-01,  ...,  3.1400e-01,\n",
       "           -1.1555e-01,  4.1611e-01],\n",
       "          [ 2.3006e-01,  1.2976e+00,  1.9992e-01,  ..., -4.6416e-01,\n",
       "           -5.4419e-01,  3.2521e-01],\n",
       "          [-1.3374e-01,  1.4189e+00, -1.1707e-01,  ..., -7.4213e-01,\n",
       "           -4.2050e-01, -3.6848e-02]]]], device='cuda:0'), tensor([[[[ 3.8640e-02,  4.1499e-02,  1.7774e-03,  ...,  3.6233e-02,\n",
       "           -3.8853e-03, -1.8698e-02],\n",
       "          [-4.6641e-01,  1.9700e+00, -1.6498e-01,  ...,  4.0639e-01,\n",
       "           -1.2879e-02,  5.7257e-01],\n",
       "          [-9.8676e-01,  7.9826e-01, -1.0159e+00,  ...,  3.3163e-01,\n",
       "            9.6259e-01, -2.2676e-01],\n",
       "          ...,\n",
       "          [ 4.5372e-02,  6.4206e-02, -6.2535e-01,  ...,  1.8555e-01,\n",
       "            1.8218e-01,  5.6103e-01],\n",
       "          [ 8.0914e-01,  5.9463e-01, -4.0072e-01,  ..., -1.3953e+00,\n",
       "           -1.3105e+00,  1.3823e-01],\n",
       "          [ 1.3052e-01,  1.2590e+00, -1.5742e-02,  ...,  7.0803e-01,\n",
       "            6.2727e-01,  8.7814e-02]],\n",
       "\n",
       "         [[ 1.8324e-02, -9.9568e-03, -1.7759e-02,  ..., -6.1373e-02,\n",
       "           -5.2801e-02, -5.3220e-02],\n",
       "          [ 9.4992e-02,  3.1663e-01, -6.4161e-01,  ...,  5.8802e-01,\n",
       "            8.0260e-01, -1.0098e+00],\n",
       "          [-3.7657e-01, -2.8342e-01,  1.2742e-01,  ..., -5.9438e-02,\n",
       "            2.2984e-01, -2.1542e-01],\n",
       "          ...,\n",
       "          [-1.5934e-01, -6.0541e-01,  9.8913e-02,  ...,  5.1086e-02,\n",
       "            4.2927e-01, -2.9398e-01],\n",
       "          [-9.0791e-01,  8.2021e-02,  1.5138e+00,  ...,  5.1346e-01,\n",
       "           -1.7961e+00, -2.6973e-01],\n",
       "          [-4.5642e-01,  1.3924e-02, -7.9589e-01,  ...,  5.1587e-01,\n",
       "            8.8427e-01, -9.2447e-01]],\n",
       "\n",
       "         [[-9.6934e-02, -3.7226e-02,  3.7373e-02,  ...,  6.5083e-02,\n",
       "           -2.4876e-02, -7.7265e-03],\n",
       "          [-1.3682e+00,  6.3283e-01,  5.6410e-01,  ..., -7.2499e-01,\n",
       "            2.3939e-01,  3.8996e-01],\n",
       "          [-4.2905e-01, -5.3603e-02, -2.8793e-01,  ..., -4.6943e-01,\n",
       "            2.4438e-01, -6.2943e-01],\n",
       "          ...,\n",
       "          [ 7.1488e-01,  3.5830e-01, -2.2285e-01,  ..., -3.4576e-01,\n",
       "            2.4367e-02, -5.6942e-01],\n",
       "          [-6.1372e-01, -5.4127e-01,  9.8599e-01,  ..., -5.8351e-02,\n",
       "           -1.8792e-02, -6.8105e-02],\n",
       "          [-5.1922e-01, -3.9865e-01, -1.5248e+00,  ..., -9.5950e-01,\n",
       "            1.3553e-01, -2.7247e-01]],\n",
       "\n",
       "         ...,\n",
       "\n",
       "         [[-1.7828e-01,  1.6390e-01, -4.5900e-02,  ...,  1.0924e-01,\n",
       "           -9.2568e-02, -1.9293e-01],\n",
       "          [-2.9823e-01, -3.3128e-01, -6.3130e-01,  ...,  7.4001e-01,\n",
       "           -3.6490e-01,  5.5527e-01],\n",
       "          [-2.2251e-01, -2.3257e-01, -8.4422e-01,  ...,  2.2192e-01,\n",
       "           -3.3432e-01,  3.1562e-01],\n",
       "          ...,\n",
       "          [ 1.3536e-01,  9.7704e-02, -3.2880e-01,  ...,  2.9114e-01,\n",
       "           -8.4098e-02,  1.2170e-01],\n",
       "          [ 1.3831e-01,  1.4059e-01, -1.1275e-01,  ...,  2.5925e-01,\n",
       "           -4.1493e-01, -1.2172e+00],\n",
       "          [ 7.6437e-01, -2.5605e-01, -4.1359e-01,  ...,  6.6229e-01,\n",
       "           -1.5498e+00, -3.9660e-01]],\n",
       "\n",
       "         [[-5.5392e-02, -4.3086e-03, -9.1094e-03,  ...,  4.3051e-01,\n",
       "            8.6261e-02, -8.3499e-02],\n",
       "          [-5.2238e-01, -8.8725e-01,  8.5549e-01,  ...,  7.1615e-01,\n",
       "           -1.0289e+00, -3.3991e-01],\n",
       "          [-5.5622e-01, -4.3849e-01,  6.8555e-01,  ...,  1.8072e-01,\n",
       "           -8.7945e-01, -3.9787e-01],\n",
       "          ...,\n",
       "          [ 3.4339e-01, -5.6310e-02,  2.7026e-01,  ..., -4.4938e-02,\n",
       "           -3.5516e-01,  2.0646e-01],\n",
       "          [-1.4100e+00, -5.9548e-01, -2.5623e-01,  ...,  8.1230e-01,\n",
       "           -2.7566e-03, -1.6530e+00],\n",
       "          [-8.8145e-03,  1.9497e-01,  1.1846e+00,  ...,  9.3861e-01,\n",
       "           -3.6563e-01, -7.8422e-01]],\n",
       "\n",
       "         [[-1.4017e-02,  8.1241e-03, -3.5474e-02,  ...,  3.8430e-02,\n",
       "            7.0385e-02, -1.8458e-02],\n",
       "          [ 3.8140e-02,  2.9037e-01, -4.2346e-01,  ..., -3.5464e-01,\n",
       "           -1.9030e-02, -2.0585e-01],\n",
       "          [ 4.8256e-01,  1.1128e-01, -4.8169e-01,  ..., -5.6226e-02,\n",
       "           -9.9684e-02,  7.5518e-02],\n",
       "          ...,\n",
       "          [-4.1740e-01,  2.0259e-01,  3.0404e-02,  ...,  2.2888e-01,\n",
       "            1.2087e-01,  2.6661e-01],\n",
       "          [-1.9698e-01,  1.0093e+00, -4.9897e-01,  ..., -2.8917e-02,\n",
       "           -1.1685e+00,  2.3343e+00],\n",
       "          [ 7.3050e-01,  1.5055e+00, -1.5105e-01,  ...,  5.4897e-01,\n",
       "           -7.3964e-02,  3.9993e-01]]]], device='cuda:0')), (tensor([[[ 0.0194,  0.0311,  0.0045,  ...,  0.0068,  0.0168,  0.0149],\n",
       "         [ 0.1106,  0.0218,  0.1254,  ...,  0.0171,  0.1262, -0.0152],\n",
       "         [-0.0229,  0.0058, -0.0369,  ..., -0.0136,  0.0578, -0.0029],\n",
       "         ...,\n",
       "         [-0.0189, -0.0289, -0.0251,  ..., -0.0429,  0.0059,  0.0167],\n",
       "         [ 0.0953,  0.1120,  0.0615,  ...,  0.0084, -0.0237, -0.0436],\n",
       "         [-0.1237,  0.0323,  0.0108,  ...,  0.1071,  0.1484,  0.0624]]],\n",
       "       device='cuda:0'),), (tensor([[[[-9.9503e-02, -1.0941e-01, -1.2493e-01,  ...,  6.9461e-02,\n",
       "           -1.4443e+00,  5.8131e-02],\n",
       "          [ 2.5232e-01,  1.3268e+00, -2.6228e-01,  ..., -6.9209e-01,\n",
       "           -3.1619e-01,  1.0294e-01],\n",
       "          [-1.3871e-01,  8.9446e-01,  2.7005e-02,  ..., -9.1149e-01,\n",
       "           -3.2509e-01,  1.5318e-01],\n",
       "          ...,\n",
       "          [-4.8446e-01,  9.0121e-01,  4.8570e-01,  ..., -9.6656e-01,\n",
       "           -1.7058e-01,  1.1186e-01],\n",
       "          [ 2.2674e-01,  1.2390e+00, -4.4467e-01,  ..., -2.2927e-01,\n",
       "           -1.1737e+00,  3.1876e-01],\n",
       "          [ 1.3389e-01,  1.1995e+00, -1.3162e-01,  ..., -5.4417e-01,\n",
       "           -1.9222e-01,  5.4781e-02]],\n",
       "\n",
       "         [[-6.0269e-02,  1.7839e-01,  4.9633e-02,  ...,  9.6622e-02,\n",
       "           -7.2786e-02,  4.4308e-01],\n",
       "          [-6.1443e-01, -4.8270e-02,  5.5257e-01,  ..., -4.7801e-01,\n",
       "           -4.4177e-01, -3.9386e-01],\n",
       "          [-2.3251e-01, -1.7973e-01,  8.0518e-01,  ..., -3.5163e-01,\n",
       "           -1.8128e-01, -3.5660e-01],\n",
       "          ...,\n",
       "          [-1.2170e-01,  2.6446e-01,  4.4720e-01,  ..., -6.6663e-01,\n",
       "           -2.1567e-01, -2.0933e-01],\n",
       "          [-1.2622e-01,  1.7988e-01, -2.1241e-01,  ..., -8.4419e-01,\n",
       "           -1.3025e-01,  2.3183e-01],\n",
       "          [-5.2051e-01,  3.1944e-01,  7.3798e-01,  ..., -1.0008e+00,\n",
       "           -7.1963e-01, -5.1221e-01]],\n",
       "\n",
       "         [[ 3.6197e-01,  1.0285e-01,  8.8707e-02,  ..., -4.3507e-01,\n",
       "           -1.2941e-01, -1.9722e-01],\n",
       "          [ 2.2167e-01,  4.2366e-01,  3.4769e-01,  ...,  4.7998e-01,\n",
       "           -8.7950e-01, -5.7239e-01],\n",
       "          [ 2.6319e-01,  7.5568e-01,  3.4698e-01,  ...,  3.3529e-01,\n",
       "           -8.8796e-01, -5.9306e-01],\n",
       "          ...,\n",
       "          [ 4.0965e-01,  2.1049e-01,  3.0427e-01,  ...,  4.4440e-01,\n",
       "           -5.0714e-01,  2.4218e-02],\n",
       "          [ 3.4984e-01,  4.2540e-01,  1.5019e-01,  ...,  2.1668e-01,\n",
       "           -1.0948e+00,  1.7342e-03],\n",
       "          [ 4.4798e-01,  6.3181e-01,  8.8025e-02,  ..., -7.5657e-02,\n",
       "           -8.2679e-01, -4.5987e-01]],\n",
       "\n",
       "         ...,\n",
       "\n",
       "         [[-1.9673e-02,  2.7804e-01, -2.0209e-01,  ..., -3.9083e-01,\n",
       "            2.7603e-02, -2.7144e-01],\n",
       "          [ 8.6998e-01,  3.4792e-02,  1.3503e-01,  ..., -2.7635e-01,\n",
       "            4.6269e-01,  1.4736e-01],\n",
       "          [ 5.8344e-01,  7.8152e-02, -2.1776e-01,  ..., -8.4728e-01,\n",
       "            3.3128e-01,  2.1783e-01],\n",
       "          ...,\n",
       "          [ 2.1910e-01,  4.3623e-01, -3.7988e-01,  ..., -5.9450e-01,\n",
       "           -1.0870e-01,  2.6582e-01],\n",
       "          [ 1.9035e-01,  3.9064e-01, -1.4868e-01,  ..., -3.1325e-02,\n",
       "           -2.2819e-01, -4.4303e-01],\n",
       "          [ 5.4088e-01,  6.2347e-02, -3.4166e-01,  ..., -5.9220e-01,\n",
       "           -1.6674e-01,  1.2307e-01]],\n",
       "\n",
       "         [[ 4.0982e-01,  7.4052e-02, -3.9260e-01,  ...,  8.3756e-02,\n",
       "            8.6598e-02,  2.6989e-01],\n",
       "          [ 5.0209e-01,  9.9314e-01,  1.3348e+00,  ..., -3.2925e-03,\n",
       "            1.8337e-01,  2.5361e-01],\n",
       "          [ 2.5107e-02,  9.3321e-01,  9.5178e-01,  ...,  1.3819e-01,\n",
       "            1.6887e-01,  4.8406e-01],\n",
       "          ...,\n",
       "          [-1.2163e-01,  5.8975e-01,  4.0128e-01,  ...,  1.0242e-01,\n",
       "            2.2571e-01,  4.0731e-01],\n",
       "          [ 1.3903e-01,  4.2460e-01,  1.6580e+00,  ...,  3.5101e-01,\n",
       "           -4.8291e-01, -4.2781e-02],\n",
       "          [ 4.6551e-01,  3.8210e-01,  8.4868e-01,  ..., -4.2305e-01,\n",
       "            4.6520e-02,  5.5188e-01]],\n",
       "\n",
       "         [[ 1.3172e-01, -7.2190e-02, -3.1498e-02,  ...,  2.2706e-01,\n",
       "           -2.0132e+00,  1.4472e-02],\n",
       "          [ 2.1295e-01, -1.1367e-01,  6.0877e-01,  ...,  5.4989e-02,\n",
       "            1.5464e+00, -1.5856e-01],\n",
       "          [ 3.3894e-01,  9.2392e-02,  8.2777e-01,  ..., -2.1799e-01,\n",
       "            1.2663e+00, -9.8409e-02],\n",
       "          ...,\n",
       "          [-3.3002e-01,  6.0096e-01,  5.2361e-01,  ..., -1.2007e-01,\n",
       "            9.3533e-01, -2.0856e-01],\n",
       "          [ 1.1491e-01, -1.4095e-01,  4.8496e-01,  ...,  1.7024e-01,\n",
       "            9.9615e-01, -1.2846e-01],\n",
       "          [-3.8801e-02,  1.0435e-01,  1.0465e+00,  ..., -1.1660e-02,\n",
       "            1.2719e+00,  1.0103e-01]]]], device='cuda:0'), tensor([[[[-3.9988e-02, -1.5192e-01, -1.9843e-01,  ...,  1.0713e-01,\n",
       "            1.0680e-01,  7.9271e-02],\n",
       "          [ 8.4547e-01, -8.0354e-01,  5.3797e-01,  ...,  2.1284e+00,\n",
       "            6.9641e-01,  7.6630e-01],\n",
       "          [ 1.1122e-01, -8.8837e-02, -2.4365e-01,  ...,  6.6594e-01,\n",
       "            4.3836e-01,  6.8941e-02],\n",
       "          ...,\n",
       "          [-3.2718e-01, -3.0774e-01,  2.5755e-02,  ..., -1.4676e-01,\n",
       "            8.7327e-02, -2.3000e-01],\n",
       "          [ 2.5445e+00,  2.2314e-01,  4.8335e-01,  ..., -1.8474e+00,\n",
       "            5.1843e-01,  2.5897e-01],\n",
       "          [-4.7556e-01, -2.8663e-01, -1.0394e+00,  ...,  6.5229e-03,\n",
       "            1.1653e+00,  1.7845e-01]],\n",
       "\n",
       "         [[-5.5104e-02, -6.3610e-02, -2.3272e-02,  ...,  2.2168e-02,\n",
       "            7.4063e-02,  2.3681e-02],\n",
       "          [ 7.9212e-01,  1.0141e+00,  1.1486e+00,  ..., -4.3966e-01,\n",
       "            1.1789e+00,  8.8923e-01],\n",
       "          [ 5.6390e-01,  1.0968e-01, -3.9272e-01,  ..., -5.9348e-01,\n",
       "            2.1916e-01,  4.7706e-01],\n",
       "          ...,\n",
       "          [ 3.0687e-01, -4.6856e-01, -3.7134e-01,  ..., -4.2570e-01,\n",
       "            2.1797e-01,  5.2081e-02],\n",
       "          [-7.3656e-01, -1.1488e-01, -1.6209e+00,  ...,  2.2181e-01,\n",
       "           -6.3537e-01,  3.0102e+00],\n",
       "          [-1.1063e+00, -5.7405e-01, -8.4438e-02,  ..., -3.3915e-01,\n",
       "            7.4157e-01,  1.1868e+00]],\n",
       "\n",
       "         [[-1.9223e-01,  5.2655e-01,  2.7766e-02,  ..., -2.5413e-01,\n",
       "            4.6034e-01,  1.6731e-01],\n",
       "          [-1.5470e-01,  2.3907e-01, -8.1784e-01,  ..., -6.2048e-01,\n",
       "            8.5878e-01,  6.3670e-01],\n",
       "          [ 8.1721e-01,  3.0962e-01, -7.6124e-01,  ..., -3.4324e-01,\n",
       "           -1.1044e+00,  8.7362e-02],\n",
       "          ...,\n",
       "          [ 1.9877e-01,  7.1181e-01, -3.7408e-01,  ..., -4.6885e-02,\n",
       "           -8.5857e-01, -7.5940e-01],\n",
       "          [-1.8875e+00, -6.3333e-01, -7.2320e-01,  ...,  7.6235e-02,\n",
       "           -3.2964e-01,  2.1201e+00],\n",
       "          [-8.5390e-02,  2.3423e-01,  5.3891e-03,  ...,  8.7868e-01,\n",
       "           -5.8641e-01, -2.6218e-01]],\n",
       "\n",
       "         ...,\n",
       "\n",
       "         [[-1.8881e-02,  6.3002e-03,  4.7043e-02,  ..., -1.0803e-02,\n",
       "            1.2333e-01,  1.5647e-01],\n",
       "          [ 5.4204e-01, -1.2925e+00,  9.1246e-02,  ..., -5.6456e-01,\n",
       "           -8.1692e-01, -1.4630e-01],\n",
       "          [ 4.7071e-01, -3.2337e-01,  5.0571e-01,  ..., -5.2063e-01,\n",
       "           -9.4655e-02, -7.7723e-01],\n",
       "          ...,\n",
       "          [ 5.7353e-01,  2.5388e-01,  6.0767e-02,  ...,  6.1173e-01,\n",
       "           -7.4065e-02, -5.7095e-01],\n",
       "          [-2.1503e+00, -2.3381e-01,  1.0526e+00,  ..., -1.6587e+00,\n",
       "            8.9131e-01, -1.8252e+00],\n",
       "          [ 6.3448e-01, -6.5096e-01,  9.6012e-01,  ...,  4.1268e-01,\n",
       "            8.8941e-01, -4.9082e-01]],\n",
       "\n",
       "         [[ 1.5659e-01, -3.4999e-01, -3.7550e-01,  ..., -7.8419e-02,\n",
       "           -2.3998e-01, -1.6990e-01],\n",
       "          [ 2.8390e-01,  3.6365e-01,  7.6142e-02,  ..., -3.5094e-01,\n",
       "            6.3586e-01, -4.6756e-01],\n",
       "          [ 6.3373e-01,  8.4895e-01,  3.7593e-01,  ..., -1.8617e-01,\n",
       "            1.1869e+00,  4.5486e-02],\n",
       "          ...,\n",
       "          [ 2.1846e-01,  7.3363e-01,  1.5845e-01,  ..., -4.2689e-01,\n",
       "            1.4651e+00,  6.2296e-01],\n",
       "          [ 1.4220e+00,  1.0232e+00,  5.4447e-01,  ..., -4.3134e-02,\n",
       "           -1.1664e+00, -6.8485e-02],\n",
       "          [-7.2099e-01, -2.7404e-01, -1.9226e-01,  ...,  2.6615e-01,\n",
       "            5.3018e-01,  2.5738e-01]],\n",
       "\n",
       "         [[ 4.4379e-03, -2.0531e-01,  9.6022e-02,  ...,  3.5602e-02,\n",
       "           -4.6871e-02,  1.3290e-03],\n",
       "          [-1.3840e+00, -1.4063e+00,  1.7414e+00,  ...,  4.0924e-01,\n",
       "           -4.6569e-01, -1.0408e-01],\n",
       "          [ 2.1374e-01,  1.6508e-01,  9.9087e-01,  ...,  8.9546e-01,\n",
       "            3.1209e-01,  5.0820e-01],\n",
       "          ...,\n",
       "          [ 3.1736e-02,  1.8359e-01,  1.6010e-01,  ...,  1.6065e-01,\n",
       "           -2.9444e-01,  1.8630e-01],\n",
       "          [ 1.3867e+00, -1.6805e+00, -1.3660e+00,  ...,  1.9890e+00,\n",
       "            4.2527e-01,  6.7836e-02],\n",
       "          [ 1.5785e-01, -1.9585e-01, -1.6755e-01,  ...,  1.0886e+00,\n",
       "            5.9894e-02,  8.1503e-02]]]], device='cuda:0')), (tensor([[[-0.0267,  0.0071, -0.0113,  ..., -0.0189,  0.0248, -0.0020],\n",
       "         [ 0.1521, -0.0602,  0.0511,  ...,  0.0530,  0.0156,  0.0225],\n",
       "         [ 0.1351, -0.0691,  0.0067,  ...,  0.0173,  0.0375, -0.0073],\n",
       "         ...,\n",
       "         [ 0.1273, -0.0979, -0.0177,  ..., -0.0733,  0.0802, -0.0547],\n",
       "         [ 0.0709,  0.0021,  0.0843,  ..., -0.0344,  0.0983, -0.1258],\n",
       "         [-0.0227, -0.0392, -0.0330,  ...,  0.1579,  0.0430,  0.0536]]],\n",
       "       device='cuda:0'),)), hidden_states=(tensor([[[ 0.5396, -1.5234,  0.2064,  ...,  0.5176,  0.9336, -0.4326],\n",
       "         [ 0.2168, -0.4077,  0.1301,  ..., -0.0173,  0.4839, -0.2134],\n",
       "         [ 0.3650, -0.6060,  0.0972,  ...,  0.0474,  0.2548, -0.1841],\n",
       "         ...,\n",
       "         [ 0.3481, -0.5387,  0.2075,  ...,  0.0229,  0.2872, -0.3275],\n",
       "         [ 0.2274, -0.6158,  0.1001,  ...,  0.1313,  0.4292, -0.3456],\n",
       "         [ 0.4707, -0.8146,  0.3867,  ...,  0.1060,  0.4831, -0.2590]]],\n",
       "       device='cuda:0'), tensor([[[ 2.1671,  6.5915,  4.6633,  ...,  0.7975,  3.5714,  1.0726],\n",
       "         [ 2.6676,  5.4243,  3.4460,  ...,  3.1898,  3.5653,  1.6934],\n",
       "         [-0.3280,  4.8443, -1.7205,  ...,  0.5641,  5.5163,  0.8936],\n",
       "         ...,\n",
       "         [ 2.6794,  3.1122, -1.4317,  ...,  0.4800,  1.2238, -0.5464],\n",
       "         [ 6.3941,  4.5781,  2.0426,  ...,  2.1816,  1.1962, -1.6221],\n",
       "         [ 3.8091,  4.6427,  2.9401,  ..., -1.7746,  6.1267,  3.7297]]],\n",
       "       device='cuda:0'), tensor([[[ 6.4327, 12.6107,  7.0611,  ...,  2.0543, -0.4663,  5.3838],\n",
       "         [ 5.2611,  6.8011,  4.0905,  ...,  4.8521,  5.2878,  1.0928],\n",
       "         [ 1.5440,  6.9271, -0.3628,  ...,  3.5003,  6.4521,  1.7133],\n",
       "         ...,\n",
       "         [ 4.1481,  6.0130, -0.4304,  ...,  2.1381,  0.1845,  0.6374],\n",
       "         [ 8.8967,  8.1003,  4.7676,  ...,  8.0415,  1.0959, -0.2427],\n",
       "         [ 3.5905,  6.1343,  6.3515,  ...,  2.8706,  3.4722,  3.2673]]],\n",
       "       device='cuda:0'), tensor([[[ 8.7479, 13.0530,  7.1601,  ...,  3.5091,  1.0321,  6.0123],\n",
       "         [ 7.1524,  6.0789,  3.6485,  ...,  3.2737,  6.9207,  1.8868],\n",
       "         [ 3.5108,  4.4157, -0.5404,  ...,  3.4918,  6.4428,  2.3463],\n",
       "         ...,\n",
       "         [ 5.8112,  5.8511, -0.0249,  ...,  3.2118,  1.9942,  2.2161],\n",
       "         [11.6811,  8.0389,  3.2863,  ...,  6.8412, -1.5771, -0.9807],\n",
       "         [ 3.5544,  5.9089,  6.7603,  ...,  3.9449,  4.7422,  5.4951]]],\n",
       "       device='cuda:0'), tensor([[[12.3870, 22.0382,  6.2712,  ...,  7.4582,  0.2220,  6.8650],\n",
       "         [ 6.5555,  9.0063,  2.6356,  ...,  5.9402,  6.4323,  1.6827],\n",
       "         [ 3.4740,  8.6576,  0.2632,  ...,  2.3182,  5.8760,  3.9429],\n",
       "         ...,\n",
       "         [ 6.5486,  8.4889,  1.1864,  ...,  4.9439,  0.6813,  1.4995],\n",
       "         [12.1249, 10.3075,  1.3719,  ...,  9.8197, -1.7440, -0.4329],\n",
       "         [ 3.2115,  7.4644,  7.7458,  ...,  4.4191,  6.4407,  6.9991]]],\n",
       "       device='cuda:0'), tensor([[[14.0289, 34.4606,  7.3013,  ...,  8.8094,  0.3596,  7.5945],\n",
       "         [ 6.4207,  9.3664,  3.0374,  ...,  8.5157,  6.1482, -2.8993],\n",
       "         [ 0.2736,  7.2274, -1.9864,  ...,  6.3751,  6.2304,  4.4032],\n",
       "         ...,\n",
       "         [ 4.0727,  6.5232,  1.9248,  ...,  7.0610,  1.6606,  2.0489],\n",
       "         [ 8.6951, 12.9741, -0.4920,  ...,  7.3756, -2.7142,  0.4931],\n",
       "         [ 1.3453,  6.7334,  9.6397,  ...,  7.0091,  5.3677,  6.4332]]],\n",
       "       device='cuda:0'), tensor([[[14.0888, 45.5000, 21.4961,  ..., 19.9406, 17.5324, 18.4835],\n",
       "         [ 6.0196,  8.4225,  6.6700,  ...,  7.5985,  8.9735, -2.7372],\n",
       "         [-2.4455,  6.2836,  1.5956,  ...,  4.5266,  7.6018,  5.6986],\n",
       "         ...,\n",
       "         [ 1.2514,  6.9569,  3.3467,  ...,  5.6753,  5.0969,  1.8822],\n",
       "         [ 6.4588, 11.3947,  5.4744,  ...,  8.8488, -1.2376,  5.1721],\n",
       "         [-0.3598, -1.7840, 11.4283,  ...,  4.7839,  6.2650,  8.3886]]],\n",
       "       device='cuda:0'), tensor([[[13.8645, 46.0734, 22.4950,  ..., 20.3990, 16.6036, 18.8319],\n",
       "         [ 7.5107,  8.6850,  7.0655,  ...,  6.6837, 11.3517, -1.1347],\n",
       "         [-2.5823,  5.3060,  2.8320,  ...,  6.3938,  9.0072,  6.7351],\n",
       "         ...,\n",
       "         [ 2.0754,  5.3679,  6.7799,  ...,  7.5056,  3.7549,  2.8106],\n",
       "         [ 5.1830, 13.0020, 10.0368,  ...,  7.3590,  1.8857,  5.9954],\n",
       "         [-8.0003,  3.0216, 11.4780,  ...,  6.3852,  6.0233,  7.1745]]],\n",
       "       device='cuda:0'), tensor([[[12.3852, 41.8946, 23.5551,  ..., 18.1826, 17.2671, 20.6961],\n",
       "         [ 9.2745,  8.5529, 11.0395,  ...,  7.3363, 14.8269,  0.8702],\n",
       "         [ 0.6516,  5.3902,  4.7858,  ...,  3.8904,  7.6492,  7.0601],\n",
       "         ...,\n",
       "         [ 0.8676,  4.1978,  1.6056,  ...,  0.9392,  4.0476,  8.0731],\n",
       "         [ 9.5971, 13.2630, 12.6970,  ...,  2.1828,  7.9414, 10.3481],\n",
       "         [-6.2657,  1.1827, 10.2295,  ...,  9.1476, 15.2805, 11.0183]]],\n",
       "       device='cuda:0'), tensor([[[ 11.6553,  42.2936,  18.7467,  ...,  13.3546,  16.7597,  19.7606],\n",
       "         [ 12.8290,   8.2423,  17.1560,  ...,   5.5814,  15.7834,   2.5463],\n",
       "         [  0.4898,   6.9478,   1.5838,  ...,   2.6995,   9.4287,   4.0313],\n",
       "         ...,\n",
       "         [  0.5294,   3.1004,   2.4088,  ...,  -0.6527,   3.9194,   5.6671],\n",
       "         [ 11.8052,  17.9829,  11.3276,  ...,   4.6886,   0.8695,  -0.6170],\n",
       "         [-10.6630,   8.9368,   5.4568,  ...,  14.7065,  18.1493,  10.0275]]],\n",
       "       device='cuda:0'), tensor([[[13.9353, 41.9025, 19.8025,  ..., 12.2086, 13.3643, 20.7499],\n",
       "         [15.1510,  8.0495, 13.3704,  ...,  7.0392, 10.1510,  8.8078],\n",
       "         [ 8.3588,  3.4794,  3.6181,  ...,  3.0068,  7.7263, 10.8579],\n",
       "         ...,\n",
       "         [ 4.9508, -1.2802,  1.3425,  ..., -1.7933,  4.2339,  3.5765],\n",
       "         [14.7574, 10.9489, 11.5594,  ..., 13.2082,  7.7419,  0.6783],\n",
       "         [-2.9347,  0.5357,  3.6029,  ..., 10.7352,  8.2632, 13.1301]]],\n",
       "       device='cuda:0'), tensor([[[-1.7715e-01,  9.7574e+00,  1.0555e+01,  ...,  8.4558e+00,\n",
       "           1.3449e+01,  9.5487e+00],\n",
       "         [ 2.4070e+01, -1.5305e+00,  1.4880e+01,  ...,  1.5699e+01,\n",
       "           7.2382e+00,  9.4403e+00],\n",
       "         [ 2.3200e+01, -2.0147e+00,  1.0175e+01,  ...,  1.1869e+01,\n",
       "           1.0631e+01,  6.7759e+00],\n",
       "         ...,\n",
       "         [ 2.1340e+01, -6.7829e+00,  5.9921e+00,  ..., -1.6096e+00,\n",
       "           1.4673e+01,  2.8739e-02],\n",
       "         [ 1.4853e+01,  6.0461e+00,  2.0083e+01,  ...,  3.8670e+00,\n",
       "           1.7500e+01, -8.9564e+00],\n",
       "         [ 2.9108e-01, -1.6990e+00,  1.8403e+00,  ...,  2.9479e+01,\n",
       "           8.4537e+00,  1.1393e+01]]], device='cuda:0'), tensor([[[ 8.7518e-01, -2.9193e-01, -2.0787e+00,  ...,  9.5691e-01,\n",
       "           1.2586e+00, -1.1766e+00],\n",
       "         [ 2.8245e-01,  7.7959e-04, -4.8437e-01,  ...,  1.8132e+00,\n",
       "          -6.6867e-02, -2.0718e-01],\n",
       "         [ 3.7990e-01,  4.1733e-01, -4.6942e-01,  ...,  6.8315e-01,\n",
       "          -8.2745e-01,  3.0548e-01],\n",
       "         ...,\n",
       "         [-1.6876e-01, -9.4678e-02, -2.7121e-01,  ...,  9.6991e-01,\n",
       "          -5.4538e-01, -7.8037e-01],\n",
       "         [ 3.9214e-01, -4.5037e-01, -2.8424e-01,  ...,  7.0173e-01,\n",
       "           7.8281e-01, -2.2244e-01],\n",
       "         [-1.1355e-01,  9.1667e-01, -1.4762e+00,  ...,  1.8230e+00,\n",
       "           2.9018e-01,  7.3630e-01]]], device='cuda:0')), attentions=(tensor([[[[1.0000e+00, 0.0000e+00, 0.0000e+00,  ..., 0.0000e+00,\n",
       "           0.0000e+00, 0.0000e+00],\n",
       "          [5.9433e-01, 4.0567e-01, 0.0000e+00,  ..., 0.0000e+00,\n",
       "           0.0000e+00, 0.0000e+00],\n",
       "          [3.6221e-01, 6.5035e-02, 5.7276e-01,  ..., 0.0000e+00,\n",
       "           0.0000e+00, 0.0000e+00],\n",
       "          ...,\n",
       "          [6.3374e-02, 1.2088e-02, 1.2817e-01,  ..., 4.6295e-01,\n",
       "           0.0000e+00, 0.0000e+00],\n",
       "          [1.0678e-01, 6.3396e-03, 9.8437e-02,  ..., 3.1356e-01,\n",
       "           3.0954e-01, 0.0000e+00],\n",
       "          [8.8000e-02, 3.3642e-02, 7.8870e-02,  ..., 1.8150e-01,\n",
       "           5.5232e-02, 2.8930e-01]],\n",
       "\n",
       "         [[1.0000e+00, 0.0000e+00, 0.0000e+00,  ..., 0.0000e+00,\n",
       "           0.0000e+00, 0.0000e+00],\n",
       "          [8.4466e-01, 1.5534e-01, 0.0000e+00,  ..., 0.0000e+00,\n",
       "           0.0000e+00, 0.0000e+00],\n",
       "          [5.2721e-01, 1.4188e-01, 3.3091e-01,  ..., 0.0000e+00,\n",
       "           0.0000e+00, 0.0000e+00],\n",
       "          ...,\n",
       "          [1.0108e-02, 9.6906e-04, 4.4864e-01,  ..., 5.1113e-01,\n",
       "           0.0000e+00, 0.0000e+00],\n",
       "          [3.0014e-01, 5.0204e-03, 3.6707e-03,  ..., 2.2797e-03,\n",
       "           6.5507e-02, 0.0000e+00],\n",
       "          [4.6103e-01, 2.4745e-02, 1.6216e-03,  ..., 1.5707e-03,\n",
       "           5.4887e-02, 1.0902e-01]],\n",
       "\n",
       "         [[1.0000e+00, 0.0000e+00, 0.0000e+00,  ..., 0.0000e+00,\n",
       "           0.0000e+00, 0.0000e+00],\n",
       "          [5.7251e-14, 1.0000e+00, 0.0000e+00,  ..., 0.0000e+00,\n",
       "           0.0000e+00, 0.0000e+00],\n",
       "          [1.0400e-10, 6.0289e-04, 9.9940e-01,  ..., 0.0000e+00,\n",
       "           0.0000e+00, 0.0000e+00],\n",
       "          ...,\n",
       "          [6.7761e-07, 1.9693e-06, 8.1165e-04,  ..., 9.9856e-01,\n",
       "           0.0000e+00, 0.0000e+00],\n",
       "          [5.3468e-09, 1.3542e-06, 7.4653e-07,  ..., 2.4815e-07,\n",
       "           9.9995e-01, 0.0000e+00],\n",
       "          [1.2108e-06, 1.2348e-07, 1.2196e-06,  ..., 3.4481e-05,\n",
       "           1.3145e-06, 9.9988e-01]],\n",
       "\n",
       "         ...,\n",
       "\n",
       "         [[1.0000e+00, 0.0000e+00, 0.0000e+00,  ..., 0.0000e+00,\n",
       "           0.0000e+00, 0.0000e+00],\n",
       "          [4.9608e-02, 9.5039e-01, 0.0000e+00,  ..., 0.0000e+00,\n",
       "           0.0000e+00, 0.0000e+00],\n",
       "          [1.8893e-01, 6.7015e-03, 8.0437e-01,  ..., 0.0000e+00,\n",
       "           0.0000e+00, 0.0000e+00],\n",
       "          ...,\n",
       "          [2.0253e-02, 3.0622e-03, 1.6889e-01,  ..., 4.2259e-01,\n",
       "           0.0000e+00, 0.0000e+00],\n",
       "          [5.4340e-03, 4.8114e-03, 1.7167e-01,  ..., 2.5169e-01,\n",
       "           1.6936e-01, 0.0000e+00],\n",
       "          [5.6580e-02, 7.9343e-04, 1.4558e-01,  ..., 3.6116e-01,\n",
       "           9.7167e-03, 1.1134e-01]],\n",
       "\n",
       "         [[1.0000e+00, 0.0000e+00, 0.0000e+00,  ..., 0.0000e+00,\n",
       "           0.0000e+00, 0.0000e+00],\n",
       "          [8.9659e-01, 1.0341e-01, 0.0000e+00,  ..., 0.0000e+00,\n",
       "           0.0000e+00, 0.0000e+00],\n",
       "          [2.8572e-02, 2.6242e-03, 9.6880e-01,  ..., 0.0000e+00,\n",
       "           0.0000e+00, 0.0000e+00],\n",
       "          ...,\n",
       "          [1.6626e-03, 8.2992e-04, 1.0719e-01,  ..., 2.2734e-01,\n",
       "           0.0000e+00, 0.0000e+00],\n",
       "          [1.0277e-02, 1.7263e-04, 1.0777e-02,  ..., 1.4432e-02,\n",
       "           9.4700e-01, 0.0000e+00],\n",
       "          [1.9025e-02, 2.1527e-03, 1.8574e-01,  ..., 2.2925e-01,\n",
       "           1.0926e-03, 1.7767e-02]],\n",
       "\n",
       "         [[1.0000e+00, 0.0000e+00, 0.0000e+00,  ..., 0.0000e+00,\n",
       "           0.0000e+00, 0.0000e+00],\n",
       "          [7.3116e-01, 2.6884e-01, 0.0000e+00,  ..., 0.0000e+00,\n",
       "           0.0000e+00, 0.0000e+00],\n",
       "          [1.6815e-02, 1.6632e-04, 9.8302e-01,  ..., 0.0000e+00,\n",
       "           0.0000e+00, 0.0000e+00],\n",
       "          ...,\n",
       "          [3.1617e-03, 2.1977e-04, 2.5928e-01,  ..., 6.3532e-01,\n",
       "           0.0000e+00, 0.0000e+00],\n",
       "          [9.0404e-06, 1.2217e-07, 6.6833e-06,  ..., 1.0011e-05,\n",
       "           9.9996e-01, 0.0000e+00],\n",
       "          [8.3391e-03, 3.4520e-06, 5.9995e-01,  ..., 3.1342e-01,\n",
       "           1.7001e-04, 2.2553e-02]]]], device='cuda:0'), tensor([[[[[0.0000, 0.0000, 0.0000,  ..., 0.0000, 0.0000, 0.0000],\n",
       "           [0.0000, 0.0000, 0.0000,  ..., 0.0000, 0.0000, 0.0000],\n",
       "           [0.0000, 0.0000, 0.0000,  ..., 0.0000, 0.0000, 0.0000],\n",
       "           ...,\n",
       "           [0.0000, 0.0000, 0.0000,  ..., 0.0637, 0.0000, 0.0000],\n",
       "           [0.0000, 0.0000, 0.0000,  ..., 0.0576, 0.0580, 0.0000],\n",
       "           [0.0000, 0.0000, 0.0000,  ..., 0.0569, 0.0550, 0.0454]],\n",
       "\n",
       "          [[0.0000, 0.0000, 0.0000,  ..., 0.0000, 0.0000, 0.0000],\n",
       "           [0.0000, 0.0000, 0.0000,  ..., 0.0000, 0.0000, 0.0000],\n",
       "           [0.0000, 0.0000, 0.0000,  ..., 0.0000, 0.0000, 0.0000],\n",
       "           ...,\n",
       "           [0.0000, 0.0000, 0.0000,  ..., 0.4053, 0.0000, 0.0000],\n",
       "           [0.0000, 0.0000, 0.0000,  ..., 0.0913, 0.0806, 0.0000],\n",
       "           [0.0000, 0.0000, 0.0000,  ..., 0.0937, 0.0805, 0.1025]],\n",
       "\n",
       "          [[0.0000, 0.0000, 0.0000,  ..., 0.0000, 0.0000, 0.0000],\n",
       "           [0.0000, 0.0000, 0.0000,  ..., 0.0000, 0.0000, 0.0000],\n",
       "           [0.0000, 0.0000, 0.0000,  ..., 0.0000, 0.0000, 0.0000],\n",
       "           ...,\n",
       "           [0.0000, 0.0000, 0.0000,  ..., 0.0422, 0.0000, 0.0000],\n",
       "           [0.0000, 0.0000, 0.0000,  ..., 0.0289, 0.0883, 0.0000],\n",
       "           [0.0000, 0.0000, 0.0000,  ..., 0.0390, 0.1134, 0.0665]],\n",
       "\n",
       "          ...,\n",
       "\n",
       "          [[0.0000, 0.0000, 0.0000,  ..., 0.0000, 0.0000, 0.0000],\n",
       "           [0.0000, 0.0000, 0.0000,  ..., 0.0000, 0.0000, 0.0000],\n",
       "           [0.0000, 0.0000, 0.0000,  ..., 0.0000, 0.0000, 0.0000],\n",
       "           ...,\n",
       "           [0.0000, 0.0000, 0.0000,  ..., 0.2038, 0.0000, 0.0000],\n",
       "           [0.0000, 0.0000, 0.0000,  ..., 0.2107, 0.0046, 0.0000],\n",
       "           [0.0000, 0.0000, 0.0000,  ..., 0.2145, 0.0130, 0.0366]],\n",
       "\n",
       "          [[0.0000, 0.0000, 0.0000,  ..., 0.0000, 0.0000, 0.0000],\n",
       "           [0.0000, 0.0000, 0.0000,  ..., 0.0000, 0.0000, 0.0000],\n",
       "           [0.0000, 0.0000, 0.0000,  ..., 0.0000, 0.0000, 0.0000],\n",
       "           ...,\n",
       "           [0.0000, 0.0000, 0.0000,  ..., 0.0503, 0.0000, 0.0000],\n",
       "           [0.0000, 0.0000, 0.0000,  ..., 0.1016, 0.0412, 0.0000],\n",
       "           [0.0000, 0.0000, 0.0000,  ..., 0.1677, 0.0384, 0.0766]],\n",
       "\n",
       "          [[0.0000, 0.0000, 0.0000,  ..., 0.0000, 0.0000, 0.0000],\n",
       "           [0.0000, 0.0000, 0.0000,  ..., 0.0000, 0.0000, 0.0000],\n",
       "           [0.0000, 0.0000, 0.0000,  ..., 0.0000, 0.0000, 0.0000],\n",
       "           ...,\n",
       "           [0.0000, 0.0000, 0.0000,  ..., 0.1750, 0.0000, 0.0000],\n",
       "           [0.0000, 0.0000, 0.0000,  ..., 0.1511, 0.2042, 0.0000],\n",
       "           [0.0000, 0.0000, 0.0000,  ..., 0.1599, 0.0083, 0.1119]]]]],\n",
       "       device='cuda:0'), tensor([[[[1.0000e+00, 0.0000e+00, 0.0000e+00,  ..., 0.0000e+00,\n",
       "           0.0000e+00, 0.0000e+00],\n",
       "          [9.1477e-01, 8.5227e-02, 0.0000e+00,  ..., 0.0000e+00,\n",
       "           0.0000e+00, 0.0000e+00],\n",
       "          [3.1242e-01, 4.0537e-02, 6.4705e-01,  ..., 0.0000e+00,\n",
       "           0.0000e+00, 0.0000e+00],\n",
       "          ...,\n",
       "          [1.1252e-03, 1.3450e-04, 1.0127e-03,  ..., 6.4182e-01,\n",
       "           0.0000e+00, 0.0000e+00],\n",
       "          [5.8138e-05, 2.0565e-06, 3.4201e-04,  ..., 6.6598e-01,\n",
       "           2.8476e-01, 0.0000e+00],\n",
       "          [1.1487e-04, 7.5121e-07, 1.4535e-04,  ..., 4.4421e-01,\n",
       "           4.2135e-01, 6.9489e-02]],\n",
       "\n",
       "         [[1.0000e+00, 0.0000e+00, 0.0000e+00,  ..., 0.0000e+00,\n",
       "           0.0000e+00, 0.0000e+00],\n",
       "          [9.6880e-01, 3.1205e-02, 0.0000e+00,  ..., 0.0000e+00,\n",
       "           0.0000e+00, 0.0000e+00],\n",
       "          [5.3322e-01, 3.2244e-02, 4.3453e-01,  ..., 0.0000e+00,\n",
       "           0.0000e+00, 0.0000e+00],\n",
       "          ...,\n",
       "          [3.8936e-01, 1.7834e-02, 1.1623e-01,  ..., 2.2754e-01,\n",
       "           0.0000e+00, 0.0000e+00],\n",
       "          [3.6177e-01, 4.5808e-02, 1.2133e-01,  ..., 1.1855e-01,\n",
       "           1.2872e-02, 0.0000e+00],\n",
       "          [2.4225e-01, 3.7209e-02, 7.9135e-02,  ..., 9.5379e-02,\n",
       "           3.2952e-02, 2.3019e-01]],\n",
       "\n",
       "         [[1.0000e+00, 0.0000e+00, 0.0000e+00,  ..., 0.0000e+00,\n",
       "           0.0000e+00, 0.0000e+00],\n",
       "          [8.8877e-01, 1.1123e-01, 0.0000e+00,  ..., 0.0000e+00,\n",
       "           0.0000e+00, 0.0000e+00],\n",
       "          [8.0019e-01, 1.0595e-01, 9.3855e-02,  ..., 0.0000e+00,\n",
       "           0.0000e+00, 0.0000e+00],\n",
       "          ...,\n",
       "          [3.8979e-01, 5.1661e-02, 4.8939e-02,  ..., 7.8177e-02,\n",
       "           0.0000e+00, 0.0000e+00],\n",
       "          [3.7972e-01, 4.9039e-02, 4.2341e-02,  ..., 7.1738e-02,\n",
       "           5.6071e-02, 0.0000e+00],\n",
       "          [3.5455e-01, 4.4101e-02, 4.3535e-02,  ..., 7.1547e-02,\n",
       "           5.7714e-02, 4.2420e-02]],\n",
       "\n",
       "         ...,\n",
       "\n",
       "         [[1.0000e+00, 0.0000e+00, 0.0000e+00,  ..., 0.0000e+00,\n",
       "           0.0000e+00, 0.0000e+00],\n",
       "          [9.2104e-01, 7.8956e-02, 0.0000e+00,  ..., 0.0000e+00,\n",
       "           0.0000e+00, 0.0000e+00],\n",
       "          [5.4993e-01, 2.3148e-03, 4.4776e-01,  ..., 0.0000e+00,\n",
       "           0.0000e+00, 0.0000e+00],\n",
       "          ...,\n",
       "          [3.4149e-01, 9.2462e-04, 6.3472e-02,  ..., 4.0321e-01,\n",
       "           0.0000e+00, 0.0000e+00],\n",
       "          [1.3866e-01, 1.2780e-03, 1.2083e-01,  ..., 3.7874e-01,\n",
       "           3.0530e-02, 0.0000e+00],\n",
       "          [5.0081e-02, 4.1344e-03, 8.8130e-02,  ..., 2.1397e-01,\n",
       "           2.1289e-02, 1.4722e-01]],\n",
       "\n",
       "         [[1.0000e+00, 0.0000e+00, 0.0000e+00,  ..., 0.0000e+00,\n",
       "           0.0000e+00, 0.0000e+00],\n",
       "          [9.3011e-01, 6.9891e-02, 0.0000e+00,  ..., 0.0000e+00,\n",
       "           0.0000e+00, 0.0000e+00],\n",
       "          [8.3070e-01, 3.4056e-02, 1.3524e-01,  ..., 0.0000e+00,\n",
       "           0.0000e+00, 0.0000e+00],\n",
       "          ...,\n",
       "          [1.8804e-01, 1.2038e-02, 1.3011e-02,  ..., 9.8061e-02,\n",
       "           0.0000e+00, 0.0000e+00],\n",
       "          [1.1289e-01, 3.9873e-03, 1.8250e-02,  ..., 3.7782e-01,\n",
       "           3.0154e-01, 0.0000e+00],\n",
       "          [2.6774e-02, 9.6691e-04, 1.9921e-03,  ..., 3.8269e-02,\n",
       "           8.3740e-01, 2.0365e-02]],\n",
       "\n",
       "         [[1.0000e+00, 0.0000e+00, 0.0000e+00,  ..., 0.0000e+00,\n",
       "           0.0000e+00, 0.0000e+00],\n",
       "          [9.7040e-01, 2.9600e-02, 0.0000e+00,  ..., 0.0000e+00,\n",
       "           0.0000e+00, 0.0000e+00],\n",
       "          [8.4940e-01, 4.8406e-02, 1.0219e-01,  ..., 0.0000e+00,\n",
       "           0.0000e+00, 0.0000e+00],\n",
       "          ...,\n",
       "          [4.0335e-01, 4.2623e-02, 3.4647e-02,  ..., 5.2481e-02,\n",
       "           0.0000e+00, 0.0000e+00],\n",
       "          [3.4184e-01, 2.4957e-02, 9.4577e-02,  ..., 1.2171e-01,\n",
       "           7.3293e-02, 0.0000e+00],\n",
       "          [4.4363e-01, 2.2049e-02, 5.7328e-02,  ..., 9.8247e-02,\n",
       "           4.6135e-02, 3.6170e-02]]]], device='cuda:0'), tensor([[[[[0.0000, 0.0000, 0.0000,  ..., 0.0000, 0.0000, 0.0000],\n",
       "           [0.0000, 0.0000, 0.0000,  ..., 0.0000, 0.0000, 0.0000],\n",
       "           [0.0000, 0.0000, 0.0000,  ..., 0.0000, 0.0000, 0.0000],\n",
       "           ...,\n",
       "           [0.0000, 0.0000, 0.0000,  ..., 0.3200, 0.0000, 0.0000],\n",
       "           [0.0000, 0.0000, 0.0000,  ..., 0.4507, 0.0154, 0.0000],\n",
       "           [0.0000, 0.0000, 0.0000,  ..., 0.3901, 0.0583, 0.1664]],\n",
       "\n",
       "          [[0.0000, 0.0000, 0.0000,  ..., 0.0000, 0.0000, 0.0000],\n",
       "           [0.0000, 0.0000, 0.0000,  ..., 0.0000, 0.0000, 0.0000],\n",
       "           [0.0000, 0.0000, 0.0000,  ..., 0.0000, 0.0000, 0.0000],\n",
       "           ...,\n",
       "           [0.0000, 0.0000, 0.0000,  ..., 0.3872, 0.0000, 0.0000],\n",
       "           [0.0000, 0.0000, 0.0000,  ..., 0.2482, 0.4267, 0.0000],\n",
       "           [0.0000, 0.0000, 0.0000,  ..., 0.2007, 0.1078, 0.5363]],\n",
       "\n",
       "          [[0.0000, 0.0000, 0.0000,  ..., 0.0000, 0.0000, 0.0000],\n",
       "           [0.0000, 0.0000, 0.0000,  ..., 0.0000, 0.0000, 0.0000],\n",
       "           [0.0000, 0.0000, 0.0000,  ..., 0.0000, 0.0000, 0.0000],\n",
       "           ...,\n",
       "           [0.0000, 0.0000, 0.0000,  ..., 0.6134, 0.0000, 0.0000],\n",
       "           [0.0000, 0.0000, 0.0000,  ..., 0.7999, 0.1280, 0.0000],\n",
       "           [0.0000, 0.0000, 0.0000,  ..., 0.3218, 0.3597, 0.2842]],\n",
       "\n",
       "          ...,\n",
       "\n",
       "          [[0.0000, 0.0000, 0.0000,  ..., 0.0000, 0.0000, 0.0000],\n",
       "           [0.0000, 0.0000, 0.0000,  ..., 0.0000, 0.0000, 0.0000],\n",
       "           [0.0000, 0.0000, 0.0000,  ..., 0.0000, 0.0000, 0.0000],\n",
       "           ...,\n",
       "           [0.0000, 0.0000, 0.0000,  ..., 0.9491, 0.0000, 0.0000],\n",
       "           [0.0000, 0.0000, 0.0000,  ..., 0.7622, 0.1981, 0.0000],\n",
       "           [0.0000, 0.0000, 0.0000,  ..., 0.6932, 0.0943, 0.1910]],\n",
       "\n",
       "          [[0.0000, 0.0000, 0.0000,  ..., 0.0000, 0.0000, 0.0000],\n",
       "           [0.0000, 0.0000, 0.0000,  ..., 0.0000, 0.0000, 0.0000],\n",
       "           [0.0000, 0.0000, 0.0000,  ..., 0.0000, 0.0000, 0.0000],\n",
       "           ...,\n",
       "           [0.0000, 0.0000, 0.0000,  ..., 0.4369, 0.0000, 0.0000],\n",
       "           [0.0000, 0.0000, 0.0000,  ..., 0.3547, 0.1581, 0.0000],\n",
       "           [0.0000, 0.0000, 0.0000,  ..., 0.4933, 0.0435, 0.0449]],\n",
       "\n",
       "          [[0.0000, 0.0000, 0.0000,  ..., 0.0000, 0.0000, 0.0000],\n",
       "           [0.0000, 0.0000, 0.0000,  ..., 0.0000, 0.0000, 0.0000],\n",
       "           [0.0000, 0.0000, 0.0000,  ..., 0.0000, 0.0000, 0.0000],\n",
       "           ...,\n",
       "           [0.0000, 0.0000, 0.0000,  ..., 0.7545, 0.0000, 0.0000],\n",
       "           [0.0000, 0.0000, 0.0000,  ..., 0.7286, 0.2523, 0.0000],\n",
       "           [0.0000, 0.0000, 0.0000,  ..., 0.1019, 0.8064, 0.0645]]]]],\n",
       "       device='cuda:0'), tensor([[[[1.0000e+00, 0.0000e+00, 0.0000e+00,  ..., 0.0000e+00,\n",
       "           0.0000e+00, 0.0000e+00],\n",
       "          [6.5184e-01, 3.4816e-01, 0.0000e+00,  ..., 0.0000e+00,\n",
       "           0.0000e+00, 0.0000e+00],\n",
       "          [3.6519e-01, 5.0853e-01, 1.2628e-01,  ..., 0.0000e+00,\n",
       "           0.0000e+00, 0.0000e+00],\n",
       "          ...,\n",
       "          [1.3098e-01, 8.2093e-02, 2.5183e-02,  ..., 7.3346e-02,\n",
       "           0.0000e+00, 0.0000e+00],\n",
       "          [1.1596e-01, 3.2186e-02, 6.7870e-02,  ..., 4.2684e-01,\n",
       "           1.0508e-01, 0.0000e+00],\n",
       "          [1.2596e-02, 6.9367e-03, 9.9311e-03,  ..., 5.8975e-02,\n",
       "           1.7296e-01, 6.6740e-01]],\n",
       "\n",
       "         [[1.0000e+00, 0.0000e+00, 0.0000e+00,  ..., 0.0000e+00,\n",
       "           0.0000e+00, 0.0000e+00],\n",
       "          [8.3277e-01, 1.6723e-01, 0.0000e+00,  ..., 0.0000e+00,\n",
       "           0.0000e+00, 0.0000e+00],\n",
       "          [5.2125e-01, 1.1913e-01, 3.5962e-01,  ..., 0.0000e+00,\n",
       "           0.0000e+00, 0.0000e+00],\n",
       "          ...,\n",
       "          [1.7813e-02, 1.1373e-03, 9.3607e-03,  ..., 8.2869e-01,\n",
       "           0.0000e+00, 0.0000e+00],\n",
       "          [1.2240e-02, 2.5231e-03, 9.9832e-03,  ..., 8.3603e-01,\n",
       "           6.4814e-02, 0.0000e+00],\n",
       "          [3.1664e-03, 1.8779e-03, 1.2064e-02,  ..., 4.5320e-01,\n",
       "           2.5431e-01, 1.6379e-01]],\n",
       "\n",
       "         [[1.0000e+00, 0.0000e+00, 0.0000e+00,  ..., 0.0000e+00,\n",
       "           0.0000e+00, 0.0000e+00],\n",
       "          [7.9426e-01, 2.0574e-01, 0.0000e+00,  ..., 0.0000e+00,\n",
       "           0.0000e+00, 0.0000e+00],\n",
       "          [3.6717e-01, 2.8607e-01, 3.4676e-01,  ..., 0.0000e+00,\n",
       "           0.0000e+00, 0.0000e+00],\n",
       "          ...,\n",
       "          [1.0378e-02, 3.9542e-03, 9.6196e-03,  ..., 6.2063e-01,\n",
       "           0.0000e+00, 0.0000e+00],\n",
       "          [4.8632e-03, 2.6346e-03, 4.2243e-03,  ..., 1.4524e-01,\n",
       "           7.4055e-01, 0.0000e+00],\n",
       "          [1.5332e-03, 1.7550e-04, 2.4239e-03,  ..., 1.4641e-01,\n",
       "           7.1241e-02, 6.8575e-01]],\n",
       "\n",
       "         ...,\n",
       "\n",
       "         [[1.0000e+00, 0.0000e+00, 0.0000e+00,  ..., 0.0000e+00,\n",
       "           0.0000e+00, 0.0000e+00],\n",
       "          [9.9680e-01, 3.2030e-03, 0.0000e+00,  ..., 0.0000e+00,\n",
       "           0.0000e+00, 0.0000e+00],\n",
       "          [1.3812e-02, 9.8541e-01, 7.7895e-04,  ..., 0.0000e+00,\n",
       "           0.0000e+00, 0.0000e+00],\n",
       "          ...,\n",
       "          [3.6507e-03, 5.3835e-04, 2.8881e-04,  ..., 2.6448e-01,\n",
       "           0.0000e+00, 0.0000e+00],\n",
       "          [1.5424e-05, 1.0478e-06, 2.1550e-06,  ..., 9.9456e-01,\n",
       "           4.4349e-04, 0.0000e+00],\n",
       "          [7.9781e-04, 7.4549e-06, 2.5080e-04,  ..., 6.0525e-01,\n",
       "           2.5360e-01, 8.4637e-02]],\n",
       "\n",
       "         [[1.0000e+00, 0.0000e+00, 0.0000e+00,  ..., 0.0000e+00,\n",
       "           0.0000e+00, 0.0000e+00],\n",
       "          [5.9202e-01, 4.0798e-01, 0.0000e+00,  ..., 0.0000e+00,\n",
       "           0.0000e+00, 0.0000e+00],\n",
       "          [5.7989e-01, 1.7232e-01, 2.4779e-01,  ..., 0.0000e+00,\n",
       "           0.0000e+00, 0.0000e+00],\n",
       "          ...,\n",
       "          [6.2252e-02, 3.1522e-02, 3.5347e-02,  ..., 3.3386e-01,\n",
       "           0.0000e+00, 0.0000e+00],\n",
       "          [2.2390e-02, 3.7974e-03, 1.4629e-02,  ..., 4.3263e-01,\n",
       "           3.4685e-01, 0.0000e+00],\n",
       "          [1.2548e-02, 1.1111e-03, 6.0797e-03,  ..., 4.6476e-01,\n",
       "           1.1177e-01, 3.2716e-01]],\n",
       "\n",
       "         [[1.0000e+00, 0.0000e+00, 0.0000e+00,  ..., 0.0000e+00,\n",
       "           0.0000e+00, 0.0000e+00],\n",
       "          [9.7308e-01, 2.6924e-02, 0.0000e+00,  ..., 0.0000e+00,\n",
       "           0.0000e+00, 0.0000e+00],\n",
       "          [7.6751e-01, 1.9056e-01, 4.1932e-02,  ..., 0.0000e+00,\n",
       "           0.0000e+00, 0.0000e+00],\n",
       "          ...,\n",
       "          [1.0668e-01, 1.9004e-02, 9.9518e-03,  ..., 1.8365e-01,\n",
       "           0.0000e+00, 0.0000e+00],\n",
       "          [4.4577e-02, 3.0153e-03, 3.2701e-03,  ..., 6.5169e-02,\n",
       "           7.7326e-01, 0.0000e+00],\n",
       "          [8.1693e-03, 1.0947e-03, 2.4020e-03,  ..., 2.3344e-02,\n",
       "           2.8898e-02, 8.7956e-01]]]], device='cuda:0'), tensor([[[[[0.0000e+00, 0.0000e+00, 0.0000e+00,  ..., 0.0000e+00,\n",
       "            0.0000e+00, 0.0000e+00],\n",
       "           [0.0000e+00, 0.0000e+00, 0.0000e+00,  ..., 0.0000e+00,\n",
       "            0.0000e+00, 0.0000e+00],\n",
       "           [0.0000e+00, 0.0000e+00, 0.0000e+00,  ..., 0.0000e+00,\n",
       "            0.0000e+00, 0.0000e+00],\n",
       "           ...,\n",
       "           [0.0000e+00, 0.0000e+00, 0.0000e+00,  ..., 6.2302e-02,\n",
       "            0.0000e+00, 0.0000e+00],\n",
       "           [0.0000e+00, 0.0000e+00, 0.0000e+00,  ..., 9.9293e-01,\n",
       "            1.3664e-04, 0.0000e+00],\n",
       "           [0.0000e+00, 0.0000e+00, 0.0000e+00,  ..., 1.9342e-02,\n",
       "            9.7169e-01, 8.8753e-03]],\n",
       "\n",
       "          [[0.0000e+00, 0.0000e+00, 0.0000e+00,  ..., 0.0000e+00,\n",
       "            0.0000e+00, 0.0000e+00],\n",
       "           [0.0000e+00, 0.0000e+00, 0.0000e+00,  ..., 0.0000e+00,\n",
       "            0.0000e+00, 0.0000e+00],\n",
       "           [0.0000e+00, 0.0000e+00, 0.0000e+00,  ..., 0.0000e+00,\n",
       "            0.0000e+00, 0.0000e+00],\n",
       "           ...,\n",
       "           [0.0000e+00, 0.0000e+00, 0.0000e+00,  ..., 3.9325e-01,\n",
       "            0.0000e+00, 0.0000e+00],\n",
       "           [0.0000e+00, 0.0000e+00, 0.0000e+00,  ..., 7.7897e-01,\n",
       "            1.2329e-01, 0.0000e+00],\n",
       "           [0.0000e+00, 0.0000e+00, 0.0000e+00,  ..., 2.1260e-01,\n",
       "            4.6989e-01, 2.5701e-01]],\n",
       "\n",
       "          [[0.0000e+00, 0.0000e+00, 0.0000e+00,  ..., 0.0000e+00,\n",
       "            0.0000e+00, 0.0000e+00],\n",
       "           [0.0000e+00, 0.0000e+00, 0.0000e+00,  ..., 0.0000e+00,\n",
       "            0.0000e+00, 0.0000e+00],\n",
       "           [0.0000e+00, 0.0000e+00, 0.0000e+00,  ..., 0.0000e+00,\n",
       "            0.0000e+00, 0.0000e+00],\n",
       "           ...,\n",
       "           [0.0000e+00, 0.0000e+00, 0.0000e+00,  ..., 9.3218e-02,\n",
       "            0.0000e+00, 0.0000e+00],\n",
       "           [0.0000e+00, 0.0000e+00, 0.0000e+00,  ..., 1.4272e-01,\n",
       "            3.3192e-02, 0.0000e+00],\n",
       "           [0.0000e+00, 0.0000e+00, 0.0000e+00,  ..., 1.0822e-01,\n",
       "            2.9701e-02, 6.2916e-02]],\n",
       "\n",
       "          ...,\n",
       "\n",
       "          [[0.0000e+00, 0.0000e+00, 0.0000e+00,  ..., 0.0000e+00,\n",
       "            0.0000e+00, 0.0000e+00],\n",
       "           [0.0000e+00, 0.0000e+00, 0.0000e+00,  ..., 0.0000e+00,\n",
       "            0.0000e+00, 0.0000e+00],\n",
       "           [0.0000e+00, 0.0000e+00, 0.0000e+00,  ..., 0.0000e+00,\n",
       "            0.0000e+00, 0.0000e+00],\n",
       "           ...,\n",
       "           [0.0000e+00, 0.0000e+00, 0.0000e+00,  ..., 3.2045e-01,\n",
       "            0.0000e+00, 0.0000e+00],\n",
       "           [0.0000e+00, 0.0000e+00, 0.0000e+00,  ..., 8.6991e-01,\n",
       "            5.9262e-02, 0.0000e+00],\n",
       "           [0.0000e+00, 0.0000e+00, 0.0000e+00,  ..., 5.0367e-01,\n",
       "            2.3200e-01, 1.1044e-01]],\n",
       "\n",
       "          [[0.0000e+00, 0.0000e+00, 0.0000e+00,  ..., 0.0000e+00,\n",
       "            0.0000e+00, 0.0000e+00],\n",
       "           [0.0000e+00, 0.0000e+00, 0.0000e+00,  ..., 0.0000e+00,\n",
       "            0.0000e+00, 0.0000e+00],\n",
       "           [0.0000e+00, 0.0000e+00, 0.0000e+00,  ..., 0.0000e+00,\n",
       "            0.0000e+00, 0.0000e+00],\n",
       "           ...,\n",
       "           [0.0000e+00, 0.0000e+00, 0.0000e+00,  ..., 3.8765e-01,\n",
       "            0.0000e+00, 0.0000e+00],\n",
       "           [0.0000e+00, 0.0000e+00, 0.0000e+00,  ..., 1.1021e-01,\n",
       "            8.0758e-01, 0.0000e+00],\n",
       "           [0.0000e+00, 0.0000e+00, 0.0000e+00,  ..., 1.0987e-01,\n",
       "            2.1250e-01, 5.7878e-01]],\n",
       "\n",
       "          [[0.0000e+00, 0.0000e+00, 0.0000e+00,  ..., 0.0000e+00,\n",
       "            0.0000e+00, 0.0000e+00],\n",
       "           [0.0000e+00, 0.0000e+00, 0.0000e+00,  ..., 0.0000e+00,\n",
       "            0.0000e+00, 0.0000e+00],\n",
       "           [0.0000e+00, 0.0000e+00, 0.0000e+00,  ..., 0.0000e+00,\n",
       "            0.0000e+00, 0.0000e+00],\n",
       "           ...,\n",
       "           [0.0000e+00, 0.0000e+00, 0.0000e+00,  ..., 2.9223e-01,\n",
       "            0.0000e+00, 0.0000e+00],\n",
       "           [0.0000e+00, 0.0000e+00, 0.0000e+00,  ..., 4.6289e-01,\n",
       "            6.3131e-02, 0.0000e+00],\n",
       "           [0.0000e+00, 0.0000e+00, 0.0000e+00,  ..., 5.5686e-01,\n",
       "            1.7554e-01, 7.4762e-02]]]]], device='cuda:0'), tensor([[[[1.0000e+00, 0.0000e+00, 0.0000e+00,  ..., 0.0000e+00,\n",
       "           0.0000e+00, 0.0000e+00],\n",
       "          [9.8210e-01, 1.7904e-02, 0.0000e+00,  ..., 0.0000e+00,\n",
       "           0.0000e+00, 0.0000e+00],\n",
       "          [9.7975e-01, 4.5816e-04, 1.9792e-02,  ..., 0.0000e+00,\n",
       "           0.0000e+00, 0.0000e+00],\n",
       "          ...,\n",
       "          [9.7763e-01, 9.3546e-04, 9.7001e-04,  ..., 6.4377e-03,\n",
       "           0.0000e+00, 0.0000e+00],\n",
       "          [9.8252e-01, 5.1733e-03, 1.2454e-03,  ..., 6.8883e-04,\n",
       "           1.6404e-03, 0.0000e+00],\n",
       "          [8.8477e-01, 6.7224e-03, 3.6538e-03,  ..., 2.4474e-04,\n",
       "           1.8365e-03, 3.5263e-02]],\n",
       "\n",
       "         [[1.0000e+00, 0.0000e+00, 0.0000e+00,  ..., 0.0000e+00,\n",
       "           0.0000e+00, 0.0000e+00],\n",
       "          [9.9457e-01, 5.4254e-03, 0.0000e+00,  ..., 0.0000e+00,\n",
       "           0.0000e+00, 0.0000e+00],\n",
       "          [9.9153e-01, 6.1952e-04, 7.8523e-03,  ..., 0.0000e+00,\n",
       "           0.0000e+00, 0.0000e+00],\n",
       "          ...,\n",
       "          [9.8740e-01, 3.3210e-06, 5.6479e-06,  ..., 8.5580e-03,\n",
       "           0.0000e+00, 0.0000e+00],\n",
       "          [9.9977e-01, 2.0857e-08, 1.6643e-07,  ..., 7.5456e-06,\n",
       "           1.7713e-04, 0.0000e+00],\n",
       "          [9.9851e-01, 3.5545e-06, 1.8185e-05,  ..., 5.3726e-06,\n",
       "           1.0540e-04, 5.4127e-04]],\n",
       "\n",
       "         [[1.0000e+00, 0.0000e+00, 0.0000e+00,  ..., 0.0000e+00,\n",
       "           0.0000e+00, 0.0000e+00],\n",
       "          [9.5044e-01, 4.9559e-02, 0.0000e+00,  ..., 0.0000e+00,\n",
       "           0.0000e+00, 0.0000e+00],\n",
       "          [6.0475e-01, 9.4735e-02, 3.0051e-01,  ..., 0.0000e+00,\n",
       "           0.0000e+00, 0.0000e+00],\n",
       "          ...,\n",
       "          [3.9606e-01, 2.3935e-02, 7.2493e-02,  ..., 2.4958e-01,\n",
       "           0.0000e+00, 0.0000e+00],\n",
       "          [4.7920e-01, 2.3430e-02, 4.2185e-02,  ..., 1.0899e-01,\n",
       "           5.9912e-02, 0.0000e+00],\n",
       "          [5.5881e-01, 2.0210e-02, 4.3704e-02,  ..., 1.2199e-01,\n",
       "           3.7250e-02, 3.2944e-02]],\n",
       "\n",
       "         ...,\n",
       "\n",
       "         [[1.0000e+00, 0.0000e+00, 0.0000e+00,  ..., 0.0000e+00,\n",
       "           0.0000e+00, 0.0000e+00],\n",
       "          [7.2505e-01, 2.7495e-01, 0.0000e+00,  ..., 0.0000e+00,\n",
       "           0.0000e+00, 0.0000e+00],\n",
       "          [4.3125e-01, 4.1897e-01, 1.4978e-01,  ..., 0.0000e+00,\n",
       "           0.0000e+00, 0.0000e+00],\n",
       "          ...,\n",
       "          [9.1677e-02, 3.5574e-02, 1.0703e-01,  ..., 1.0927e-01,\n",
       "           0.0000e+00, 0.0000e+00],\n",
       "          [3.3018e-01, 4.2536e-02, 5.9461e-02,  ..., 1.4459e-01,\n",
       "           2.6023e-01, 0.0000e+00],\n",
       "          [4.1816e-02, 1.6204e-02, 6.4292e-02,  ..., 2.5367e-02,\n",
       "           6.8881e-01, 8.8385e-02]],\n",
       "\n",
       "         [[1.0000e+00, 0.0000e+00, 0.0000e+00,  ..., 0.0000e+00,\n",
       "           0.0000e+00, 0.0000e+00],\n",
       "          [9.8007e-01, 1.9925e-02, 0.0000e+00,  ..., 0.0000e+00,\n",
       "           0.0000e+00, 0.0000e+00],\n",
       "          [6.4111e-01, 2.4331e-01, 1.1558e-01,  ..., 0.0000e+00,\n",
       "           0.0000e+00, 0.0000e+00],\n",
       "          ...,\n",
       "          [3.9959e-01, 1.3489e-01, 7.3203e-02,  ..., 1.2445e-01,\n",
       "           0.0000e+00, 0.0000e+00],\n",
       "          [3.4823e-01, 1.8753e-01, 1.2360e-01,  ..., 1.0824e-01,\n",
       "           3.1912e-02, 0.0000e+00],\n",
       "          [3.5513e-01, 8.2514e-02, 8.4168e-02,  ..., 6.9727e-02,\n",
       "           1.9211e-02, 3.8553e-02]],\n",
       "\n",
       "         [[1.0000e+00, 0.0000e+00, 0.0000e+00,  ..., 0.0000e+00,\n",
       "           0.0000e+00, 0.0000e+00],\n",
       "          [9.9601e-01, 3.9916e-03, 0.0000e+00,  ..., 0.0000e+00,\n",
       "           0.0000e+00, 0.0000e+00],\n",
       "          [9.8012e-01, 2.6357e-03, 1.7246e-02,  ..., 0.0000e+00,\n",
       "           0.0000e+00, 0.0000e+00],\n",
       "          ...,\n",
       "          [9.2502e-01, 2.4934e-04, 3.4550e-04,  ..., 4.2324e-02,\n",
       "           0.0000e+00, 0.0000e+00],\n",
       "          [9.8753e-01, 3.0122e-05, 9.4748e-04,  ..., 1.0488e-03,\n",
       "           2.7376e-03, 0.0000e+00],\n",
       "          [9.5201e-01, 5.6990e-04, 1.5978e-03,  ..., 2.5284e-03,\n",
       "           2.5647e-03, 3.4641e-03]]]], device='cuda:0'), tensor([[[[[0.0000, 0.0000, 0.0000,  ..., 0.0000, 0.0000, 0.0000],\n",
       "           [0.0000, 0.0000, 0.0000,  ..., 0.0000, 0.0000, 0.0000],\n",
       "           [0.0000, 0.0000, 0.0000,  ..., 0.0000, 0.0000, 0.0000],\n",
       "           ...,\n",
       "           [0.0000, 0.0000, 0.0000,  ..., 0.1161, 0.0000, 0.0000],\n",
       "           [0.0000, 0.0000, 0.0000,  ..., 0.0688, 0.0178, 0.0000],\n",
       "           [0.0000, 0.0000, 0.0000,  ..., 0.0269, 0.0161, 0.0215]],\n",
       "\n",
       "          [[0.0000, 0.0000, 0.0000,  ..., 0.0000, 0.0000, 0.0000],\n",
       "           [0.0000, 0.0000, 0.0000,  ..., 0.0000, 0.0000, 0.0000],\n",
       "           [0.0000, 0.0000, 0.0000,  ..., 0.0000, 0.0000, 0.0000],\n",
       "           ...,\n",
       "           [0.0000, 0.0000, 0.0000,  ..., 0.1574, 0.0000, 0.0000],\n",
       "           [0.0000, 0.0000, 0.0000,  ..., 0.7118, 0.0450, 0.0000],\n",
       "           [0.0000, 0.0000, 0.0000,  ..., 0.3850, 0.4613, 0.0440]],\n",
       "\n",
       "          [[0.0000, 0.0000, 0.0000,  ..., 0.0000, 0.0000, 0.0000],\n",
       "           [0.0000, 0.0000, 0.0000,  ..., 0.0000, 0.0000, 0.0000],\n",
       "           [0.0000, 0.0000, 0.0000,  ..., 0.0000, 0.0000, 0.0000],\n",
       "           ...,\n",
       "           [0.0000, 0.0000, 0.0000,  ..., 0.2805, 0.0000, 0.0000],\n",
       "           [0.0000, 0.0000, 0.0000,  ..., 0.1966, 0.0050, 0.0000],\n",
       "           [0.0000, 0.0000, 0.0000,  ..., 0.2186, 0.0095, 0.0399]],\n",
       "\n",
       "          ...,\n",
       "\n",
       "          [[0.0000, 0.0000, 0.0000,  ..., 0.0000, 0.0000, 0.0000],\n",
       "           [0.0000, 0.0000, 0.0000,  ..., 0.0000, 0.0000, 0.0000],\n",
       "           [0.0000, 0.0000, 0.0000,  ..., 0.0000, 0.0000, 0.0000],\n",
       "           ...,\n",
       "           [0.0000, 0.0000, 0.0000,  ..., 0.0396, 0.0000, 0.0000],\n",
       "           [0.0000, 0.0000, 0.0000,  ..., 0.0271, 0.4430, 0.0000],\n",
       "           [0.0000, 0.0000, 0.0000,  ..., 0.0291, 0.0583, 0.4138]],\n",
       "\n",
       "          [[0.0000, 0.0000, 0.0000,  ..., 0.0000, 0.0000, 0.0000],\n",
       "           [0.0000, 0.0000, 0.0000,  ..., 0.0000, 0.0000, 0.0000],\n",
       "           [0.0000, 0.0000, 0.0000,  ..., 0.0000, 0.0000, 0.0000],\n",
       "           ...,\n",
       "           [0.0000, 0.0000, 0.0000,  ..., 0.1409, 0.0000, 0.0000],\n",
       "           [0.0000, 0.0000, 0.0000,  ..., 0.1391, 0.0180, 0.0000],\n",
       "           [0.0000, 0.0000, 0.0000,  ..., 0.0906, 0.0222, 0.0121]],\n",
       "\n",
       "          [[0.0000, 0.0000, 0.0000,  ..., 0.0000, 0.0000, 0.0000],\n",
       "           [0.0000, 0.0000, 0.0000,  ..., 0.0000, 0.0000, 0.0000],\n",
       "           [0.0000, 0.0000, 0.0000,  ..., 0.0000, 0.0000, 0.0000],\n",
       "           ...,\n",
       "           [0.0000, 0.0000, 0.0000,  ..., 0.5113, 0.0000, 0.0000],\n",
       "           [0.0000, 0.0000, 0.0000,  ..., 0.0026, 0.9770, 0.0000],\n",
       "           [0.0000, 0.0000, 0.0000,  ..., 0.0089, 0.0321, 0.8517]]]]],\n",
       "       device='cuda:0'), tensor([[[[1.0000e+00, 0.0000e+00, 0.0000e+00,  ..., 0.0000e+00,\n",
       "           0.0000e+00, 0.0000e+00],\n",
       "          [9.7641e-01, 2.3591e-02, 0.0000e+00,  ..., 0.0000e+00,\n",
       "           0.0000e+00, 0.0000e+00],\n",
       "          [9.9576e-01, 1.3844e-03, 2.8544e-03,  ..., 0.0000e+00,\n",
       "           0.0000e+00, 0.0000e+00],\n",
       "          ...,\n",
       "          [9.7946e-01, 2.6613e-03, 2.0001e-03,  ..., 2.7149e-03,\n",
       "           0.0000e+00, 0.0000e+00],\n",
       "          [9.9397e-01, 2.4806e-04, 1.0859e-03,  ..., 1.2379e-03,\n",
       "           7.7361e-04, 0.0000e+00],\n",
       "          [9.9262e-01, 3.0779e-04, 1.6345e-04,  ..., 3.9772e-04,\n",
       "           1.3106e-03, 6.0623e-04]],\n",
       "\n",
       "         [[1.0000e+00, 0.0000e+00, 0.0000e+00,  ..., 0.0000e+00,\n",
       "           0.0000e+00, 0.0000e+00],\n",
       "          [9.8432e-01, 1.5683e-02, 0.0000e+00,  ..., 0.0000e+00,\n",
       "           0.0000e+00, 0.0000e+00],\n",
       "          [9.8708e-01, 5.4047e-03, 7.5169e-03,  ..., 0.0000e+00,\n",
       "           0.0000e+00, 0.0000e+00],\n",
       "          ...,\n",
       "          [9.6174e-01, 4.9232e-03, 2.9103e-03,  ..., 8.9919e-03,\n",
       "           0.0000e+00, 0.0000e+00],\n",
       "          [9.9248e-01, 1.9867e-04, 7.2997e-04,  ..., 1.0746e-03,\n",
       "           7.3668e-04, 0.0000e+00],\n",
       "          [9.8247e-01, 6.8648e-04, 7.2608e-04,  ..., 1.9106e-03,\n",
       "           1.8317e-03, 3.1735e-03]],\n",
       "\n",
       "         [[1.0000e+00, 0.0000e+00, 0.0000e+00,  ..., 0.0000e+00,\n",
       "           0.0000e+00, 0.0000e+00],\n",
       "          [9.8258e-01, 1.7418e-02, 0.0000e+00,  ..., 0.0000e+00,\n",
       "           0.0000e+00, 0.0000e+00],\n",
       "          [9.8792e-01, 4.8826e-03, 7.1937e-03,  ..., 0.0000e+00,\n",
       "           0.0000e+00, 0.0000e+00],\n",
       "          ...,\n",
       "          [9.5079e-01, 5.7359e-03, 4.0271e-03,  ..., 1.1636e-02,\n",
       "           0.0000e+00, 0.0000e+00],\n",
       "          [9.3172e-01, 1.1664e-02, 1.0888e-02,  ..., 7.3703e-03,\n",
       "           8.1443e-03, 0.0000e+00],\n",
       "          [8.9907e-01, 3.8474e-03, 7.8422e-03,  ..., 9.0608e-03,\n",
       "           1.1594e-02, 3.5373e-02]],\n",
       "\n",
       "         ...,\n",
       "\n",
       "         [[1.0000e+00, 0.0000e+00, 0.0000e+00,  ..., 0.0000e+00,\n",
       "           0.0000e+00, 0.0000e+00],\n",
       "          [9.8891e-01, 1.1085e-02, 0.0000e+00,  ..., 0.0000e+00,\n",
       "           0.0000e+00, 0.0000e+00],\n",
       "          [7.9727e-01, 3.4752e-02, 1.6798e-01,  ..., 0.0000e+00,\n",
       "           0.0000e+00, 0.0000e+00],\n",
       "          ...,\n",
       "          [6.1456e-01, 2.2353e-02, 8.3103e-02,  ..., 1.5659e-01,\n",
       "           0.0000e+00, 0.0000e+00],\n",
       "          [6.8606e-01, 4.3661e-02, 1.2398e-01,  ..., 5.0090e-02,\n",
       "           3.5633e-02, 0.0000e+00],\n",
       "          [5.3422e-01, 7.4958e-02, 4.1980e-02,  ..., 1.5232e-01,\n",
       "           7.4536e-03, 3.3917e-02]],\n",
       "\n",
       "         [[1.0000e+00, 0.0000e+00, 0.0000e+00,  ..., 0.0000e+00,\n",
       "           0.0000e+00, 0.0000e+00],\n",
       "          [9.9720e-01, 2.7989e-03, 0.0000e+00,  ..., 0.0000e+00,\n",
       "           0.0000e+00, 0.0000e+00],\n",
       "          [9.2669e-01, 7.8194e-03, 6.5495e-02,  ..., 0.0000e+00,\n",
       "           0.0000e+00, 0.0000e+00],\n",
       "          ...,\n",
       "          [9.0544e-01, 2.0479e-03, 1.0854e-02,  ..., 3.1631e-02,\n",
       "           0.0000e+00, 0.0000e+00],\n",
       "          [9.3174e-01, 1.2424e-03, 9.0356e-03,  ..., 1.7442e-02,\n",
       "           6.6914e-03, 0.0000e+00],\n",
       "          [9.0185e-01, 3.0590e-03, 1.1506e-02,  ..., 2.9142e-02,\n",
       "           4.9388e-03, 8.0483e-03]],\n",
       "\n",
       "         [[1.0000e+00, 0.0000e+00, 0.0000e+00,  ..., 0.0000e+00,\n",
       "           0.0000e+00, 0.0000e+00],\n",
       "          [9.5792e-01, 4.2079e-02, 0.0000e+00,  ..., 0.0000e+00,\n",
       "           0.0000e+00, 0.0000e+00],\n",
       "          [9.8957e-01, 3.5895e-03, 6.8365e-03,  ..., 0.0000e+00,\n",
       "           0.0000e+00, 0.0000e+00],\n",
       "          ...,\n",
       "          [9.2041e-01, 9.8687e-03, 2.1577e-03,  ..., 2.4121e-03,\n",
       "           0.0000e+00, 0.0000e+00],\n",
       "          [9.8868e-01, 1.4206e-03, 8.6551e-04,  ..., 1.0161e-03,\n",
       "           2.0379e-03, 0.0000e+00],\n",
       "          [9.5118e-01, 2.1014e-03, 6.4063e-04,  ..., 1.4289e-03,\n",
       "           9.2268e-03, 1.1254e-02]]]], device='cuda:0'), tensor([[[[[0.0000, 0.0000, 0.0000,  ..., 0.0000, 0.0000, 0.0000],\n",
       "           [0.0000, 0.0000, 0.0000,  ..., 0.0000, 0.0000, 0.0000],\n",
       "           [0.0000, 0.0000, 0.0000,  ..., 0.0000, 0.0000, 0.0000],\n",
       "           ...,\n",
       "           [0.0000, 0.0000, 0.0000,  ..., 0.2385, 0.0000, 0.0000],\n",
       "           [0.0000, 0.0000, 0.0000,  ..., 0.1615, 0.0493, 0.0000],\n",
       "           [0.0000, 0.0000, 0.0000,  ..., 0.1789, 0.0177, 0.0393]],\n",
       "\n",
       "          [[0.0000, 0.0000, 0.0000,  ..., 0.0000, 0.0000, 0.0000],\n",
       "           [0.0000, 0.0000, 0.0000,  ..., 0.0000, 0.0000, 0.0000],\n",
       "           [0.0000, 0.0000, 0.0000,  ..., 0.0000, 0.0000, 0.0000],\n",
       "           ...,\n",
       "           [0.0000, 0.0000, 0.0000,  ..., 0.0382, 0.0000, 0.0000],\n",
       "           [0.0000, 0.0000, 0.0000,  ..., 0.1179, 0.0040, 0.0000],\n",
       "           [0.0000, 0.0000, 0.0000,  ..., 0.0994, 0.0142, 0.0123]],\n",
       "\n",
       "          [[0.0000, 0.0000, 0.0000,  ..., 0.0000, 0.0000, 0.0000],\n",
       "           [0.0000, 0.0000, 0.0000,  ..., 0.0000, 0.0000, 0.0000],\n",
       "           [0.0000, 0.0000, 0.0000,  ..., 0.0000, 0.0000, 0.0000],\n",
       "           ...,\n",
       "           [0.0000, 0.0000, 0.0000,  ..., 0.1405, 0.0000, 0.0000],\n",
       "           [0.0000, 0.0000, 0.0000,  ..., 0.2220, 0.0082, 0.0000],\n",
       "           [0.0000, 0.0000, 0.0000,  ..., 0.1919, 0.0061, 0.0205]],\n",
       "\n",
       "          ...,\n",
       "\n",
       "          [[0.0000, 0.0000, 0.0000,  ..., 0.0000, 0.0000, 0.0000],\n",
       "           [0.0000, 0.0000, 0.0000,  ..., 0.0000, 0.0000, 0.0000],\n",
       "           [0.0000, 0.0000, 0.0000,  ..., 0.0000, 0.0000, 0.0000],\n",
       "           ...,\n",
       "           [0.0000, 0.0000, 0.0000,  ..., 0.0820, 0.0000, 0.0000],\n",
       "           [0.0000, 0.0000, 0.0000,  ..., 0.0756, 0.0127, 0.0000],\n",
       "           [0.0000, 0.0000, 0.0000,  ..., 0.0796, 0.0062, 0.0100]],\n",
       "\n",
       "          [[0.0000, 0.0000, 0.0000,  ..., 0.0000, 0.0000, 0.0000],\n",
       "           [0.0000, 0.0000, 0.0000,  ..., 0.0000, 0.0000, 0.0000],\n",
       "           [0.0000, 0.0000, 0.0000,  ..., 0.0000, 0.0000, 0.0000],\n",
       "           ...,\n",
       "           [0.0000, 0.0000, 0.0000,  ..., 0.1975, 0.0000, 0.0000],\n",
       "           [0.0000, 0.0000, 0.0000,  ..., 0.1601, 0.0461, 0.0000],\n",
       "           [0.0000, 0.0000, 0.0000,  ..., 0.0868, 0.0513, 0.5478]],\n",
       "\n",
       "          [[0.0000, 0.0000, 0.0000,  ..., 0.0000, 0.0000, 0.0000],\n",
       "           [0.0000, 0.0000, 0.0000,  ..., 0.0000, 0.0000, 0.0000],\n",
       "           [0.0000, 0.0000, 0.0000,  ..., 0.0000, 0.0000, 0.0000],\n",
       "           ...,\n",
       "           [0.0000, 0.0000, 0.0000,  ..., 0.2036, 0.0000, 0.0000],\n",
       "           [0.0000, 0.0000, 0.0000,  ..., 0.2329, 0.0511, 0.0000],\n",
       "           [0.0000, 0.0000, 0.0000,  ..., 0.1138, 0.0076, 0.0227]]]]],\n",
       "       device='cuda:0'), tensor([[[[1.0000e+00, 0.0000e+00, 0.0000e+00,  ..., 0.0000e+00,\n",
       "           0.0000e+00, 0.0000e+00],\n",
       "          [9.8823e-01, 1.1773e-02, 0.0000e+00,  ..., 0.0000e+00,\n",
       "           0.0000e+00, 0.0000e+00],\n",
       "          [9.9295e-01, 3.4912e-03, 3.5553e-03,  ..., 0.0000e+00,\n",
       "           0.0000e+00, 0.0000e+00],\n",
       "          ...,\n",
       "          [9.0201e-01, 5.8266e-03, 6.2012e-03,  ..., 1.1629e-02,\n",
       "           0.0000e+00, 0.0000e+00],\n",
       "          [9.8062e-01, 1.7926e-03, 1.2440e-03,  ..., 3.3050e-03,\n",
       "           5.5118e-03, 0.0000e+00],\n",
       "          [9.6136e-01, 4.8013e-03, 2.6793e-03,  ..., 2.9327e-03,\n",
       "           1.8893e-03, 1.3631e-02]],\n",
       "\n",
       "         [[1.0000e+00, 0.0000e+00, 0.0000e+00,  ..., 0.0000e+00,\n",
       "           0.0000e+00, 0.0000e+00],\n",
       "          [9.6477e-01, 3.5234e-02, 0.0000e+00,  ..., 0.0000e+00,\n",
       "           0.0000e+00, 0.0000e+00],\n",
       "          [9.3722e-01, 3.7516e-02, 2.5269e-02,  ..., 0.0000e+00,\n",
       "           0.0000e+00, 0.0000e+00],\n",
       "          ...,\n",
       "          [8.3275e-01, 4.3931e-02, 1.8565e-02,  ..., 1.2375e-02,\n",
       "           0.0000e+00, 0.0000e+00],\n",
       "          [9.8225e-01, 2.3540e-03, 1.3744e-03,  ..., 1.3466e-03,\n",
       "           3.9835e-03, 0.0000e+00],\n",
       "          [8.4728e-01, 3.4680e-02, 1.1453e-02,  ..., 1.0055e-02,\n",
       "           1.0100e-03, 1.3874e-02]],\n",
       "\n",
       "         [[1.0000e+00, 0.0000e+00, 0.0000e+00,  ..., 0.0000e+00,\n",
       "           0.0000e+00, 0.0000e+00],\n",
       "          [9.9124e-01, 8.7608e-03, 0.0000e+00,  ..., 0.0000e+00,\n",
       "           0.0000e+00, 0.0000e+00],\n",
       "          [9.8167e-01, 1.3913e-03, 1.6943e-02,  ..., 0.0000e+00,\n",
       "           0.0000e+00, 0.0000e+00],\n",
       "          ...,\n",
       "          [8.5633e-01, 2.5241e-03, 1.2079e-02,  ..., 5.7199e-02,\n",
       "           0.0000e+00, 0.0000e+00],\n",
       "          [7.7715e-01, 6.1796e-03, 1.4247e-02,  ..., 3.9748e-02,\n",
       "           2.3269e-02, 0.0000e+00],\n",
       "          [8.6100e-01, 1.2063e-02, 1.6055e-02,  ..., 1.4901e-02,\n",
       "           1.9934e-02, 1.8932e-02]],\n",
       "\n",
       "         ...,\n",
       "\n",
       "         [[1.0000e+00, 0.0000e+00, 0.0000e+00,  ..., 0.0000e+00,\n",
       "           0.0000e+00, 0.0000e+00],\n",
       "          [9.7346e-01, 2.6537e-02, 0.0000e+00,  ..., 0.0000e+00,\n",
       "           0.0000e+00, 0.0000e+00],\n",
       "          [9.7002e-01, 9.3727e-03, 2.0612e-02,  ..., 0.0000e+00,\n",
       "           0.0000e+00, 0.0000e+00],\n",
       "          ...,\n",
       "          [8.9866e-01, 8.4518e-03, 1.3520e-02,  ..., 3.9152e-02,\n",
       "           0.0000e+00, 0.0000e+00],\n",
       "          [9.8693e-01, 2.2107e-03, 1.0570e-03,  ..., 1.4663e-03,\n",
       "           9.9648e-04, 0.0000e+00],\n",
       "          [9.5667e-01, 7.0803e-03, 3.9780e-03,  ..., 4.4366e-03,\n",
       "           2.4186e-03, 8.8355e-03]],\n",
       "\n",
       "         [[1.0000e+00, 0.0000e+00, 0.0000e+00,  ..., 0.0000e+00,\n",
       "           0.0000e+00, 0.0000e+00],\n",
       "          [4.9055e-01, 5.0945e-01, 0.0000e+00,  ..., 0.0000e+00,\n",
       "           0.0000e+00, 0.0000e+00],\n",
       "          [5.1461e-01, 4.0796e-02, 4.4459e-01,  ..., 0.0000e+00,\n",
       "           0.0000e+00, 0.0000e+00],\n",
       "          ...,\n",
       "          [1.6073e-01, 1.8041e-02, 1.6256e-01,  ..., 2.4228e-01,\n",
       "           0.0000e+00, 0.0000e+00],\n",
       "          [7.5270e-01, 1.4220e-03, 2.0179e-02,  ..., 9.0046e-02,\n",
       "           1.0528e-01, 0.0000e+00],\n",
       "          [7.4130e-01, 3.5979e-03, 1.2891e-02,  ..., 7.6218e-02,\n",
       "           1.5860e-02, 7.8043e-02]],\n",
       "\n",
       "         [[1.0000e+00, 0.0000e+00, 0.0000e+00,  ..., 0.0000e+00,\n",
       "           0.0000e+00, 0.0000e+00],\n",
       "          [9.7050e-01, 2.9500e-02, 0.0000e+00,  ..., 0.0000e+00,\n",
       "           0.0000e+00, 0.0000e+00],\n",
       "          [8.9770e-01, 2.0796e-02, 8.1501e-02,  ..., 0.0000e+00,\n",
       "           0.0000e+00, 0.0000e+00],\n",
       "          ...,\n",
       "          [7.1614e-01, 1.1350e-02, 3.9824e-02,  ..., 2.9973e-02,\n",
       "           0.0000e+00, 0.0000e+00],\n",
       "          [9.0816e-01, 3.1289e-03, 1.2781e-02,  ..., 1.7169e-02,\n",
       "           1.2273e-02, 0.0000e+00],\n",
       "          [8.7584e-01, 7.9552e-03, 1.0025e-02,  ..., 1.1654e-02,\n",
       "           9.6966e-04, 5.9688e-03]]]], device='cuda:0'), tensor([[[[[0.0000, 0.0000, 0.0000,  ..., 0.0000, 0.0000, 0.0000],\n",
       "           [0.0000, 0.0000, 0.0000,  ..., 0.0000, 0.0000, 0.0000],\n",
       "           [0.0000, 0.0000, 0.0000,  ..., 0.0000, 0.0000, 0.0000],\n",
       "           ...,\n",
       "           [0.0000, 0.0000, 0.0000,  ..., 0.1437, 0.0000, 0.0000],\n",
       "           [0.0000, 0.0000, 0.0000,  ..., 0.0638, 0.0131, 0.0000],\n",
       "           [0.0000, 0.0000, 0.0000,  ..., 0.1065, 0.0124, 0.2067]],\n",
       "\n",
       "          [[0.0000, 0.0000, 0.0000,  ..., 0.0000, 0.0000, 0.0000],\n",
       "           [0.0000, 0.0000, 0.0000,  ..., 0.0000, 0.0000, 0.0000],\n",
       "           [0.0000, 0.0000, 0.0000,  ..., 0.0000, 0.0000, 0.0000],\n",
       "           ...,\n",
       "           [0.0000, 0.0000, 0.0000,  ..., 0.3185, 0.0000, 0.0000],\n",
       "           [0.0000, 0.0000, 0.0000,  ..., 0.0883, 0.0135, 0.0000],\n",
       "           [0.0000, 0.0000, 0.0000,  ..., 0.1503, 0.0134, 0.2896]],\n",
       "\n",
       "          [[0.0000, 0.0000, 0.0000,  ..., 0.0000, 0.0000, 0.0000],\n",
       "           [0.0000, 0.0000, 0.0000,  ..., 0.0000, 0.0000, 0.0000],\n",
       "           [0.0000, 0.0000, 0.0000,  ..., 0.0000, 0.0000, 0.0000],\n",
       "           ...,\n",
       "           [0.0000, 0.0000, 0.0000,  ..., 0.8751, 0.0000, 0.0000],\n",
       "           [0.0000, 0.0000, 0.0000,  ..., 0.5313, 0.1115, 0.0000],\n",
       "           [0.0000, 0.0000, 0.0000,  ..., 0.0268, 0.0056, 0.9479]],\n",
       "\n",
       "          ...,\n",
       "\n",
       "          [[0.0000, 0.0000, 0.0000,  ..., 0.0000, 0.0000, 0.0000],\n",
       "           [0.0000, 0.0000, 0.0000,  ..., 0.0000, 0.0000, 0.0000],\n",
       "           [0.0000, 0.0000, 0.0000,  ..., 0.0000, 0.0000, 0.0000],\n",
       "           ...,\n",
       "           [0.0000, 0.0000, 0.0000,  ..., 0.1344, 0.0000, 0.0000],\n",
       "           [0.0000, 0.0000, 0.0000,  ..., 0.0974, 0.0479, 0.0000],\n",
       "           [0.0000, 0.0000, 0.0000,  ..., 0.0670, 0.0095, 0.0372]],\n",
       "\n",
       "          [[0.0000, 0.0000, 0.0000,  ..., 0.0000, 0.0000, 0.0000],\n",
       "           [0.0000, 0.0000, 0.0000,  ..., 0.0000, 0.0000, 0.0000],\n",
       "           [0.0000, 0.0000, 0.0000,  ..., 0.0000, 0.0000, 0.0000],\n",
       "           ...,\n",
       "           [0.0000, 0.0000, 0.0000,  ..., 0.5323, 0.0000, 0.0000],\n",
       "           [0.0000, 0.0000, 0.0000,  ..., 0.2996, 0.3266, 0.0000],\n",
       "           [0.0000, 0.0000, 0.0000,  ..., 0.0604, 0.1085, 0.7294]],\n",
       "\n",
       "          [[0.0000, 0.0000, 0.0000,  ..., 0.0000, 0.0000, 0.0000],\n",
       "           [0.0000, 0.0000, 0.0000,  ..., 0.0000, 0.0000, 0.0000],\n",
       "           [0.0000, 0.0000, 0.0000,  ..., 0.0000, 0.0000, 0.0000],\n",
       "           ...,\n",
       "           [0.0000, 0.0000, 0.0000,  ..., 0.2658, 0.0000, 0.0000],\n",
       "           [0.0000, 0.0000, 0.0000,  ..., 0.1935, 0.1604, 0.0000],\n",
       "           [0.0000, 0.0000, 0.0000,  ..., 0.0506, 0.0050, 0.5207]]]]],\n",
       "       device='cuda:0')))"
      ]
     },
     "execution_count": 28,
     "metadata": {},
     "output_type": "execute_result"
    }
   ],
   "source": [
    "with torch.no_grad():    \n",
    "    y = model.forward(input_ids,output_attentions=True,\n",
    "        output_hidden_states=True,\n",
    "        return_dict=True)\n",
    "\n",
    "y"
   ]
  },
  {
   "cell_type": "code",
   "execution_count": 29,
   "id": "328ab70f",
   "metadata": {},
   "outputs": [
    {
     "data": {
      "text/plain": [
       "odict_keys(['logits', 'past_key_values', 'hidden_states', 'attentions'])"
      ]
     },
     "execution_count": 29,
     "metadata": {},
     "output_type": "execute_result"
    }
   ],
   "source": [
    "y.keys()"
   ]
  },
  {
   "cell_type": "code",
   "execution_count": 30,
   "id": "4953d6fa",
   "metadata": {},
   "outputs": [
    {
     "data": {
      "text/plain": [
       "torch.Size([50257])"
      ]
     },
     "execution_count": 30,
     "metadata": {},
     "output_type": "execute_result"
    }
   ],
   "source": [
    "y.logits[0][0].shape"
   ]
  },
  {
   "cell_type": "code",
   "execution_count": 31,
   "id": "7da88a5c",
   "metadata": {},
   "outputs": [
    {
     "data": {
      "text/plain": [
       "tensor(278, device='cuda:0')"
      ]
     },
     "execution_count": 31,
     "metadata": {},
     "output_type": "execute_result"
    }
   ],
   "source": [
    "torch.argmax(y.logits[0][0])"
   ]
  },
  {
   "cell_type": "code",
   "execution_count": 32,
   "id": "60d033a6",
   "metadata": {},
   "outputs": [
    {
     "data": {
      "text/plain": [
       "'ing'"
      ]
     },
     "execution_count": 32,
     "metadata": {},
     "output_type": "execute_result"
    }
   ],
   "source": [
    "tokenizer.decode(278)"
   ]
  },
  {
   "cell_type": "markdown",
   "id": "6057e9d9",
   "metadata": {},
   "source": [
    "Note that most logits are negative, a few early (therefore more common?) ones are higher"
   ]
  },
  {
   "cell_type": "code",
   "execution_count": 33,
   "id": "8036b5c7",
   "metadata": {},
   "outputs": [
    {
     "data": {
      "text/plain": [
       "[<matplotlib.lines.Line2D at 0x2286fe27220>]"
      ]
     },
     "execution_count": 33,
     "metadata": {},
     "output_type": "execute_result"
    },
    {
     "data": {
      "image/png": "[encoded data removed]",
      "text/plain": [
       "<Figure size 432x288 with 1 Axes>"
      ]
     },
     "metadata": {
      "needs_background": "light"
     },
     "output_type": "display_data"
    }
   ],
   "source": [
    "plt.plot(y.logits[0][0].cpu().numpy())"
   ]
  },
  {
   "cell_type": "code",
   "execution_count": 34,
   "id": "15d3c8b6",
   "metadata": {},
   "outputs": [
    {
     "data": {
      "text/plain": [
       "[<matplotlib.lines.Line2D at 0x2286fe85bb0>]"
      ]
     },
     "execution_count": 34,
     "metadata": {},
     "output_type": "execute_result"
    },
    {
     "data": {
      "image/png": "[encoded data removed]",
      "text/plain": [
       "<Figure size 432x288 with 1 Axes>"
      ]
     },
     "metadata": {
      "needs_background": "light"
     },
     "output_type": "display_data"
    }
   ],
   "source": [
    "plt.plot(y.logits[0][0][range(0,400)].cpu().numpy())"
   ]
  },
  {
   "cell_type": "markdown",
   "id": "1092a21e",
   "metadata": {},
   "source": [
    "Try to compare the pattern for 'ing' to the embedding matrix for 'ing'"
   ]
  },
  {
   "cell_type": "code",
   "execution_count": 35,
   "id": "68f80db9",
   "metadata": {},
   "outputs": [
    {
     "data": {
      "text/plain": [
       "torch.Size([1, 14, 768])"
      ]
     },
     "execution_count": 35,
     "metadata": {},
     "output_type": "execute_result"
    }
   ],
   "source": [
    "y.hidden_states[11].shape"
   ]
  },
  {
   "cell_type": "markdown",
   "id": "977409d5",
   "metadata": {},
   "source": [
    "y.hidden_states is a tuple - 1 element per layer. \n",
    "Each has 1 batch dim, 14 tokens, 768 weights. Look at the first token"
   ]
  },
  {
   "cell_type": "code",
   "execution_count": 36,
   "id": "bb5c0f3f",
   "metadata": {},
   "outputs": [
    {
     "data": {
      "text/plain": [
       "[<matplotlib.lines.Line2D at 0x2286fefc0a0>]"
      ]
     },
     "execution_count": 36,
     "metadata": {},
     "output_type": "execute_result"
    },
    {
     "data": {
      "image/png": "[encoded data removed]",
      "text/plain": [
       "<Figure size 432x288 with 1 Axes>"
      ]
     },
     "metadata": {
      "needs_background": "light"
     },
     "output_type": "display_data"
    }
   ],
   "source": [
    "plt.plot(y['hidden_states'][11][0][0].cpu().numpy())"
   ]
  },
  {
   "cell_type": "markdown",
   "id": "395780c1",
   "metadata": {},
   "source": [
    "And look at the embedding row"
   ]
  },
  {
   "cell_type": "code",
   "execution_count": 37,
   "id": "8884fdef",
   "metadata": {},
   "outputs": [
    {
     "data": {
      "text/plain": [
       "[<matplotlib.lines.Line2D at 0x2286ff62970>]"
      ]
     },
     "execution_count": 37,
     "metadata": {},
     "output_type": "execute_result"
    },
    {
     "data": {
      "image/png": "[encoded data removed]",
      "text/plain": [
       "<Figure size 432x288 with 1 Axes>"
      ]
     },
     "metadata": {
      "needs_background": "light"
     },
     "output_type": "display_data"
    }
   ],
   "source": [
    "plt.plot(hidden_states['h.11'][0][0].cpu().numpy())"
   ]
  },
  {
   "cell_type": "code",
   "execution_count": 38,
   "id": "b49e1a5e",
   "metadata": {},
   "outputs": [
    {
     "data": {
      "text/plain": [
       "[<matplotlib.lines.Line2D at 0x2289dac3dc0>]"
      ]
     },
     "execution_count": 38,
     "metadata": {},
     "output_type": "execute_result"
    },
    {
     "data": {
      "image/png": "[encoded data removed]",
      "text/plain": [
       "<Figure size 432x288 with 1 Axes>"
      ]
     },
     "metadata": {
      "needs_background": "light"
     },
     "output_type": "display_data"
    }
   ],
   "source": [
    "predicted_token_id = 278\n",
    "plt.plot(model.lm_head.weight[predicted_token_id].cpu().detach().numpy())"
   ]
  },
  {
   "cell_type": "markdown",
   "id": "0fe6bfdf",
   "metadata": {},
   "source": [
    "No obvious similarity. Can we replicate how logits were generated from hidden layer 11?"
   ]
  },
  {
   "cell_type": "code",
   "execution_count": 39,
   "id": "b8bd4f72",
   "metadata": {},
   "outputs": [
    {
     "data": {
      "text/plain": [
       "[<matplotlib.lines.Line2D at 0x2289e3276a0>]"
      ]
     },
     "execution_count": 39,
     "metadata": {},
     "output_type": "execute_result"
    },
    {
     "data": {
      "image/png": "[encoded data removed]",
      "text/plain": [
       "<Figure size 432x288 with 1 Axes>"
      ]
     },
     "metadata": {
      "needs_background": "light"
     },
     "output_type": "display_data"
    }
   ],
   "source": [
    "#tf_utils \n",
    "plt.plot(hidden_states['h.11'][0][0].cpu().detach().numpy())"
   ]
  },
  {
   "cell_type": "code",
   "execution_count": 40,
   "id": "69000c63",
   "metadata": {},
   "outputs": [
    {
     "data": {
      "text/plain": [
       "[<matplotlib.lines.Line2D at 0x2289e395b50>]"
      ]
     },
     "execution_count": 40,
     "metadata": {},
     "output_type": "execute_result"
    },
    {
     "data": {
      "image/png": "[encoded data removed]",
      "text/plain": [
       "<Figure size 432x288 with 1 Axes>"
      ]
     },
     "metadata": {
      "needs_background": "light"
     },
     "output_type": "display_data"
    }
   ],
   "source": [
    "normed =model.base_model.ln_f(hidden_states['h.11'])\n",
    "plt.plot(normed[0][0].cpu().detach().numpy())"
   ]
  },
  {
   "cell_type": "code",
   "execution_count": 41,
   "id": "b2eca726",
   "metadata": {},
   "outputs": [
    {
     "data": {
      "text/plain": [
       "[<matplotlib.lines.Line2D at 0x228a380bee0>]"
      ]
     },
     "execution_count": 41,
     "metadata": {},
     "output_type": "execute_result"
    },
    {
     "data": {
      "image/png": "[encoded data removed]",
      "text/plain": [
       "<Figure size 432x288 with 1 Axes>"
      ]
     },
     "metadata": {
      "needs_background": "light"
     },
     "output_type": "display_data"
    }
   ],
   "source": [
    "logits2 = model.lm_head(normed)\n",
    "plt.plot(logits2[0][0].cpu().detach().numpy())"
   ]
  },
  {
   "cell_type": "code",
   "execution_count": 42,
   "id": "42ee2c68",
   "metadata": {},
   "outputs": [
    {
     "data": {
      "text/plain": [
       "(tensor(278, device='cuda:0'),\n",
       " tensor(1.6583, device='cuda:0', grad_fn=<SelectBackward>))"
      ]
     },
     "execution_count": 42,
     "metadata": {},
     "output_type": "execute_result"
    }
   ],
   "source": [
    "torch.argmax(logits2[0][0]), logits2[0][0][278]"
   ]
  },
  {
   "cell_type": "markdown",
   "id": "a425397f",
   "metadata": {},
   "source": [
    "Above results (based on torch_utils) are same as those from huggingface. Can we do the same using vector alone?"
   ]
  },
  {
   "cell_type": "code",
   "execution_count": 43,
   "id": "ee99679b",
   "metadata": {},
   "outputs": [
    {
     "data": {
      "text/plain": [
       "(torch.Size([768]),\n",
       " torch.Size([768]),\n",
       " tensor(71.0902, device='cuda:0', grad_fn=<DotBackward>))"
      ]
     },
     "execution_count": 43,
     "metadata": {},
     "output_type": "execute_result"
    }
   ],
   "source": [
    "v1 = model.base_model.wte.weight[278]\n",
    "v2 = hidden_states['h.11'][0][0]\n",
    "v1.shape, v2.shape, torch.dot(v1,v2)"
   ]
  },
  {
   "cell_type": "code",
   "execution_count": 44,
   "id": "a968084b",
   "metadata": {},
   "outputs": [
    {
     "data": {
      "text/plain": [
       "(torch.Size([768]),\n",
       " torch.Size([768]),\n",
       " tensor(1.6583, device='cuda:0', grad_fn=<DotBackward>))"
      ]
     },
     "execution_count": 44,
     "metadata": {},
     "output_type": "execute_result"
    }
   ],
   "source": [
    "v1 = model.base_model.wte.weight[278]\n",
    "v2 = normed[0][0]\n",
    "v1.shape, v2.shape, torch.dot(v1,v2)"
   ]
  },
  {
   "cell_type": "markdown",
   "id": "5ca147c7",
   "metadata": {},
   "source": [
    "My plan is to measure other hidden state vectors against the projection of v1 onto v2. v1 is the full embedding for the token 'ing'. v2 is a point in the final layer latent space which is closest to v1 so the projection from v1 ont v2 should represent information directly related to the prediction. I am interested in how much of v1 came from lower layers, and how much from attention (probably none in this case because it is the first token), and if anything carried through to later layers. \n",
    "\n",
    "First I want to understand norm better, then confirm whether attention made a contribution for this token, if so attention to what?\n",
    "\n",
    "---\n",
    "\n",
    "The norm function is layer norm, and earlier we applied to the entire layer. Are results altered if we apply it to a single vector?  "
   ]
  },
  {
   "cell_type": "code",
   "execution_count": 45,
   "id": "02d5723f",
   "metadata": {},
   "outputs": [
    {
     "data": {
      "text/plain": [
       "LayerNorm((768,), eps=1e-05, elementwise_affine=True)"
      ]
     },
     "execution_count": 45,
     "metadata": {},
     "output_type": "execute_result"
    }
   ],
   "source": [
    "model.base_model.ln_f"
   ]
  },
  {
   "cell_type": "code",
   "execution_count": 46,
   "id": "06ce92c0",
   "metadata": {},
   "outputs": [
    {
     "data": {
      "text/plain": [
       "[<matplotlib.lines.Line2D at 0x228a8c7f340>]"
      ]
     },
     "execution_count": 46,
     "metadata": {},
     "output_type": "execute_result"
    },
    {
     "data": {
      "image/png": "[encoded data removed]",
      "text/plain": [
       "<Figure size 432x288 with 1 Axes>"
      ]
     },
     "metadata": {
      "needs_background": "light"
     },
     "output_type": "display_data"
    }
   ],
   "source": [
    "normv =model.base_model.ln_f(hidden_states['h.11'][0][0])\n",
    "plt.plot(normed[0][0].cpu().detach().numpy())"
   ]
  },
  {
   "cell_type": "markdown",
   "id": "d9db172e",
   "metadata": {},
   "source": [
    "Looks the same both in pattern and magnitude."
   ]
  },
  {
   "cell_type": "code",
   "execution_count": 47,
   "id": "ee8f6c44",
   "metadata": {},
   "outputs": [
    {
     "data": {
      "text/plain": [
       "tensor(1.6583, device='cuda:0', grad_fn=<DotBackward>)"
      ]
     },
     "execution_count": 47,
     "metadata": {},
     "output_type": "execute_result"
    }
   ],
   "source": [
    " torch.dot(v1,normv)"
   ]
  },
  {
   "cell_type": "markdown",
   "id": "499a0682",
   "metadata": {},
   "source": [
    "Same resulting logit element.\n",
    "\n",
    "LayerNorm is described in https://pytorch.org/docs/stable/generated/torch.nn.LayerNorm.html, implemented in https://github.com/pytorch/pytorch/blob/c3d40fdf5658d8f4d387a39633c11bbb67b17224/aten/src/ATen/native/cuda/layer_norm_kernel.cu#L68 and based on https://arxiv.org/abs/1607.06450\n",
    "\n",
    "Layer Normalisation re-centers and re-scales the activations of a layer. Given $a^t$ as the summed inputs to layer t, the hidden state of layer t $h^t$ is defined as\n",
    "\n",
    "$$ h^t = f [ \\frac{g}{\\sigma^t} \\odot ( a^t - \\mu^t) + b]$$\n",
    "where the mean activation is \n",
    "$$ \\mu^t = \\frac{1}{H} \\sum_{i=1}^{H} a^t_i $$\n",
    "and the variance is\n",
    "$$ \\sigma^t = \\sqrt{\\frac{1}{H} \\sum_{i=1}^H (a^t_i - \\mu^t)^2}$$\n",
    "\n",
    "Weight $g$ and bias $b$ are learnable parameters, and $\\odot$ is elementwise multiplication. All the hidden units in a layer share the same normalization terms $\\mu$ and $\\sigma$, but unlike batch normalisation different training cases have different normalization terms.\n",
    "\n",
    "Based on the experiment above a layer here means a single embedding vector, rather than the layer of vectors across which attention is applied. \n",
    "\n",
    "---\n",
    "\n",
    "Next to investigate if attention has much impact on the first prediction.\n",
    "\n",
    "https://jalammar.github.io/illustrated-gpt2/ has a good high-level description of attention in GPT-style models.\n",
    "\n",
    "From the huggingface version of modeling_gpt_neo GPTNeoBlock\n",
    "\n",
    "hidden_states = (attn_output + residual) + mlp(ln_2(attn_output + residual)) where attn_output is GPTNeoAttention block applied to ln_2(input_hidden_state).\n",
    "GPTNeoLocalSelfAttention\n",
    "GPTNeoAttention implemented in either GPTNeoSelfAttention or GPTNeoLocalSelfAttention\n"
   ]
  },
  {
   "cell_type": "code",
   "execution_count": 48,
   "id": "88a90053",
   "metadata": {},
   "outputs": [
    {
     "data": {
      "text/plain": [
       "GPTNeoLocalSelfAttention(\n",
       "  (attn_dropout): Dropout(p=0, inplace=False)\n",
       "  (resid_dropout): Dropout(p=0, inplace=False)\n",
       "  (k_proj): Linear(in_features=0, out_features=768, bias=False)\n",
       "  (v_proj): Linear(in_features=0, out_features=768, bias=False)\n",
       "  (q_proj): Linear(in_features=0, out_features=768, bias=False)\n",
       "  (out_proj): Linear(in_features=0, out_features=768, bias=True)\n",
       ")"
      ]
     },
     "execution_count": 48,
     "metadata": {},
     "output_type": "execute_result"
    }
   ],
   "source": [
    "model.base_model.h[11].attn.attention"
   ]
  },
  {
   "cell_type": "code",
   "execution_count": 49,
   "id": "d637f8c7",
   "metadata": {},
   "outputs": [
    {
     "data": {
      "text/plain": [
       "12"
      ]
     },
     "execution_count": 49,
     "metadata": {},
     "output_type": "execute_result"
    }
   ],
   "source": [
    "model.base_model.h[11].attn.attention.num_heads"
   ]
  },
  {
   "cell_type": "markdown",
   "id": "a7ff5929",
   "metadata": {},
   "source": [
    "From GPTNeoAttentionMixin.\\_attn and GPTNeoLocalSelfAttention - the values added for output_attentions=True are attn_weights before multiplying by value matrix. "
   ]
  },
  {
   "cell_type": "code",
   "execution_count": 50,
   "id": "26e9e83c",
   "metadata": {},
   "outputs": [
    {
     "data": {
      "text/plain": [
       "(12, torch.Size([1, 1, 12, 14, 270]))"
      ]
     },
     "execution_count": 50,
     "metadata": {},
     "output_type": "execute_result"
    }
   ],
   "source": [
    "len(y.attentions), y.attentions[11].shape"
   ]
  },
  {
   "cell_type": "code",
   "execution_count": 51,
   "id": "497292c7",
   "metadata": {},
   "outputs": [
    {
     "data": {
      "text/plain": [
       "tensor([[10723]], device='cuda:0')"
      ]
     },
     "execution_count": 51,
     "metadata": {},
     "output_type": "execute_result"
    }
   ],
   "source": [
    "inputs2=text_to_input_ids(\"Watch\")\n",
    "inputs2"
   ]
  },
  {
   "cell_type": "code",
   "execution_count": 52,
   "id": "47a7dae3",
   "metadata": {},
   "outputs": [
    {
     "data": {
      "text/plain": [
       "odict_keys(['logits', 'past_key_values', 'hidden_states'])"
      ]
     },
     "execution_count": 52,
     "metadata": {},
     "output_type": "execute_result"
    }
   ],
   "source": [
    "with torch.no_grad():    \n",
    "    y2 = model.forward(inputs2,output_attentions=False,\n",
    "        output_hidden_states=True,\n",
    "        return_dict=True)\n",
    "\n",
    "y2.keys()"
   ]
  },
  {
   "cell_type": "markdown",
   "id": "a9d91b8c",
   "metadata": {},
   "source": [
    "output_attentions does result in the attentions value in output dictionary. Reducing the number of input tokens..."
   ]
  },
  {
   "cell_type": "code",
   "execution_count": 53,
   "id": "296638aa",
   "metadata": {},
   "outputs": [
    {
     "data": {
      "text/plain": [
       "odict_keys(['logits', 'past_key_values', 'hidden_states', 'attentions'])"
      ]
     },
     "execution_count": 53,
     "metadata": {},
     "output_type": "execute_result"
    }
   ],
   "source": [
    "with torch.no_grad():    \n",
    "    y2 = model.forward(inputs2,output_attentions=True,\n",
    "        output_hidden_states=True,\n",
    "        return_dict=True)\n",
    "\n",
    "y2.keys()"
   ]
  },
  {
   "cell_type": "markdown",
   "id": "8224fc21",
   "metadata": {},
   "source": [
    "The predicted token is 278 'ing' as before."
   ]
  },
  {
   "cell_type": "code",
   "execution_count": 54,
   "id": "34ce82b2",
   "metadata": {},
   "outputs": [
    {
     "data": {
      "text/plain": [
       "(12, torch.Size([1, 1, 12, 1, 257]), tensor(278, device='cuda:0'))"
      ]
     },
     "execution_count": 54,
     "metadata": {},
     "output_type": "execute_result"
    }
   ],
   "source": [
    "len(y2.attentions), y2.attentions[11].shape, torch.argmax(y2.logits)"
   ]
  },
  {
   "cell_type": "markdown",
   "id": "6d349438",
   "metadata": {},
   "source": [
    "Lots of dimensions. Is the first 12 for the layers attention is applied for, second 12 the num heads?\n",
    "From \\_split\\_heads the tensor dimensions could be (batch, blocks, head, block_length, head_features) - but what is blocks and block_length?\n",
    "\n",
    "\n",
    "Looking at a couple of attention vectors, they have last element=1, rest=0."
   ]
  },
  {
   "cell_type": "code",
   "execution_count": 82,
   "id": "b97f3814",
   "metadata": {},
   "outputs": [
    {
     "data": {
      "image/png": "[encoded data removed]",
      "text/plain": [
       "<Figure size 432x288 with 1 Axes>"
      ]
     },
     "metadata": {
      "needs_background": "light"
     },
     "output_type": "display_data"
    },
    {
     "data": {
      "image/png": "[encoded data removed]",
      "text/plain": [
       "<Figure size 432x288 with 1 Axes>"
      ]
     },
     "metadata": {
      "needs_background": "light"
     },
     "output_type": "display_data"
    }
   ],
   "source": [
    "plt.plot(y2.attentions[11][0][0][11][0].cpu())\n",
    "plt.show()\n",
    "\n",
    "plt.plot(y2.attentions[3][0][0][8][0].cpu())\n",
    "plt.show()\n"
   ]
  },
  {
   "cell_type": "markdown",
   "id": "935930a7",
   "metadata": {},
   "source": [
    "Checking same again for a later token in the transformer output generated from a phrase earlier."
   ]
  },
  {
   "cell_type": "code",
   "execution_count": 56,
   "id": "0ff8aa5a",
   "metadata": {},
   "outputs": [
    {
     "data": {
      "text/plain": [
       "(12, torch.Size([1, 1, 12, 14, 270]))"
      ]
     },
     "execution_count": 56,
     "metadata": {},
     "output_type": "execute_result"
    }
   ],
   "source": [
    "len(y.attentions), y.attentions[11].shape"
   ]
  },
  {
   "cell_type": "code",
   "execution_count": 74,
   "id": "4b7dede9",
   "metadata": {},
   "outputs": [
    {
     "data": {
      "text/plain": [
       "[<matplotlib.lines.Line2D at 0x228e0c90a30>]"
      ]
     },
     "execution_count": 74,
     "metadata": {},
     "output_type": "execute_result"
    },
    {
     "data": {
      "image/png": "[encoded data removed]",
      "text/plain": [
       "<Figure size 432x288 with 1 Axes>"
      ]
     },
     "metadata": {
      "needs_background": "light"
     },
     "output_type": "display_data"
    }
   ],
   "source": [
    "plt.plot(y.attentions[11][0][0][11][5].cpu())\n",
    "plt.plot(y.attentions[3][0][0][8][5].cpu())"
   ]
  },
  {
   "cell_type": "markdown",
   "id": "a6c716ea",
   "metadata": {},
   "source": [
    "The vectors still look sparse, but have a few nonzero weights. Checking shape hasn't changed."
   ]
  },
  {
   "cell_type": "code",
   "execution_count": 75,
   "id": "08a04d52",
   "metadata": {},
   "outputs": [
    {
     "data": {
      "text/plain": [
       "(13, torch.Size([1, 1, 768]), 13, torch.Size([1, 14, 768]))"
      ]
     },
     "execution_count": 75,
     "metadata": {},
     "output_type": "execute_result"
    }
   ],
   "source": [
    "len(y2.hidden_states), y2.hidden_states[0].shape, len(y.hidden_states), y.hidden_states[0].shape,"
   ]
  },
  {
   "cell_type": "markdown",
   "id": "40797f0c",
   "metadata": {},
   "source": [
    "Look at the norm of activation weights in each head for first token position"
   ]
  },
  {
   "cell_type": "code",
   "execution_count": 76,
   "id": "5022674f",
   "metadata": {},
   "outputs": [
    {
     "data": {
      "text/plain": [
       "[<matplotlib.lines.Line2D at 0x228e0cf9550>]"
      ]
     },
     "execution_count": 76,
     "metadata": {},
     "output_type": "execute_result"
    },
    {
     "data": {
      "image/png": "[encoded data removed]",
      "text/plain": [
       "<Figure size 432x288 with 1 Axes>"
      ]
     },
     "metadata": {
      "needs_background": "light"
     },
     "output_type": "display_data"
    }
   ],
   "source": [
    "position0_last_layer_attention_vecs=y.attentions[11][0][0][0][range(0,11)].cpu().numpy()\n",
    "plt.plot([np.linalg.norm(v) for v in position0_last_layer_attention_vecs])"
   ]
  },
  {
   "cell_type": "markdown",
   "id": "7f8d693d",
   "metadata": {},
   "source": [
    "Comparing against the norm of activation weights in each head for the next token position, different but nothing stands out"
   ]
  },
  {
   "cell_type": "code",
   "execution_count": 81,
   "id": "ec131d04",
   "metadata": {},
   "outputs": [
    {
     "data": {
      "text/plain": [
       "[<matplotlib.lines.Line2D at 0x228e0dc9280>]"
      ]
     },
     "execution_count": 81,
     "metadata": {},
     "output_type": "execute_result"
    },
    {
     "data": {
      "image/png": "[encoded data removed]",
      "text/plain": [
       "<Figure size 432x288 with 1 Axes>"
      ]
     },
     "metadata": {
      "needs_background": "light"
     },
     "output_type": "display_data"
    }
   ],
   "source": [
    "position1_last_layer_attention_vecs = y.attentions[11][0][0][1][range(0,11)]\n",
    "position1_last_layer_attention_vecs = position1_last_layer_attention_vecs.cpu()\n",
    "plt.plot([np.linalg.norm(v) for v in position1_last_layer_attention_vecs])"
   ]
  },
  {
   "cell_type": "markdown",
   "id": "ec3cc6a9",
   "metadata": {},
   "source": []
  },
  {
   "cell_type": "code",
   "execution_count": 69,
   "id": "0001da2c",
   "metadata": {},
   "outputs": [
    {
     "data": {
      "text/plain": [
       "[<matplotlib.lines.Line2D at 0x228dad50cd0>]"
      ]
     },
     "execution_count": 69,
     "metadata": {},
     "output_type": "execute_result"
    },
    {
     "data": {
      "image/png": "[encoded data removed]",
      "text/plain": [
       "<Figure size 432x288 with 1 Axes>"
      ]
     },
     "metadata": {
      "needs_background": "light"
     },
     "output_type": "display_data"
    }
   ],
   "source": [
    "plt.plot(y.attentions[11][0][0][0][0].cpu())"
   ]
  },
  {
   "cell_type": "markdown",
   "id": "cae362d4",
   "metadata": {},
   "source": [
    "----\n",
    "Scratchpad Below\n",
    "----"
   ]
  },
  {
   "cell_type": "code",
   "execution_count": null,
   "id": "30580053",
   "metadata": {},
   "outputs": [],
   "source": []
  },
  {
   "cell_type": "code",
   "execution_count": 61,
   "id": "58dace40",
   "metadata": {},
   "outputs": [
    {
     "data": {
      "text/plain": [
       "[<matplotlib.lines.Line2D at 0x228a8dd2610>]"
      ]
     },
     "execution_count": 61,
     "metadata": {},
     "output_type": "execute_result"
    },
    {
     "data": {
      "image/png": "[encoded data removed]",
      "text/plain": [
       "<Figure size 432x288 with 1 Axes>"
      ]
     },
     "metadata": {
      "needs_background": "light"
     },
     "output_type": "display_data"
    }
   ],
   "source": [
    "def compare(position):\n",
    "    return torch.dot(y['hidden_states'][11][0][0], y['hidden_states'][11][0][position]).cpu().detach().numpy()\n",
    "\n",
    "plt.plot([tokenizer.decode(input_ids[0][i]) for i in range(0,13)], [compare(pos) for pos in range(0,13)])\n"
   ]
  },
  {
   "cell_type": "code",
   "execution_count": 62,
   "id": "8327c13b",
   "metadata": {},
   "outputs": [
    {
     "data": {
      "text/plain": [
       "torch.Size([1, 14])"
      ]
     },
     "execution_count": 62,
     "metadata": {},
     "output_type": "execute_result"
    }
   ],
   "source": [
    "input_ids.shape"
   ]
  },
  {
   "cell_type": "code",
   "execution_count": 63,
   "id": "08ad9f5d",
   "metadata": {},
   "outputs": [
    {
     "data": {
      "text/plain": [
       "torch.Size([1, 1, 12, 14, 270])"
      ]
     },
     "execution_count": 63,
     "metadata": {},
     "output_type": "execute_result"
    }
   ],
   "source": [
    "y['attentions'][11].shape"
   ]
  },
  {
   "cell_type": "code",
   "execution_count": 64,
   "id": "e31b3b74",
   "metadata": {},
   "outputs": [
    {
     "data": {
      "text/plain": [
       "[<matplotlib.lines.Line2D at 0x228a93bfd00>]"
      ]
     },
     "execution_count": 64,
     "metadata": {},
     "output_type": "execute_result"
    },
    {
     "data": {
      "image/png": "[encoded data removed]",
      "text/plain": [
       "<Figure size 432x288 with 1 Axes>"
      ]
     },
     "metadata": {
      "needs_background": "light"
     },
     "output_type": "display_data"
    }
   ],
   "source": [
    "def compare(a,b):\n",
    "    return torch.dot(y['hidden_states'][11][0][a], y['hidden_states'][11][0][b]).cpu().detach().numpy()\n",
    "\n",
    "plt.plot([tokenizer.decode(input_ids[0][i]) for i in range(0,13)], [compare(2,pos) for pos in range(0,13)])\n"
   ]
  },
  {
   "cell_type": "code",
   "execution_count": 65,
   "id": "b3f407ad",
   "metadata": {},
   "outputs": [
    {
     "data": {
      "text/plain": [
       "[<matplotlib.lines.Line2D at 0x228a9430bb0>]"
      ]
     },
     "execution_count": 65,
     "metadata": {},
     "output_type": "execute_result"
    },
    {
     "data": {
      "image/png": "[encoded data removed]",
      "text/plain": [
       "<Figure size 432x288 with 1 Axes>"
      ]
     },
     "metadata": {
      "needs_background": "light"
     },
     "output_type": "display_data"
    }
   ],
   "source": [
    "words = [tokenizer.decode(input_ids[0][i]) for i in range(0,13)]\n",
    "norms = [torch.linalg.norm(y['hidden_states'][11][0][i]).cpu().numpy() for i in range(0,13)]\n",
    "plt.plot(words,norms)"
   ]
  },
  {
   "cell_type": "code",
   "execution_count": 66,
   "id": "c15955e8",
   "metadata": {},
   "outputs": [
    {
     "data": {
      "image/png": "[encoded data removed]",
      "text/plain": [
       "<Figure size 432x288 with 1 Axes>"
      ]
     },
     "metadata": {
      "needs_background": "light"
     },
     "output_type": "display_data"
    }
   ],
   "source": [
    "def project(x,y):\n",
    "    return (torch.dot(x, y) / torch.linalg.norm(y)).cpu()\n",
    "words =  [tokenizer.decode(input_ids[0][i]) for i in range(0,13)]\n",
    "\n",
    "def against(posn):\n",
    "    ref_vec = y['hidden_states'][11][0][posn]\n",
    "    return plt.plot(words, [project(ref_vec, y['hidden_states'][11][0][i]) for i in range(0,13)], label=words[posn])\n",
    "\n",
    "lines = []\n",
    "for i in range(0,13):\n",
    "    lines.extend(against(i))\n",
    "plt.legend()\n",
    "plt.show()\n"
   ]
  },
  {
   "cell_type": "code",
   "execution_count": 67,
   "id": "f69b164b",
   "metadata": {},
   "outputs": [
    {
     "data": {
      "image/png": "[encoded data removed]",
      "text/plain": [
       "<Figure size 432x288 with 1 Axes>"
      ]
     },
     "metadata": {
      "needs_background": "light"
     },
     "output_type": "display_data"
    }
   ],
   "source": [
    "def against(posn):\n",
    "    ref_vec = y['hidden_states'][11][0][posn]\n",
    "    return plt.plot(words, [project( y['hidden_states'][11][0][i], ref_vec) for i in range(0,13)], label=words[posn])\n",
    "\n",
    "lines = []\n",
    "for i in range(0,13):\n",
    "    lines.extend(against(i))\n",
    "plt.legend()\n",
    "plt.show()\n"
   ]
  },
  {
   "cell_type": "code",
   "execution_count": null,
   "id": "1f8c2bff",
   "metadata": {},
   "outputs": [],
   "source": []
  }
 ],
 "metadata": {
  "kernelspec": {
   "display_name": "Python 3",
   "language": "python",
   "name": "python3"
  },
  "language_info": {
   "codemirror_mode": {
    "name": "ipython",
    "version": 3
   },
   "file_extension": ".py",
   "mimetype": "text/x-python",
   "name": "python",
   "nbconvert_exporter": "python",
   "pygments_lexer": "ipython3",
   "version": "3.9.1"
  },
  "metadata": {
   "interpreter": {
    "hash": "ba85587d0f2f867a4e78210392c7bc7374047d8b061b2b933587dccc022acd03"
   }
  }
 },
 "nbformat": 4,
 "nbformat_minor": 5
}
