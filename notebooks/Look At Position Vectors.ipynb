{
 "cells": [
  {
   "cell_type": "code",
   "execution_count": 1,
   "id": "ae523098",
   "metadata": {},
   "outputs": [
    {
     "name": "stderr",
     "output_type": "stream",
     "text": [
      "c:\\users\\stephenprior\\appdata\\local\\programs\\python\\python39\\lib\\site-packages\\torch\\nn\\modules\\lazy.py:175: UserWarning: Lazy modules are a new feature under heavy development so changes to the API or functionality can happen at any moment.\n",
      "  warnings.warn('Lazy modules are a new feature under heavy development '\n"
     ]
    }
   ],
   "source": [
    "from transformer_utils.low_memory import enable_low_memory_load\n",
    "import transformers\n",
    "\n",
    "enable_low_memory_load()\n",
    "tokenizer = transformers.AutoTokenizer.from_pretrained(\"gpt2\")\n",
    "model = transformers.AutoModelForCausalLM.from_pretrained('EleutherAI/gpt-neo-125M')\n",
    "\n",
    "def text_to_input_ids(text):\n",
    "    toks = tokenizer.encode(text)\n",
    "    return torch.as_tensor(toks).view(1, -1).cuda()\n"
   ]
  },
  {
   "cell_type": "code",
   "execution_count": 3,
   "id": "976e9297",
   "metadata": {},
   "outputs": [
    {
     "data": {
      "text/plain": [
       "tensor([[0, 1, 2, 3]], device='cuda:0')"
      ]
     },
     "execution_count": 3,
     "metadata": {},
     "output_type": "execute_result"
    }
   ],
   "source": [
    "import torch\n",
    "input_ids = text_to_input_ids(\"A couple of words\")\n",
    "\n",
    "input_shape = input_ids.size()\n",
    "input_ids = input_ids.view(-1, input_shape[-1])\n",
    "batch_size = input_ids.shape[0]\n",
    "\n",
    "past_length = 0\n",
    "past_key_values = tuple([None] * len(model.transformer.h))\n",
    "device = input_ids.device if input_ids is not None else inputs_embeds.device\n",
    "position_ids = torch.arange(past_length, input_shape[-1] + past_length, dtype=torch.long, device=device)\n",
    "position_ids = position_ids.unsqueeze(0).view(-1, input_shape[-1])\n",
    "\n",
    "position_ids"
   ]
  },
  {
   "cell_type": "code",
   "execution_count": 4,
   "id": "052bc850",
   "metadata": {},
   "outputs": [],
   "source": [
    "position_embeds = model.transformer.wpe(position_ids[0])"
   ]
  },
  {
   "cell_type": "code",
   "execution_count": 5,
   "id": "40d8f61d",
   "metadata": {},
   "outputs": [
    {
     "data": {
      "text/plain": [
       "tensor([ 1.0791e-01, -7.3047e-01,  1.9897e-02, -1.2891e-01, -9.8145e-02,\n",
       "         1.5625e-01,  4.0039e-02, -3.4961e-01,  5.9814e-02,  4.8242e-01,\n",
       "        -1.2988e-01,  1.1377e-01,  9.7656e-02,  3.1641e-01,  2.0630e-02,\n",
       "         4.2480e-02,  1.6895e-01, -3.4766e-01, -1.6992e-01, -3.0078e-01,\n",
       "         5.3516e-01,  1.6113e-01, -8.1543e-02, -1.4941e-01,  1.0986e-01,\n",
       "        -3.3008e-01, -1.2891e-01,  4.7363e-02,  5.8594e-01, -5.5176e-02,\n",
       "        -5.9570e-02,  1.3379e-01,  6.9336e-02, -9.4238e-02, -2.3926e-01,\n",
       "         5.4443e-02, -5.2979e-02, -6.1279e-02, -2.6367e-01,  5.7422e-01,\n",
       "         3.5547e-01, -2.9297e-01,  9.7656e-02,  2.3633e-01,  4.7363e-02,\n",
       "        -3.2031e-01, -1.7676e-01,  4.3945e-01, -3.8867e-01,  2.1484e-01,\n",
       "        -2.7930e-01,  3.5547e-01, -1.7578e-01, -1.8359e-01,  1.5625e-01,\n",
       "        -1.1182e-01, -3.3594e-01,  4.7852e-02, -4.8633e-01, -2.4902e-01,\n",
       "        -7.1094e-01, -7.7148e-02, -1.9043e-01, -2.7539e-01,  1.2598e-01,\n",
       "        -6.1328e-01, -3.6719e-01, -1.6211e-01,  1.1621e-01, -6.7969e-01,\n",
       "        -3.3398e-01,  1.1328e-01,  8.0469e-01,  3.6621e-02,  5.7422e-01,\n",
       "         6.7578e-01, -3.4668e-02,  3.0273e-01, -4.1992e-01, -2.4219e-01,\n",
       "        -5.8350e-02,  7.7637e-02, -1.2695e-01, -3.0859e-01,  6.4453e-01,\n",
       "        -1.2891e-01,  7.8125e-02, -5.5469e-01,  3.3398e-01,  3.0273e-01,\n",
       "        -5.8203e-01, -2.2363e-01, -1.1250e+00, -4.7070e-01, -2.9883e-01,\n",
       "         1.8359e-01,  5.0049e-02, -6.3281e-01,  1.4099e-02, -1.9824e-01,\n",
       "         2.1515e-03, -1.3281e-01,  1.4453e-01, -3.3203e-01, -4.3750e-01,\n",
       "        -5.6152e-02,  1.8921e-02, -1.5430e-01,  8.2779e-04,  2.0020e-01,\n",
       "         1.9531e-01, -5.9814e-03, -2.1582e-01,  4.6631e-02,  1.0156e-01,\n",
       "        -8.6914e-02, -3.6328e-01, -6.0938e-01, -4.2969e-02, -1.6992e-01,\n",
       "         1.4258e-01,  5.0781e-02, -2.7930e-01,  5.1270e-02, -5.5469e-01,\n",
       "        -1.7334e-02, -3.9844e-01, -1.9824e-01, -2.7148e-01,  2.1484e-01,\n",
       "         4.9219e-01,  6.0938e-01, -7.4609e-01,  2.1680e-01,  1.1914e-01,\n",
       "         4.8584e-02,  5.0391e-01, -1.0938e-01, -3.4375e-01,  2.8320e-02,\n",
       "         1.4258e-01, -9.8145e-02,  1.5332e-01, -6.2891e-01,  1.8848e-01,\n",
       "         3.1445e-01,  2.3438e-01,  2.2363e-01, -1.0596e-01, -1.2109e-01,\n",
       "        -2.2070e-01, -3.0859e-01,  3.6865e-02, -3.1445e-01,  9.4141e-01,\n",
       "         2.2949e-01,  7.1875e-01, -1.9434e-01,  3.3398e-01,  5.4688e-01,\n",
       "         1.0078e+00, -1.1621e-01, -4.3750e-01,  4.4678e-02, -3.8281e-01,\n",
       "        -6.7871e-02,  4.9316e-02,  7.8125e-02, -1.6699e-01, -7.8125e-02,\n",
       "        -6.8848e-02,  2.4902e-01,  5.8350e-02, -5.5078e-01,  4.6387e-03,\n",
       "        -6.2109e-01,  8.4961e-02, -6.4941e-02,  3.0469e-01,  4.2188e-01,\n",
       "        -7.5195e-02, -6.7578e-01, -2.0703e-01, -2.0312e-01, -2.0020e-01,\n",
       "        -1.4941e-01, -3.0273e-01,  2.8906e-01, -1.4941e-01,  1.7090e-01,\n",
       "         4.4922e-01,  1.5430e-01, -2.9102e-01,  2.1191e-01,  2.5977e-01,\n",
       "         2.3145e-01,  1.7383e-01, -1.9219e+00,  2.9492e-01, -1.5527e-01,\n",
       "         5.3906e-01, -1.1426e-01, -1.5039e-01,  1.0938e-01,  1.9727e-01,\n",
       "         2.3750e+00,  4.1992e-02, -1.4746e-01, -2.1680e-01, -1.3977e-02,\n",
       "         3.9258e-01,  2.1094e-01,  2.5391e-01,  1.8457e-01,  1.3965e-01,\n",
       "         9.3750e-02, -4.7070e-01, -3.0469e-01,  1.5234e-01,  4.2578e-01,\n",
       "        -1.7188e-01, -5.2734e-01, -6.8359e-02, -4.0820e-01,  1.7578e-01,\n",
       "        -3.0273e-01,  1.7871e-01, -5.9814e-03, -2.4707e-01,  3.5938e-01,\n",
       "        -5.1172e-01, -2.5391e-02,  2.1094e-01,  4.1406e-01,  8.3496e-02,\n",
       "        -6.0547e-01,  3.6719e-01, -5.1953e-01, -4.8633e-01,  2.1387e-01,\n",
       "         2.7539e-01,  2.3535e-01, -2.8076e-02,  8.8867e-02,  5.2344e-01,\n",
       "         1.0352e-01, -3.6328e-01,  3.1128e-02,  1.3086e-01, -2.5156e+00,\n",
       "        -8.4473e-02,  3.5742e-01, -1.8848e-01, -3.0469e-01,  3.1738e-02,\n",
       "        -1.9629e-01,  3.2227e-02, -2.0508e-02, -1.2988e-01,  1.9531e-02,\n",
       "        -2.3438e-02, -4.4336e-01, -4.9805e-01,  3.9551e-02, -2.9297e-01,\n",
       "         8.5449e-02,  4.3555e-01,  5.3125e-01, -1.5820e-01,  3.0273e-01,\n",
       "        -2.9297e-01,  4.3164e-01, -1.0498e-01,  8.7402e-02,  1.2695e-01,\n",
       "         8.9355e-02,  2.5635e-02,  3.0469e-01, -9.2578e-01,  1.3965e-01,\n",
       "         3.6133e-02,  4.0430e-01,  8.6328e-01, -2.6172e-01,  3.0273e-01,\n",
       "         2.8125e-01,  1.3379e-01,  1.9531e-01,  2.8320e-01, -5.3516e-01,\n",
       "         3.3594e-01, -3.1055e-01,  1.5820e-01,  2.7539e-01,  2.1191e-01,\n",
       "         6.6406e-01,  1.3281e-01,  4.4336e-01,  5.2344e-01,  5.0000e-01,\n",
       "        -1.5039e-01, -7.0801e-02, -1.4648e-01,  5.5664e-02, -7.6953e-01,\n",
       "        -2.9102e-01, -7.5684e-02,  7.9297e-01, -2.5586e-01,  2.2656e-01,\n",
       "        -4.2383e-01,  1.7480e-01,  1.8311e-04, -2.5781e-01,  4.5312e-01,\n",
       "        -2.3828e-01, -8.8379e-02,  2.9883e-01, -1.2109e-01, -2.2461e-02,\n",
       "        -9.0820e-02,  4.2383e-01,  2.8320e-01, -5.2734e-02,  1.5137e-01,\n",
       "         3.2031e-01,  2.5781e-01,  5.8594e-02, -1.2598e-01,  3.5742e-01,\n",
       "        -4.4141e-01, -5.1270e-02, -4.5508e-01,  3.7109e-01,  2.2266e-01,\n",
       "         9.8633e-02,  4.8047e-01,  1.5234e-01,  3.8477e-01, -6.6406e-02,\n",
       "         3.6133e-01, -2.1289e-01,  3.3984e-01, -1.4453e-01, -5.6641e-01,\n",
       "         3.9307e-02, -4.8096e-02, -3.2227e-01,  4.0430e-01, -4.3164e-01,\n",
       "        -1.6797e-01,  2.6953e-01, -2.0410e-01,  1.4648e-03,  3.3789e-01,\n",
       "        -3.3203e-01,  4.7363e-02,  8.5547e-01, -3.2617e-01, -5.2246e-02,\n",
       "        -2.6562e-01, -1.0645e-01,  9.9609e-02, -6.6895e-02,  2.2559e-01,\n",
       "        -1.6504e-01,  2.3340e-01,  2.1094e-01,  6.2109e-01, -4.8047e-01,\n",
       "         1.1328e-01,  2.8906e-01, -2.4609e-01,  2.2949e-01, -3.4766e-01,\n",
       "         4.3945e-01, -1.1414e-02,  5.5469e-01,  2.8125e-01,  4.1504e-03,\n",
       "        -4.1992e-01, -3.4961e-01, -1.5820e-01, -4.3945e-01, -1.0303e-01,\n",
       "        -2.4414e-04,  4.8828e-02, -2.7539e-01,  4.1602e-01,  3.8672e-01,\n",
       "         1.7480e-01, -4.6484e-01, -1.8677e-02, -1.0859e+00, -1.6016e-01,\n",
       "        -2.1191e-01,  8.5449e-02,  2.8906e-01,  1.5039e-01,  6.0156e-01,\n",
       "         4.6680e-01, -4.5898e-01, -2.3535e-01,  3.0078e-01,  1.2207e-01,\n",
       "         3.2031e-01, -5.8594e-01, -2.0117e-01,  9.7168e-02, -3.8477e-01,\n",
       "         3.7305e-01,  6.0547e-01, -6.4844e-01,  2.8320e-01, -3.1055e-01,\n",
       "         3.5547e-01,  4.5898e-01,  6.2988e-02, -2.0996e-01,  2.3145e-01,\n",
       "         2.0312e-01,  5.9766e-01,  7.7344e-01, -3.4180e-01,  4.1602e-01,\n",
       "         7.4219e-02,  2.0703e-01, -2.3242e-01,  1.7871e-01, -4.0234e-01,\n",
       "        -2.4805e-01,  3.0273e-01, -1.8677e-02,  5.5664e-02,  1.1914e-01,\n",
       "        -8.4229e-03, -3.2422e-01, -5.3125e-01,  3.9844e-01, -1.7090e-01,\n",
       "        -4.0820e-01, -9.8633e-02,  1.2305e-01,  1.4062e-01, -4.1016e-01,\n",
       "         2.1118e-02,  2.0630e-02,  1.0254e-01,  4.7852e-01,  1.9043e-01,\n",
       "         9.6680e-02, -1.2061e-01, -1.9043e-01, -3.8672e-01, -4.0039e-01,\n",
       "        -5.2979e-02,  2.0898e-01, -1.2878e-02, -3.6133e-02,  1.1279e-01,\n",
       "         2.1118e-02,  4.5703e-01,  9.4238e-02,  5.1172e-01,  1.8677e-02,\n",
       "         8.9722e-03,  3.7109e-01,  7.7820e-03, -3.4961e-01, -2.9053e-02,\n",
       "        -1.0596e-01,  3.1641e-01,  3.8574e-02,  1.3379e-01,  2.3145e-01,\n",
       "         4.2969e-01,  1.7578e-01,  2.8125e-01, -2.4219e-01, -3.0078e-01,\n",
       "        -9.2969e-01, -4.0527e-02,  4.5312e-01,  4.5654e-02,  1.4746e-01,\n",
       "         2.2461e-01, -6.2891e-01,  4.5117e-01, -4.0039e-02, -7.9102e-02,\n",
       "        -1.1279e-01,  4.0625e-01,  2.7344e-01, -1.3770e-01,  3.1641e-01,\n",
       "        -9.4531e-01,  1.0449e-01,  2.8198e-02,  7.3242e-02, -6.2109e-01,\n",
       "        -9.7656e-01, -6.8848e-02,  4.0430e-01,  1.5332e-01,  1.2305e-01,\n",
       "         5.7031e-01, -2.0312e-01, -8.3984e-02,  6.2500e-02, -7.2754e-02,\n",
       "         8.8867e-02,  3.0469e-01, -1.7090e-01,  2.1191e-01, -1.9775e-02,\n",
       "        -7.8613e-02, -4.0938e+00, -7.2754e-02,  3.6328e-01,  7.7344e-01,\n",
       "        -4.6143e-02, -1.6797e-01,  8.7109e-01,  2.1875e-01, -4.9219e-01,\n",
       "        -2.7539e-01,  7.9590e-02, -2.8711e-01, -5.5859e-01, -5.1953e-01,\n",
       "        -7.8125e-02,  4.4434e-02, -1.1621e-01,  8.0078e-02,  2.3926e-01,\n",
       "         2.2754e-01, -4.2383e-01,  1.1377e-01, -3.3008e-01,  3.4180e-01,\n",
       "         3.4375e-01,  6.4844e-01,  3.0469e-01,  4.5166e-03, -2.4902e-01,\n",
       "         3.6328e-01,  1.7090e-01,  9.6893e-04, -1.2012e-01,  4.7070e-01,\n",
       "         1.0791e-01, -6.3965e-02,  2.1973e-02,  1.1426e-01, -9.2773e-03,\n",
       "        -6.2256e-02, -3.7500e-01,  4.3164e-01, -3.3008e-01,  1.7871e-01,\n",
       "        -4.3164e-01, -6.7969e-01, -2.5586e-01, -8.8379e-02, -2.9688e-01,\n",
       "         4.4336e-01, -4.5312e-01,  9.8145e-02,  1.0791e-01,  1.6113e-01,\n",
       "         1.2695e-01,  3.4961e-01,  3.3594e-01,  8.0566e-02,  1.4551e-01,\n",
       "        -3.7695e-01,  1.3379e-01, -9.2773e-02, -2.3926e-01,  2.2339e-02,\n",
       "        -2.8125e-01,  1.6992e-01,  6.5234e-01, -2.4707e-01,  5.2344e-01,\n",
       "        -2.1387e-01,  1.2207e-02, -1.3281e-01, -2.0605e-01, -8.0078e-02,\n",
       "         6.2988e-02,  5.8203e-01, -3.3008e-01, -1.2695e-01, -2.2949e-01,\n",
       "        -1.7383e-01,  6.7969e-01, -4.8242e-01,  3.7305e-01,  1.8164e-01,\n",
       "         1.4453e-01, -9.3750e-02, -1.2256e-01, -1.4771e-02,  1.2598e-01,\n",
       "        -7.7637e-02,  2.2266e-01,  2.9883e-01, -2.2656e-01,  1.7285e-01,\n",
       "         4.6289e-01, -4.0039e-01,  1.1865e-01,  1.7285e-01, -2.0898e-01,\n",
       "        -1.2598e-01,  3.3447e-02, -5.6641e-02, -2.7618e-03, -2.5586e-01,\n",
       "         6.9531e-01,  6.6528e-03, -1.8750e-01,  4.3164e-01,  2.1240e-02,\n",
       "        -1.5723e-01,  2.2656e-01,  1.8677e-02,  2.5977e-01,  7.0312e-02,\n",
       "        -1.9922e-01, -1.3477e-01,  1.7188e-01, -7.6172e-02,  8.6914e-02,\n",
       "         4.1406e-01, -3.3789e-01, -4.0625e-01, -4.9561e-02, -5.0000e-01,\n",
       "         1.6699e-01, -7.6599e-03,  2.1875e-01, -4.0039e-01, -8.3496e-02,\n",
       "         2.3926e-01,  7.0312e-02, -4.4141e-01, -6.3965e-02,  5.0781e-01,\n",
       "         2.7344e-01, -1.6016e-01, -2.5000e-01, -3.0664e-01, -3.5156e-01,\n",
       "         5.2344e-01,  1.1172e+00, -4.2383e-01,  6.6016e-01,  2.4121e-01,\n",
       "        -6.4844e-01, -9.7656e-02, -2.8516e-01, -3.5938e-01, -4.6875e-02,\n",
       "        -1.5625e-01, -1.3086e-01, -5.1562e-01, -3.7891e-01,  2.3926e-01,\n",
       "        -1.0693e-01, -1.3867e-01,  2.9531e+00, -3.4912e-02,  2.0508e-02,\n",
       "         1.9922e-01, -6.1719e-01, -9.9609e-02, -6.5918e-02,  2.2168e-01,\n",
       "        -2.8442e-02, -1.9922e-01, -2.5391e-01,  3.1836e-01, -4.8828e-02,\n",
       "        -6.3477e-02,  8.0859e-01,  4.9219e-01,  2.8442e-02, -3.3203e-02,\n",
       "        -7.1094e-01,  1.0693e-01,  1.9141e-01, -5.0781e-01,  5.9814e-02,\n",
       "        -4.4189e-02,  2.0508e-01, -2.0938e+00, -1.5625e-01, -4.4727e-01,\n",
       "        -1.1963e-01, -8.6426e-02, -5.6396e-02,  3.6914e-01, -5.1514e-02,\n",
       "         1.3281e-01,  1.0352e-01, -5.9082e-02,  2.8516e-01, -6.1035e-02,\n",
       "         9.8633e-02, -2.9883e-01, -4.6875e-01, -6.2988e-02,  2.2363e-01,\n",
       "         1.4746e-01, -2.0898e-01, -1.9043e-02, -1.0620e-02, -3.7109e-01,\n",
       "        -4.5312e-01,  1.0547e-01, -1.1426e-01,  1.1328e-01, -7.5195e-02,\n",
       "         3.0469e-01, -3.8086e-01, -1.5723e-01, -4.9438e-03, -1.0352e-01,\n",
       "         1.4355e-01, -7.1777e-02, -1.4355e-01, -2.4121e-01, -3.0884e-02,\n",
       "        -7.5684e-02, -2.0410e-01,  8.8379e-02,  6.8359e-02, -8.0566e-02,\n",
       "        -1.1865e-01,  1.7578e-01,  3.2031e-01,  1.0078e+00, -1.2598e-01,\n",
       "        -8.1787e-03,  5.9375e-01, -5.4688e-01, -4.3359e-01,  3.6914e-01,\n",
       "         1.5234e-01, -4.1602e-01, -9.7656e-01, -1.6992e-01,  3.5742e-01,\n",
       "        -6.1768e-02,  1.8359e-01, -7.0312e-02,  4.3945e-01, -1.0156e-01,\n",
       "        -9.9609e-02,  3.1445e-01, -6.7383e-02, -4.6680e-01, -4.7852e-01,\n",
       "         3.1055e-01,  3.2812e-01, -1.8066e-01], device='cuda:0',\n",
       "       grad_fn=<SelectBackward>)"
      ]
     },
     "execution_count": 5,
     "metadata": {},
     "output_type": "execute_result"
    }
   ],
   "source": [
    "position_embeds[0]"
   ]
  },
  {
   "cell_type": "code",
   "execution_count": 6,
   "id": "59583049",
   "metadata": {},
   "outputs": [],
   "source": [
    "%matplotlib inline\n",
    "import matplotlib.pyplot as plt\n",
    "import numpy as np\n",
    "\n"
   ]
  },
  {
   "cell_type": "code",
   "execution_count": 7,
   "id": "12cea5b6",
   "metadata": {},
   "outputs": [
    {
     "data": {
      "text/plain": [
       "[<matplotlib.lines.Line2D at 0x26095af87f0>]"
      ]
     },
     "execution_count": 7,
     "metadata": {},
     "output_type": "execute_result"
    },
    {
     "data": {
      "image/png": "[encoded data removed]",
      "text/plain": [
       "<Figure size 432x288 with 1 Axes>"
      ]
     },
     "metadata": {
      "needs_background": "light"
     },
     "output_type": "display_data"
    }
   ],
   "source": [
    "plt.plot(position_embeds[1].cpu().detach().numpy())"
   ]
  },
  {
   "cell_type": "code",
   "execution_count": 8,
   "id": "0569d514",
   "metadata": {},
   "outputs": [
    {
     "data": {
      "text/plain": [
       "torch.Size([2048, 768])"
      ]
     },
     "execution_count": 8,
     "metadata": {},
     "output_type": "execute_result"
    }
   ],
   "source": [
    "model.transformer.wpe.weight.shape\n"
   ]
  },
  {
   "cell_type": "code",
   "execution_count": 9,
   "id": "2af5f77d",
   "metadata": {},
   "outputs": [],
   "source": [
    "invwpe = torch.linalg.pinv(model.transformer.wpe.weight)"
   ]
  },
  {
   "cell_type": "code",
   "execution_count": 10,
   "id": "ea2c8644",
   "metadata": {},
   "outputs": [
    {
     "data": {
      "text/plain": [
       "tensor([ 0.0011,  0.9528,  0.0495,  ...,  0.0065, -0.0045, -0.0036],\n",
       "       device='cuda:0', grad_fn=<SqueezeBackward3>)"
      ]
     },
     "execution_count": 10,
     "metadata": {},
     "output_type": "execute_result"
    }
   ],
   "source": [
    "inverted = torch.matmul(position_embeds[1],invwpe)\n",
    "inverted"
   ]
  },
  {
   "cell_type": "code",
   "execution_count": 11,
   "id": "3e9f4420",
   "metadata": {},
   "outputs": [
    {
     "data": {
      "text/plain": [
       "[<matplotlib.lines.Line2D at 0x260a450b3d0>]"
      ]
     },
     "execution_count": 11,
     "metadata": {},
     "output_type": "execute_result"
    },
    {
     "data": {
      "image/png": "[encoded data removed]",
      "text/plain": [
       "<Figure size 432x288 with 1 Axes>"
      ]
     },
     "metadata": {
      "needs_background": "light"
     },
     "output_type": "display_data"
    }
   ],
   "source": [
    "plt.plot(inverted.cpu().detach().numpy())"
   ]
  },
  {
   "cell_type": "code",
   "execution_count": null,
   "id": "e270cfb9",
   "metadata": {},
   "outputs": [],
   "source": []
  }
 ],
 "metadata": {
  "kernelspec": {
   "display_name": "Python 3",
   "language": "python",
   "name": "python3"
  },
  "language_info": {
   "codemirror_mode": {
    "name": "ipython",
    "version": 3
   },
   "file_extension": ".py",
   "mimetype": "text/x-python",
   "name": "python",
   "nbconvert_exporter": "python",
   "pygments_lexer": "ipython3",
   "version": "3.9.1"
  }
 },
 "nbformat": 4,
 "nbformat_minor": 5
}
