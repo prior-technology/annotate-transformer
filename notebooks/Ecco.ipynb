{
 "cells": [
  {
   "cell_type": "code",
   "execution_count": 1,
   "id": "b2fc0714",
   "metadata": {},
   "outputs": [],
   "source": [
    "import ecco\n",
    "lm = ecco.from_pretrained('gpt2')"
   ]
  },
  {
   "cell_type": "code",
   "execution_count": 2,
   "id": "a0d178e1",
   "metadata": {},
   "outputs": [
    {
     "data": {
      "text/html": [
       "<html lang=\"en\">\n",
       "<script src=\"https://requirejs.org/docs/release/2.3.6/minified/require.js\"></script>\n",
       "<script>\n",
       "    var ecco_url = 'https://storage.googleapis.com/ml-intro/ecco/'\n",
       "    // var ecco_url = 'http://localhost:8000/ecco/'\n",
       "\n",
       "    if (window.ecco === undefined) window.ecco = {}\n",
       "\n",
       "    requirejs.config({\n",
       "        urlArgs: \"bust=\" + (new Date()).getTime(),\n",
       "        nodeRequire: require,\n",
       "        paths: {\n",
       "            d3: \"https://d3js.org/d3.v5.min\",\n",
       "            \"d3-array\": \"https://d3js.org/d3-array.v2.min\",\n",
       "            jquery: \"https://code.jquery.com/jquery-3.5.1.min\",\n",
       "            // oldEcco: ecco_url + 'ecco',\n",
       "            ecco: ecco_url + 'js/0.0.4/ecco-bundle.min',\n",
       "            xregexp: 'https://cdnjs.cloudflare.com/ajax/libs/xregexp/3.2.0/xregexp-all.min'\n",
       "        }\n",
       "    });\n",
       "    requirejs(['d3'],\n",
       "        function (d3) {\n",
       "            d3.select('#css').attr('href', ecco_url + 'html/styles.css')\n",
       "        })\n",
       "\n",
       "    console.log('Ecco initialize.')\n",
       "</script>\n",
       "\n",
       "<head>\n",
       "    <link id='css' rel=\"stylesheet\" type=\"text/css\">\n",
       "</head>\n"
      ],
      "text/plain": [
       "<IPython.core.display.HTML object>"
      ]
     },
     "metadata": {},
     "output_type": "display_data"
    },
    {
     "data": {
      "text/html": [
       "<script>\n",
       "    // console.log('defining basic')\n",
       "    define('basic', ['d3'],\n",
       "        function (d3) {\n",
       "            return {\n",
       "                init: function (viz_id = null) {\n",
       "\n",
       "                    // console.log('basic init')\n",
       "                    if (viz_id == null){\n",
       "                        viz_id = \"viz_\" + Math.round(Math.random() * 10000000)\n",
       "                    }\n",
       "                    const div = d3.select('#basic').attr('id', viz_id),\n",
       "                        div_parent = d3.select('#' + viz_id).node().parentNode\n",
       "\n",
       "                    // Link to CSS file\n",
       "                    d3.select(div_parent).insert('link')\n",
       "                        .attr('rel', 'stylesheet')\n",
       "                        .attr('type', 'text/css')\n",
       "                        .attr('href', ecco_url + 'html/styles.css')\n",
       "\n",
       "                    return viz_id\n",
       "                }\n",
       "            }\n",
       "        }, function (err) {console.log(err);}\n",
       "    )\n",
       "    // console.log('after defining basic')\n",
       "\n",
       "</script>\n",
       "<div id=\"basic\"></div>\n"
      ],
      "text/plain": [
       "<IPython.core.display.HTML object>"
      ]
     },
     "metadata": {},
     "output_type": "display_data"
    },
    {
     "data": {
      "application/javascript": [
       "\n",
       "\n",
       "         requirejs( ['basic', 'ecco'], function(basic, ecco){\n",
       "            basic.init('viz_557015')\n",
       "\n",
       "            window.ecco['viz_557015'] = ecco.renderOutputSequence('viz_557015', {'tokens': [{'token': 'The', 'position': 0, 'token_id': 464, 'type': 'input'}, {'token': ' forecast', 'position': 1, 'token_id': 11092, 'type': 'input'}, {'token': ' said', 'position': 2, 'token_id': 531, 'type': 'input'}, {'token': ' that', 'position': 3, 'token_id': 326, 'type': 'input'}, {'token': ' thunder', 'position': 4, 'token_id': 18355, 'type': 'input'}, {'token': 'storm', 'position': 5, 'token_id': 12135, 'type': 'input'}, {'token': ' activity', 'position': 6, 'token_id': 3842, 'type': 'input'}, {'token': ' with', 'position': 7, 'token_id': 351, 'type': 'input'}, {'token': ' the', 'position': 8, 'token_id': 262, 'type': 'input'}, {'token': ' risk', 'position': 9, 'token_id': 2526, 'type': 'input'}, {'token': ' of', 'position': 10, 'token_id': 286, 'type': 'input'}, {'token': ' hail', 'position': 11, 'token_id': 32405, 'type': 'input'}, {'token': ' will', 'position': 12, 'token_id': 481, 'type': 'input'}, {'token': ' lead', 'position': 13, 'token_id': 1085, 'type': 'input'}, {'token': ' to', 'position': 14, 'token_id': 284, 'type': 'input'}, {'token': ' local', 'position': 15, 'token_id': 1957, 'type': 'input'}, {'token': 'ised', 'position': 16, 'token_id': 1417, 'type': 'input'}]})\n",
       "         }, function (err) {\n",
       "            console.log(err);\n",
       "        })\n"
      ],
      "text/plain": [
       "<IPython.core.display.Javascript object>"
      ]
     },
     "metadata": {},
     "output_type": "display_data"
    },
    {
     "data": {
      "application/javascript": [
       "\n",
       "        // We don't really need these require scripts. But this is to avert\n",
       "        //this code from running before display_input_sequence which DOES require external files\n",
       "        requirejs(['basic', 'ecco'], function(basic, ecco){\n",
       "                console.log('addToken viz_id', 'viz_557015');\n",
       "                window.ecco['viz_557015'].addToken({\"token\": \" flooding\", \"token_id\": 17448, \"position\": 17, \"type\": \"output\"})\n",
       "                window.ecco['viz_557015'].redraw()\n",
       "        })\n",
       "        "
      ],
      "text/plain": [
       "<IPython.core.display.Javascript object>"
      ]
     },
     "metadata": {},
     "output_type": "display_data"
    }
   ],
   "source": [
    "text = \"The forecast said that thunderstorm activity with the risk of hail will lead to localised\"\n",
    "\n",
    "output = lm.generate(text, generate=1, do_sample=False)"
   ]
  },
  {
   "cell_type": "code",
   "execution_count": 3,
   "id": "a8862e27",
   "metadata": {},
   "outputs": [
    {
     "data": {
      "text/html": [
       "<html lang=\"en\">\n",
       "<script src=\"https://requirejs.org/docs/release/2.3.6/minified/require.js\"></script>\n",
       "<script>\n",
       "    var ecco_url = 'https://storage.googleapis.com/ml-intro/ecco/'\n",
       "    // var ecco_url = 'http://localhost:8000/ecco/'\n",
       "\n",
       "    if (window.ecco === undefined) window.ecco = {}\n",
       "\n",
       "    requirejs.config({\n",
       "        urlArgs: \"bust=\" + (new Date()).getTime(),\n",
       "        nodeRequire: require,\n",
       "        paths: {\n",
       "            d3: \"https://d3js.org/d3.v5.min\",\n",
       "            \"d3-array\": \"https://d3js.org/d3-array.v2.min\",\n",
       "            jquery: \"https://code.jquery.com/jquery-3.5.1.min\",\n",
       "            // oldEcco: ecco_url + 'ecco',\n",
       "            ecco: ecco_url + 'js/0.0.4/ecco-bundle.min',\n",
       "            xregexp: 'https://cdnjs.cloudflare.com/ajax/libs/xregexp/3.2.0/xregexp-all.min'\n",
       "        }\n",
       "    });\n",
       "    requirejs(['d3'],\n",
       "        function (d3) {\n",
       "            d3.select('#css').attr('href', ecco_url + 'html/styles.css')\n",
       "        })\n",
       "\n",
       "    console.log('Ecco initialize.')\n",
       "</script>\n",
       "\n",
       "<head>\n",
       "    <link id='css' rel=\"stylesheet\" type=\"text/css\">\n",
       "</head>\n"
      ],
      "text/plain": [
       "<IPython.core.display.HTML object>"
      ]
     },
     "metadata": {},
     "output_type": "display_data"
    },
    {
     "data": {
      "text/html": [
       "<script>\n",
       "    // console.log('defining basic')\n",
       "    define('basic', ['d3'],\n",
       "        function (d3) {\n",
       "            return {\n",
       "                init: function (viz_id = null) {\n",
       "\n",
       "                    // console.log('basic init')\n",
       "                    if (viz_id == null){\n",
       "                        viz_id = \"viz_\" + Math.round(Math.random() * 10000000)\n",
       "                    }\n",
       "                    const div = d3.select('#basic').attr('id', viz_id),\n",
       "                        div_parent = d3.select('#' + viz_id).node().parentNode\n",
       "\n",
       "                    // Link to CSS file\n",
       "                    d3.select(div_parent).insert('link')\n",
       "                        .attr('rel', 'stylesheet')\n",
       "                        .attr('type', 'text/css')\n",
       "                        .attr('href', ecco_url + 'html/styles.css')\n",
       "\n",
       "                    return viz_id\n",
       "                }\n",
       "            }\n",
       "        }, function (err) {console.log(err);}\n",
       "    )\n",
       "    // console.log('after defining basic')\n",
       "\n",
       "</script>\n",
       "<div id=\"basic\"></div>\n"
      ],
      "text/plain": [
       "<IPython.core.display.HTML object>"
      ]
     },
     "metadata": {},
     "output_type": "display_data"
    },
    {
     "data": {
      "application/javascript": [
       "\n",
       "             requirejs(['basic', 'ecco'], function(basic, ecco){\n",
       "                const viz_id = basic.init()\n",
       "                window.ecco[viz_id] = ecco.interactiveTokens(viz_id, {'tokens': [{'token': 'The', 'token_id': 464, 'type': 'input', 'value': '0.044962205', 'position': 0}, {'token': ' forecast', 'token_id': 11092, 'type': 'input', 'value': '0.08240361', 'position': 1}, {'token': ' said', 'token_id': 531, 'type': 'input', 'value': '0.030437723', 'position': 2}, {'token': ' that', 'token_id': 326, 'type': 'input', 'value': '0.04557959', 'position': 3}, {'token': ' thunder', 'token_id': 18355, 'type': 'input', 'value': '0.0637418', 'position': 4}, {'token': 'storm', 'token_id': 12135, 'type': 'input', 'value': '0.039275266', 'position': 5}, {'token': ' activity', 'token_id': 3842, 'type': 'input', 'value': '0.076854184', 'position': 6}, {'token': ' with', 'token_id': 351, 'type': 'input', 'value': '0.033001557', 'position': 7}, {'token': ' the', 'token_id': 262, 'type': 'input', 'value': '0.039383076', 'position': 8}, {'token': ' risk', 'token_id': 2526, 'type': 'input', 'value': '0.023415724', 'position': 9}, {'token': ' of', 'token_id': 286, 'type': 'input', 'value': '0.027292581', 'position': 10}, {'token': ' hail', 'token_id': 32405, 'type': 'input', 'value': '0.075379975', 'position': 11}, {'token': ' will', 'token_id': 481, 'type': 'input', 'value': '0.027540714', 'position': 12}, {'token': ' lead', 'token_id': 1085, 'type': 'input', 'value': '0.043280672', 'position': 13}, {'token': ' to', 'token_id': 284, 'type': 'input', 'value': '0.029573178', 'position': 14}, {'token': ' local', 'token_id': 1957, 'type': 'input', 'value': '0.101293124', 'position': 15}, {'token': 'ised', 'token_id': 1417, 'type': 'input', 'value': '0.216585', 'position': 16}, {'token': ' flooding', 'token_id': 17448, 'type': 'output', 'value': '0', 'position': 17}], 'attributions': [[0.04496220499277115, 0.08240360766649246, 0.03043772280216217, 0.045579589903354645, 0.06374180316925049, 0.039275266230106354, 0.07685418426990509, 0.03300155699253082, 0.03938307613134384, 0.02341572381556034, 0.027292581275105476, 0.07537997514009476, 0.02754071354866028, 0.043280672281980515, 0.02957317791879177, 0.10129312425851822, 0.21658499538898468]]})\n",
       "\n",
       "             }, function (err) {\n",
       "                console.log(err);\n",
       "            })"
      ],
      "text/plain": [
       "<IPython.core.display.Javascript object>"
      ]
     },
     "metadata": {},
     "output_type": "display_data"
    }
   ],
   "source": [
    "output.saliency(style=\"detailed\", attr_method='gradient')"
   ]
  },
  {
   "cell_type": "code",
   "execution_count": 4,
   "id": "7573c69d",
   "metadata": {},
   "outputs": [
    {
     "data": {
      "text/html": [
       "<html lang=\"en\">\n",
       "<script src=\"https://requirejs.org/docs/release/2.3.6/minified/require.js\"></script>\n",
       "<script>\n",
       "    var ecco_url = 'https://storage.googleapis.com/ml-intro/ecco/'\n",
       "    // var ecco_url = 'http://localhost:8000/ecco/'\n",
       "\n",
       "    if (window.ecco === undefined) window.ecco = {}\n",
       "\n",
       "    requirejs.config({\n",
       "        urlArgs: \"bust=\" + (new Date()).getTime(),\n",
       "        nodeRequire: require,\n",
       "        paths: {\n",
       "            d3: \"https://d3js.org/d3.v5.min\",\n",
       "            \"d3-array\": \"https://d3js.org/d3-array.v2.min\",\n",
       "            jquery: \"https://code.jquery.com/jquery-3.5.1.min\",\n",
       "            // oldEcco: ecco_url + 'ecco',\n",
       "            ecco: ecco_url + 'js/0.0.4/ecco-bundle.min',\n",
       "            xregexp: 'https://cdnjs.cloudflare.com/ajax/libs/xregexp/3.2.0/xregexp-all.min'\n",
       "        }\n",
       "    });\n",
       "    requirejs(['d3'],\n",
       "        function (d3) {\n",
       "            d3.select('#css').attr('href', ecco_url + 'html/styles.css')\n",
       "        })\n",
       "\n",
       "    console.log('Ecco initialize.')\n",
       "</script>\n",
       "\n",
       "<head>\n",
       "    <link id='css' rel=\"stylesheet\" type=\"text/css\">\n",
       "</head>\n"
      ],
      "text/plain": [
       "<IPython.core.display.HTML object>"
      ]
     },
     "metadata": {},
     "output_type": "display_data"
    },
    {
     "data": {
      "text/html": [
       "<script>\n",
       "    // console.log('defining basic')\n",
       "    define('basic', ['d3'],\n",
       "        function (d3) {\n",
       "            return {\n",
       "                init: function (viz_id = null) {\n",
       "\n",
       "                    // console.log('basic init')\n",
       "                    if (viz_id == null){\n",
       "                        viz_id = \"viz_\" + Math.round(Math.random() * 10000000)\n",
       "                    }\n",
       "                    const div = d3.select('#basic').attr('id', viz_id),\n",
       "                        div_parent = d3.select('#' + viz_id).node().parentNode\n",
       "\n",
       "                    // Link to CSS file\n",
       "                    d3.select(div_parent).insert('link')\n",
       "                        .attr('rel', 'stylesheet')\n",
       "                        .attr('type', 'text/css')\n",
       "                        .attr('href', ecco_url + 'html/styles.css')\n",
       "\n",
       "                    return viz_id\n",
       "                }\n",
       "            }\n",
       "        }, function (err) {console.log(err);}\n",
       "    )\n",
       "    // console.log('after defining basic')\n",
       "\n",
       "</script>\n",
       "<div id=\"basic\"></div>\n"
      ],
      "text/plain": [
       "<IPython.core.display.HTML object>"
      ]
     },
     "metadata": {},
     "output_type": "display_data"
    },
    {
     "data": {
      "application/javascript": [
       "\n",
       "             requirejs(['basic', 'ecco'], function(basic, ecco){\n",
       "                const viz_id = basic.init()\n",
       "                window.ecco[viz_id] = ecco.interactiveTokens(viz_id, {'tokens': [{'token': 'The', 'token_id': 464, 'type': 'input', 'value': '0.047243733', 'position': 0}, {'token': ' forecast', 'token_id': 11092, 'type': 'input', 'value': '0.06644164', 'position': 1}, {'token': ' said', 'token_id': 531, 'type': 'input', 'value': '0.025634732', 'position': 2}, {'token': ' that', 'token_id': 326, 'type': 'input', 'value': '0.0920785', 'position': 3}, {'token': ' thunder', 'token_id': 18355, 'type': 'input', 'value': '0.0709373', 'position': 4}, {'token': 'storm', 'token_id': 12135, 'type': 'input', 'value': '0.049236126', 'position': 5}, {'token': ' activity', 'token_id': 3842, 'type': 'input', 'value': '0.035631415', 'position': 6}, {'token': ' with', 'token_id': 351, 'type': 'input', 'value': '0.05853463', 'position': 7}, {'token': ' the', 'token_id': 262, 'type': 'input', 'value': '0.07165758', 'position': 8}, {'token': ' risk', 'token_id': 2526, 'type': 'input', 'value': '0.02483193', 'position': 9}, {'token': ' of', 'token_id': 286, 'type': 'input', 'value': '0.033334166', 'position': 10}, {'token': ' hail', 'token_id': 32405, 'type': 'input', 'value': '0.08104251', 'position': 11}, {'token': ' will', 'token_id': 481, 'type': 'input', 'value': '0.025254669', 'position': 12}, {'token': ' lead', 'token_id': 1085, 'type': 'input', 'value': '0.0232324', 'position': 13}, {'token': ' to', 'token_id': 284, 'type': 'input', 'value': '0.032894794', 'position': 14}, {'token': ' local', 'token_id': 1957, 'type': 'input', 'value': '0.11339872', 'position': 15}, {'token': 'ised', 'token_id': 1417, 'type': 'input', 'value': '0.14861514', 'position': 16}, {'token': ' flooding', 'token_id': 17448, 'type': 'output', 'value': '0', 'position': 17}], 'attributions': [[0.04724373295903206, 0.06644164025783539, 0.025634732097387314, 0.09207849949598312, 0.07093729823827744, 0.049236126244068146, 0.035631414502859116, 0.05853462964296341, 0.07165758311748505, 0.024831930175423622, 0.033334165811538696, 0.08104251325130463, 0.025254668667912483, 0.02323240041732788, 0.0328947938978672, 0.1133987233042717, 0.14861513674259186]]})\n",
       "\n",
       "             }, function (err) {\n",
       "                console.log(err);\n",
       "            })"
      ],
      "text/plain": [
       "<IPython.core.display.Javascript object>"
      ]
     },
     "metadata": {},
     "output_type": "display_data"
    }
   ],
   "source": [
    "output.saliency(style=\"detailed\", attr_method='grad_x_input')"
   ]
  },
  {
   "cell_type": "code",
   "execution_count": 5,
   "id": "f5d7695e",
   "metadata": {},
   "outputs": [
    {
     "name": "stderr",
     "output_type": "stream",
     "text": [
      "c:\\users\\stephenprior\\source\\repos\\ecco\\src\\ecco\\output.py:412: UserWarning: To copy construct from a tensor, it is recommended to use sourceTensor.clone().detach() or sourceTensor.clone().detach().requires_grad_(True), rather than torch.tensor(sourceTensor).\n",
      "  token_id = torch.tensor(self.token_ids[0][self.n_input_tokens + j])\n"
     ]
    },
    {
     "data": {
      "image/png": "[encoded data removed]",
      "text/plain": [
       "<Figure size 136.8x417.6 with 3 Axes>"
      ]
     },
     "metadata": {},
     "output_type": "display_data"
    }
   ],
   "source": [
    "output.rankings()"
   ]
  },
  {
   "cell_type": "code",
   "execution_count": 6,
   "id": "d261231f",
   "metadata": {},
   "outputs": [],
   "source": [
    "import ecco\n",
    "lm = ecco.from_pretrained('EleutherAI/gpt-neo-125M')"
   ]
  },
  {
   "cell_type": "code",
   "execution_count": 7,
   "id": "ebc3f7e1",
   "metadata": {},
   "outputs": [
    {
     "data": {
      "text/html": [
       "<html lang=\"en\">\n",
       "<script src=\"https://requirejs.org/docs/release/2.3.6/minified/require.js\"></script>\n",
       "<script>\n",
       "    var ecco_url = 'https://storage.googleapis.com/ml-intro/ecco/'\n",
       "    // var ecco_url = 'http://localhost:8000/ecco/'\n",
       "\n",
       "    if (window.ecco === undefined) window.ecco = {}\n",
       "\n",
       "    requirejs.config({\n",
       "        urlArgs: \"bust=\" + (new Date()).getTime(),\n",
       "        nodeRequire: require,\n",
       "        paths: {\n",
       "            d3: \"https://d3js.org/d3.v5.min\",\n",
       "            \"d3-array\": \"https://d3js.org/d3-array.v2.min\",\n",
       "            jquery: \"https://code.jquery.com/jquery-3.5.1.min\",\n",
       "            // oldEcco: ecco_url + 'ecco',\n",
       "            ecco: ecco_url + 'js/0.0.4/ecco-bundle.min',\n",
       "            xregexp: 'https://cdnjs.cloudflare.com/ajax/libs/xregexp/3.2.0/xregexp-all.min'\n",
       "        }\n",
       "    });\n",
       "    requirejs(['d3'],\n",
       "        function (d3) {\n",
       "            d3.select('#css').attr('href', ecco_url + 'html/styles.css')\n",
       "        })\n",
       "\n",
       "    console.log('Ecco initialize.')\n",
       "</script>\n",
       "\n",
       "<head>\n",
       "    <link id='css' rel=\"stylesheet\" type=\"text/css\">\n",
       "</head>\n"
      ],
      "text/plain": [
       "<IPython.core.display.HTML object>"
      ]
     },
     "metadata": {},
     "output_type": "display_data"
    },
    {
     "data": {
      "text/html": [
       "<script>\n",
       "    // console.log('defining basic')\n",
       "    define('basic', ['d3'],\n",
       "        function (d3) {\n",
       "            return {\n",
       "                init: function (viz_id = null) {\n",
       "\n",
       "                    // console.log('basic init')\n",
       "                    if (viz_id == null){\n",
       "                        viz_id = \"viz_\" + Math.round(Math.random() * 10000000)\n",
       "                    }\n",
       "                    const div = d3.select('#basic').attr('id', viz_id),\n",
       "                        div_parent = d3.select('#' + viz_id).node().parentNode\n",
       "\n",
       "                    // Link to CSS file\n",
       "                    d3.select(div_parent).insert('link')\n",
       "                        .attr('rel', 'stylesheet')\n",
       "                        .attr('type', 'text/css')\n",
       "                        .attr('href', ecco_url + 'html/styles.css')\n",
       "\n",
       "                    return viz_id\n",
       "                }\n",
       "            }\n",
       "        }, function (err) {console.log(err);}\n",
       "    )\n",
       "    // console.log('after defining basic')\n",
       "\n",
       "</script>\n",
       "<div id=\"basic\"></div>\n"
      ],
      "text/plain": [
       "<IPython.core.display.HTML object>"
      ]
     },
     "metadata": {},
     "output_type": "display_data"
    },
    {
     "data": {
      "application/javascript": [
       "\n",
       "\n",
       "         requirejs( ['basic', 'ecco'], function(basic, ecco){\n",
       "            basic.init('viz_151865')\n",
       "\n",
       "            window.ecco['viz_151865'] = ecco.renderOutputSequence('viz_151865', {'tokens': [{'token': 'The', 'position': 0, 'token_id': 464, 'type': 'input'}, {'token': ' forecast', 'position': 1, 'token_id': 11092, 'type': 'input'}, {'token': ' said', 'position': 2, 'token_id': 531, 'type': 'input'}, {'token': ' that', 'position': 3, 'token_id': 326, 'type': 'input'}, {'token': ' thunder', 'position': 4, 'token_id': 18355, 'type': 'input'}, {'token': 'storm', 'position': 5, 'token_id': 12135, 'type': 'input'}, {'token': ' activity', 'position': 6, 'token_id': 3842, 'type': 'input'}, {'token': ' with', 'position': 7, 'token_id': 351, 'type': 'input'}, {'token': ' the', 'position': 8, 'token_id': 262, 'type': 'input'}, {'token': ' risk', 'position': 9, 'token_id': 2526, 'type': 'input'}, {'token': ' of', 'position': 10, 'token_id': 286, 'type': 'input'}, {'token': ' hail', 'position': 11, 'token_id': 32405, 'type': 'input'}, {'token': ' will', 'position': 12, 'token_id': 481, 'type': 'input'}, {'token': ' lead', 'position': 13, 'token_id': 1085, 'type': 'input'}, {'token': ' to', 'position': 14, 'token_id': 284, 'type': 'input'}, {'token': ' local', 'position': 15, 'token_id': 1957, 'type': 'input'}, {'token': 'ised', 'position': 16, 'token_id': 1417, 'type': 'input'}]})\n",
       "         }, function (err) {\n",
       "            console.log(err);\n",
       "        })\n"
      ],
      "text/plain": [
       "<IPython.core.display.Javascript object>"
      ]
     },
     "metadata": {},
     "output_type": "display_data"
    },
    {
     "data": {
      "application/javascript": [
       "\n",
       "        // We don't really need these require scripts. But this is to avert\n",
       "        //this code from running before display_input_sequence which DOES require external files\n",
       "        requirejs(['basic', 'ecco'], function(basic, ecco){\n",
       "                console.log('addToken viz_id', 'viz_151865');\n",
       "                window.ecco['viz_151865'].addToken({\"token\": \" flooding\", \"token_id\": 17448, \"position\": 17, \"type\": \"output\"})\n",
       "                window.ecco['viz_151865'].redraw()\n",
       "        })\n",
       "        "
      ],
      "text/plain": [
       "<IPython.core.display.Javascript object>"
      ]
     },
     "metadata": {},
     "output_type": "display_data"
    }
   ],
   "source": [
    "text = \"The forecast said that thunderstorm activity with the risk of hail will lead to localised\"\n",
    "\n",
    "output = lm.generate(text, generate=1, do_sample=False)"
   ]
  },
  {
   "cell_type": "code",
   "execution_count": 8,
   "id": "2fd03fea",
   "metadata": {},
   "outputs": [
    {
     "data": {
      "text/html": [
       "<html lang=\"en\">\n",
       "<script src=\"https://requirejs.org/docs/release/2.3.6/minified/require.js\"></script>\n",
       "<script>\n",
       "    var ecco_url = 'https://storage.googleapis.com/ml-intro/ecco/'\n",
       "    // var ecco_url = 'http://localhost:8000/ecco/'\n",
       "\n",
       "    if (window.ecco === undefined) window.ecco = {}\n",
       "\n",
       "    requirejs.config({\n",
       "        urlArgs: \"bust=\" + (new Date()).getTime(),\n",
       "        nodeRequire: require,\n",
       "        paths: {\n",
       "            d3: \"https://d3js.org/d3.v5.min\",\n",
       "            \"d3-array\": \"https://d3js.org/d3-array.v2.min\",\n",
       "            jquery: \"https://code.jquery.com/jquery-3.5.1.min\",\n",
       "            // oldEcco: ecco_url + 'ecco',\n",
       "            ecco: ecco_url + 'js/0.0.4/ecco-bundle.min',\n",
       "            xregexp: 'https://cdnjs.cloudflare.com/ajax/libs/xregexp/3.2.0/xregexp-all.min'\n",
       "        }\n",
       "    });\n",
       "    requirejs(['d3'],\n",
       "        function (d3) {\n",
       "            d3.select('#css').attr('href', ecco_url + 'html/styles.css')\n",
       "        })\n",
       "\n",
       "    console.log('Ecco initialize.')\n",
       "</script>\n",
       "\n",
       "<head>\n",
       "    <link id='css' rel=\"stylesheet\" type=\"text/css\">\n",
       "</head>\n"
      ],
      "text/plain": [
       "<IPython.core.display.HTML object>"
      ]
     },
     "metadata": {},
     "output_type": "display_data"
    },
    {
     "data": {
      "text/html": [
       "<script>\n",
       "    // console.log('defining basic')\n",
       "    define('basic', ['d3'],\n",
       "        function (d3) {\n",
       "            return {\n",
       "                init: function (viz_id = null) {\n",
       "\n",
       "                    // console.log('basic init')\n",
       "                    if (viz_id == null){\n",
       "                        viz_id = \"viz_\" + Math.round(Math.random() * 10000000)\n",
       "                    }\n",
       "                    const div = d3.select('#basic').attr('id', viz_id),\n",
       "                        div_parent = d3.select('#' + viz_id).node().parentNode\n",
       "\n",
       "                    // Link to CSS file\n",
       "                    d3.select(div_parent).insert('link')\n",
       "                        .attr('rel', 'stylesheet')\n",
       "                        .attr('type', 'text/css')\n",
       "                        .attr('href', ecco_url + 'html/styles.css')\n",
       "\n",
       "                    return viz_id\n",
       "                }\n",
       "            }\n",
       "        }, function (err) {console.log(err);}\n",
       "    )\n",
       "    // console.log('after defining basic')\n",
       "\n",
       "</script>\n",
       "<div id=\"basic\"></div>\n"
      ],
      "text/plain": [
       "<IPython.core.display.HTML object>"
      ]
     },
     "metadata": {},
     "output_type": "display_data"
    },
    {
     "data": {
      "application/javascript": [
       "\n",
       "             requirejs(['basic', 'ecco'], function(basic, ecco){\n",
       "                const viz_id = basic.init()\n",
       "                window.ecco[viz_id] = ecco.interactiveTokens(viz_id, {'tokens': [{'token': 'The', 'token_id': 464, 'type': 'input', 'value': '0.03174838', 'position': 0}, {'token': ' forecast', 'token_id': 11092, 'type': 'input', 'value': '0.036290765', 'position': 1}, {'token': ' said', 'token_id': 531, 'type': 'input', 'value': '0.022580199', 'position': 2}, {'token': ' that', 'token_id': 326, 'type': 'input', 'value': '0.072689466', 'position': 3}, {'token': ' thunder', 'token_id': 18355, 'type': 'input', 'value': '0.036971994', 'position': 4}, {'token': 'storm', 'token_id': 12135, 'type': 'input', 'value': '0.05960983', 'position': 5}, {'token': ' activity', 'token_id': 3842, 'type': 'input', 'value': '0.06742658', 'position': 6}, {'token': ' with', 'token_id': 351, 'type': 'input', 'value': '0.017338607', 'position': 7}, {'token': ' the', 'token_id': 262, 'type': 'input', 'value': '0.07864333', 'position': 8}, {'token': ' risk', 'token_id': 2526, 'type': 'input', 'value': '0.05001328', 'position': 9}, {'token': ' of', 'token_id': 286, 'type': 'input', 'value': '0.041373882', 'position': 10}, {'token': ' hail', 'token_id': 32405, 'type': 'input', 'value': '0.05674542', 'position': 11}, {'token': ' will', 'token_id': 481, 'type': 'input', 'value': '0.01812656', 'position': 12}, {'token': ' lead', 'token_id': 1085, 'type': 'input', 'value': '0.03918934', 'position': 13}, {'token': ' to', 'token_id': 284, 'type': 'input', 'value': '0.10422046', 'position': 14}, {'token': ' local', 'token_id': 1957, 'type': 'input', 'value': '0.14581034', 'position': 15}, {'token': 'ised', 'token_id': 1417, 'type': 'input', 'value': '0.121221565', 'position': 16}, {'token': ' flooding', 'token_id': 17448, 'type': 'output', 'value': '0', 'position': 17}], 'attributions': [[0.03174838051199913, 0.036290764808654785, 0.02258019894361496, 0.0726894661784172, 0.03697199374437332, 0.059609830379486084, 0.06742657721042633, 0.01733860746026039, 0.0786433294415474, 0.050013281404972076, 0.041373882442712784, 0.05674542114138603, 0.018126560375094414, 0.03918933868408203, 0.10422045737504959, 0.1458103358745575, 0.12122156471014023]]})\n",
       "\n",
       "             }, function (err) {\n",
       "                console.log(err);\n",
       "            })"
      ],
      "text/plain": [
       "<IPython.core.display.Javascript object>"
      ]
     },
     "metadata": {},
     "output_type": "display_data"
    }
   ],
   "source": [
    "output.saliency(style=\"detailed\", attr_method='gradient')"
   ]
  },
  {
   "cell_type": "code",
   "execution_count": 9,
   "id": "b141f1e0",
   "metadata": {},
   "outputs": [
    {
     "data": {
      "text/html": [
       "<html lang=\"en\">\n",
       "<script src=\"https://requirejs.org/docs/release/2.3.6/minified/require.js\"></script>\n",
       "<script>\n",
       "    var ecco_url = 'https://storage.googleapis.com/ml-intro/ecco/'\n",
       "    // var ecco_url = 'http://localhost:8000/ecco/'\n",
       "\n",
       "    if (window.ecco === undefined) window.ecco = {}\n",
       "\n",
       "    requirejs.config({\n",
       "        urlArgs: \"bust=\" + (new Date()).getTime(),\n",
       "        nodeRequire: require,\n",
       "        paths: {\n",
       "            d3: \"https://d3js.org/d3.v5.min\",\n",
       "            \"d3-array\": \"https://d3js.org/d3-array.v2.min\",\n",
       "            jquery: \"https://code.jquery.com/jquery-3.5.1.min\",\n",
       "            // oldEcco: ecco_url + 'ecco',\n",
       "            ecco: ecco_url + 'js/0.0.4/ecco-bundle.min',\n",
       "            xregexp: 'https://cdnjs.cloudflare.com/ajax/libs/xregexp/3.2.0/xregexp-all.min'\n",
       "        }\n",
       "    });\n",
       "    requirejs(['d3'],\n",
       "        function (d3) {\n",
       "            d3.select('#css').attr('href', ecco_url + 'html/styles.css')\n",
       "        })\n",
       "\n",
       "    console.log('Ecco initialize.')\n",
       "</script>\n",
       "\n",
       "<head>\n",
       "    <link id='css' rel=\"stylesheet\" type=\"text/css\">\n",
       "</head>\n"
      ],
      "text/plain": [
       "<IPython.core.display.HTML object>"
      ]
     },
     "metadata": {},
     "output_type": "display_data"
    },
    {
     "data": {
      "text/html": [
       "<script>\n",
       "    // console.log('defining basic')\n",
       "    define('basic', ['d3'],\n",
       "        function (d3) {\n",
       "            return {\n",
       "                init: function (viz_id = null) {\n",
       "\n",
       "                    // console.log('basic init')\n",
       "                    if (viz_id == null){\n",
       "                        viz_id = \"viz_\" + Math.round(Math.random() * 10000000)\n",
       "                    }\n",
       "                    const div = d3.select('#basic').attr('id', viz_id),\n",
       "                        div_parent = d3.select('#' + viz_id).node().parentNode\n",
       "\n",
       "                    // Link to CSS file\n",
       "                    d3.select(div_parent).insert('link')\n",
       "                        .attr('rel', 'stylesheet')\n",
       "                        .attr('type', 'text/css')\n",
       "                        .attr('href', ecco_url + 'html/styles.css')\n",
       "\n",
       "                    return viz_id\n",
       "                }\n",
       "            }\n",
       "        }, function (err) {console.log(err);}\n",
       "    )\n",
       "    // console.log('after defining basic')\n",
       "\n",
       "</script>\n",
       "<div id=\"basic\"></div>\n"
      ],
      "text/plain": [
       "<IPython.core.display.HTML object>"
      ]
     },
     "metadata": {},
     "output_type": "display_data"
    },
    {
     "data": {
      "application/javascript": [
       "\n",
       "             requirejs(['basic', 'ecco'], function(basic, ecco){\n",
       "                const viz_id = basic.init()\n",
       "                window.ecco[viz_id] = ecco.interactiveTokens(viz_id, {'tokens': [{'token': 'The', 'token_id': 464, 'type': 'input', 'value': '0.044741724', 'position': 0}, {'token': ' forecast', 'token_id': 11092, 'type': 'input', 'value': '0.08336777', 'position': 1}, {'token': ' said', 'token_id': 531, 'type': 'input', 'value': '0.018206002', 'position': 2}, {'token': ' that', 'token_id': 326, 'type': 'input', 'value': '0.016318593', 'position': 3}, {'token': ' thunder', 'token_id': 18355, 'type': 'input', 'value': '0.069207095', 'position': 4}, {'token': 'storm', 'token_id': 12135, 'type': 'input', 'value': '0.071847215', 'position': 5}, {'token': ' activity', 'token_id': 3842, 'type': 'input', 'value': '0.052524693', 'position': 6}, {'token': ' with', 'token_id': 351, 'type': 'input', 'value': '0.012412767', 'position': 7}, {'token': ' the', 'token_id': 262, 'type': 'input', 'value': '0.019118274', 'position': 8}, {'token': ' risk', 'token_id': 2526, 'type': 'input', 'value': '0.035473768', 'position': 9}, {'token': ' of', 'token_id': 286, 'type': 'input', 'value': '0.026651453', 'position': 10}, {'token': ' hail', 'token_id': 32405, 'type': 'input', 'value': '0.1253627', 'position': 11}, {'token': ' will', 'token_id': 481, 'type': 'input', 'value': '0.021002458', 'position': 12}, {'token': ' lead', 'token_id': 1085, 'type': 'input', 'value': '0.036708303', 'position': 13}, {'token': ' to', 'token_id': 284, 'type': 'input', 'value': '0.031542543', 'position': 14}, {'token': ' local', 'token_id': 1957, 'type': 'input', 'value': '0.124107435', 'position': 15}, {'token': 'ised', 'token_id': 1417, 'type': 'input', 'value': '0.21140723', 'position': 16}, {'token': ' flooding', 'token_id': 17448, 'type': 'output', 'value': '0', 'position': 17}], 'attributions': [[0.04474172368645668, 0.08336777240037918, 0.018206002190709114, 0.01631859317421913, 0.0692070946097374, 0.07184721529483795, 0.05252469331026077, 0.012412766925990582, 0.01911827363073826, 0.035473767668008804, 0.026651453226804733, 0.12536269426345825, 0.021002458408474922, 0.03670830279588699, 0.031542543321847916, 0.12410743534564972, 0.21140722930431366]]})\n",
       "\n",
       "             }, function (err) {\n",
       "                console.log(err);\n",
       "            })"
      ],
      "text/plain": [
       "<IPython.core.display.Javascript object>"
      ]
     },
     "metadata": {},
     "output_type": "display_data"
    }
   ],
   "source": [
    "output.saliency(style=\"detailed\", attr_method='grad_x_input')"
   ]
  },
  {
   "cell_type": "code",
   "execution_count": 10,
   "id": "dfe1c7cd",
   "metadata": {},
   "outputs": [
    {
     "data": {
      "image/png": "[encoded data removed]",
      "text/plain": [
       "<Figure size 136.8x417.6 with 3 Axes>"
      ]
     },
     "metadata": {},
     "output_type": "display_data"
    }
   ],
   "source": [
    "output.rankings()"
   ]
  },
  {
   "cell_type": "code",
   "execution_count": null,
   "id": "96dbe2ee",
   "metadata": {},
   "outputs": [],
   "source": []
  }
 ],
 "metadata": {
  "kernelspec": {
   "display_name": "Python 3",
   "language": "python",
   "name": "python3"
  },
  "language_info": {
   "codemirror_mode": {
    "name": "ipython",
    "version": 3
   },
   "file_extension": ".py",
   "mimetype": "text/x-python",
   "name": "python",
   "nbconvert_exporter": "python",
   "pygments_lexer": "ipython3",
   "version": "3.9.1"
  }
 },
 "nbformat": 4,
 "nbformat_minor": 5
}
