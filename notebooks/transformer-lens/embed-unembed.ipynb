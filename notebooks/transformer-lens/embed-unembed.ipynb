{
 "cells": [
  {
   "cell_type": "markdown",
   "metadata": {},
   "source": [
    "This notebook compares the frequency distribution based on product of embedding/unembedding vectors to the token frequency distibution calculated from the Pile.\n",
    "\n"
   ]
  },
  {
   "cell_type": "code",
   "execution_count": null,
   "metadata": {},
   "outputs": [
    {
     "ename": "",
     "evalue": "",
     "output_type": "error",
     "traceback": [
      "\u001b[1;31mRunning cells with '.venv' requires the ipykernel package.\n",
      "\u001b[1;31mRun the following command to install 'ipykernel' into the Python environment. \n",
      "\u001b[1;31mCommand: 'c:/Users/StephenPrior/source/repos/annotate-transformer/.venv/Scripts/python.exe -m pip install ipykernel -U --force-reinstall'"
     ]
    }
   ],
   "source": [
    "%pip install git+https://github.com/neelnanda-io/TransformerLens.git"
   ]
  },
  {
   "cell_type": "code",
   "execution_count": null,
   "metadata": {},
   "outputs": [],
   "source": [
    "import pickle\n",
    "from scipy.sparse import load_npz\n",
    "\n",
    "# Specify the file path\n",
    "file_path = './file1'\n",
    "\n",
    "# Load the pickled scipy sparse array\n",
    "sparse_array = load_npz(file_path)\n",
    "\n",
    "# Print the sparse array\n",
    "print(sparse_array)\n"
   ]
  }
 ],
 "metadata": {
  "kernelspec": {
   "display_name": "annotate-transformer",
   "language": "python",
   "name": "annotate-transformer"
  },
  "language_info": {
   "name": "python",
   "version": "3.9.1"
  }
 },
 "nbformat": 4,
 "nbformat_minor": 2
}
