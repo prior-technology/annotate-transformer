{
 "cells": [
  {
   "attachments": {},
   "cell_type": "markdown",
   "metadata": {},
   "source": [
    "\n",
    "## Bra-Ket Notation\n",
    "\n",
    "Bra-Ket notation is used in quantum mechanics to represent states and measurements, combined they represent the probability of a measurement of a state. $<x|\\psi>$ is the probability of measuring the state $|\\psi>$ as $x$.\n",
    "\n",
    "The transformer is understood as a performing a transformation on the residual space.\n",
    "\n",
    "A sequence of tokens combine with the transformer to generate an output residual, which through the unembedding layer generates a weight representing likelihood of each of the next possible tokens.\n",
    "\n",
    "The embedding and unembedding layers give a natural labelling for certain vectors in the residual space.\n",
    "\n",
    "The input residual based on the token \"the\" is labelled as $\\underline{the}$. The input residual from combining the unembedding vector with the position vector for the $i^{th}$ token is labelled as $\\underline{\\text{the}_i}$. The input residual from combining the unembedding vector with the position vector for the $i^{th}$ token and the position vector for the $j^{th}$ token is labelled as $\\underline{\\text{the}_i \\text{cat}_j}$.\n",
    "\n",
    "The vector from the unembedding layer representing the token \"cat\" is labelled as $\\overline{cat}$.\n",
    "\n",
    "The transformer is represented as operator $T$.\n",
    "\n",
    "The operation of the transformer on input token \"the\", to generate a logit for \"cat\" is represented as $\\bra{\\overline{cat}} \\ket{T : \\underline{the}} = p$.\n",
    "$ \\ket{T :\\underline{the}}$ therefore represents the output residual vector (in the last position) after running the transformer on the input token \"the\". These can be concatenated to represent the output residual after running the transformer on a sequence of tokens. $\\bra{\\underline{\\text{the cat is}}} T \\ket{\\overline{on}}$."
   ]
  },
  {
   "attachments": {},
   "cell_type": "markdown",
   "metadata": {},
   "source": []
  }
 ],
 "metadata": {
  "language_info": {
   "name": "python"
  },
  "orig_nbformat": 4
 },
 "nbformat": 4,
 "nbformat_minor": 2
}
