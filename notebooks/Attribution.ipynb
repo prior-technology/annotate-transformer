{
 "cells": [
  {
   "cell_type": "markdown",
   "id": "27759517",
   "metadata": {},
   "source": [
    "Goal is to attribute transformer output to either earlier positions or lower layers\n",
    "\n",
    "First apply the full model forward from Token through to LM Head without attribution"
   ]
  },
  {
   "cell_type": "code",
   "execution_count": 1,
   "id": "5e305c4f",
   "metadata": {},
   "outputs": [
    {
     "name": "stderr",
     "output_type": "stream",
     "text": [
      "c:\\users\\stephenprior\\appdata\\local\\programs\\python\\python39\\lib\\site-packages\\torch\\nn\\modules\\lazy.py:175: UserWarning: Lazy modules are a new feature under heavy development so changes to the API or functionality can happen at any moment.\n",
      "  warnings.warn('Lazy modules are a new feature under heavy development '\n"
     ]
    }
   ],
   "source": [
    "from transformer_utils.low_memory import enable_low_memory_load\n",
    "import transformers\n",
    "\n",
    "enable_low_memory_load()\n",
    "tokenizer = transformers.AutoTokenizer.from_pretrained(\"gpt2\")\n",
    "model = transformers.AutoModelForCausalLM.from_pretrained('EleutherAI/gpt-neo-125M')"
   ]
  },
  {
   "cell_type": "code",
   "execution_count": 2,
   "id": "ac7c8e3a",
   "metadata": {},
   "outputs": [],
   "source": [
    "from src.visualization import visualize"
   ]
  },
  {
   "cell_type": "code",
   "execution_count": 3,
   "id": "84a1a3db",
   "metadata": {},
   "outputs": [
    {
     "data": {
      "text/plain": [
       "tensor([[  464, 11092,   531,   326, 18355, 12135,  3842,   351,   262,  2526,\n",
       "           286, 32405,   481,  1085,   284,  1957,  1417]], device='cuda:0')"
      ]
     },
     "execution_count": 3,
     "metadata": {},
     "output_type": "execute_result"
    }
   ],
   "source": [
    "text = \"The forecast said that thunderstorm activity with the risk of hail will lead to localised\"\n",
    "tokens = visualize.text_to_input_ids(tokenizer, text)\n",
    "tokens"
   ]
  },
  {
   "cell_type": "code",
   "execution_count": 4,
   "id": "99cd82a7",
   "metadata": {},
   "outputs": [
    {
     "data": {
      "text/plain": [
       "(['The forecast said that thunderstorm activity with the risk of hail will lead to localised'],\n",
       " 'ised')"
      ]
     },
     "execution_count": 4,
     "metadata": {},
     "output_type": "execute_result"
    }
   ],
   "source": [
    "tokenizer.batch_decode(tokens),tokenizer.decode(1417)"
   ]
  },
  {
   "cell_type": "code",
   "execution_count": 5,
   "id": "18b86175",
   "metadata": {},
   "outputs": [
    {
     "data": {
      "text/plain": [
       "GPTNeoForCausalLM(\n",
       "  (transformer): GPTNeoModel(\n",
       "    (wte): Embedding(50257, 768)\n",
       "    (wpe): Embedding(2048, 768)\n",
       "    (drop): Dropout(p=0, inplace=False)\n",
       "    (h): ModuleList(\n",
       "      (0): GPTNeoBlock(\n",
       "        (ln_1): LayerNorm((768,), eps=1e-05, elementwise_affine=True)\n",
       "        (attn): GPTNeoAttention(\n",
       "          (attention): GPTNeoSelfAttention(\n",
       "            (attn_dropout): Dropout(p=0, inplace=False)\n",
       "            (resid_dropout): Dropout(p=0, inplace=False)\n",
       "            (k_proj): Linear(in_features=0, out_features=768, bias=False)\n",
       "            (v_proj): Linear(in_features=0, out_features=768, bias=False)\n",
       "            (q_proj): Linear(in_features=0, out_features=768, bias=False)\n",
       "            (out_proj): Linear(in_features=0, out_features=768, bias=True)\n",
       "          )\n",
       "        )\n",
       "        (ln_2): LayerNorm((768,), eps=1e-05, elementwise_affine=True)\n",
       "        (mlp): GPTNeoMLP(\n",
       "          (c_fc): Linear(in_features=0, out_features=3072, bias=True)\n",
       "          (c_proj): Linear(in_features=0, out_features=768, bias=True)\n",
       "          (dropout): Dropout(p=0, inplace=False)\n",
       "        )\n",
       "      )\n",
       "      (1): GPTNeoBlock(\n",
       "        (ln_1): LayerNorm((768,), eps=1e-05, elementwise_affine=True)\n",
       "        (attn): GPTNeoAttention(\n",
       "          (attention): GPTNeoLocalSelfAttention(\n",
       "            (attn_dropout): Dropout(p=0, inplace=False)\n",
       "            (resid_dropout): Dropout(p=0, inplace=False)\n",
       "            (k_proj): Linear(in_features=0, out_features=768, bias=False)\n",
       "            (v_proj): Linear(in_features=0, out_features=768, bias=False)\n",
       "            (q_proj): Linear(in_features=0, out_features=768, bias=False)\n",
       "            (out_proj): Linear(in_features=0, out_features=768, bias=True)\n",
       "          )\n",
       "        )\n",
       "        (ln_2): LayerNorm((768,), eps=1e-05, elementwise_affine=True)\n",
       "        (mlp): GPTNeoMLP(\n",
       "          (c_fc): Linear(in_features=0, out_features=3072, bias=True)\n",
       "          (c_proj): Linear(in_features=0, out_features=768, bias=True)\n",
       "          (dropout): Dropout(p=0, inplace=False)\n",
       "        )\n",
       "      )\n",
       "      (2): GPTNeoBlock(\n",
       "        (ln_1): LayerNorm((768,), eps=1e-05, elementwise_affine=True)\n",
       "        (attn): GPTNeoAttention(\n",
       "          (attention): GPTNeoSelfAttention(\n",
       "            (attn_dropout): Dropout(p=0, inplace=False)\n",
       "            (resid_dropout): Dropout(p=0, inplace=False)\n",
       "            (k_proj): Linear(in_features=0, out_features=768, bias=False)\n",
       "            (v_proj): Linear(in_features=0, out_features=768, bias=False)\n",
       "            (q_proj): Linear(in_features=0, out_features=768, bias=False)\n",
       "            (out_proj): Linear(in_features=0, out_features=768, bias=True)\n",
       "          )\n",
       "        )\n",
       "        (ln_2): LayerNorm((768,), eps=1e-05, elementwise_affine=True)\n",
       "        (mlp): GPTNeoMLP(\n",
       "          (c_fc): Linear(in_features=0, out_features=3072, bias=True)\n",
       "          (c_proj): Linear(in_features=0, out_features=768, bias=True)\n",
       "          (dropout): Dropout(p=0, inplace=False)\n",
       "        )\n",
       "      )\n",
       "      (3): GPTNeoBlock(\n",
       "        (ln_1): LayerNorm((768,), eps=1e-05, elementwise_affine=True)\n",
       "        (attn): GPTNeoAttention(\n",
       "          (attention): GPTNeoLocalSelfAttention(\n",
       "            (attn_dropout): Dropout(p=0, inplace=False)\n",
       "            (resid_dropout): Dropout(p=0, inplace=False)\n",
       "            (k_proj): Linear(in_features=0, out_features=768, bias=False)\n",
       "            (v_proj): Linear(in_features=0, out_features=768, bias=False)\n",
       "            (q_proj): Linear(in_features=0, out_features=768, bias=False)\n",
       "            (out_proj): Linear(in_features=0, out_features=768, bias=True)\n",
       "          )\n",
       "        )\n",
       "        (ln_2): LayerNorm((768,), eps=1e-05, elementwise_affine=True)\n",
       "        (mlp): GPTNeoMLP(\n",
       "          (c_fc): Linear(in_features=0, out_features=3072, bias=True)\n",
       "          (c_proj): Linear(in_features=0, out_features=768, bias=True)\n",
       "          (dropout): Dropout(p=0, inplace=False)\n",
       "        )\n",
       "      )\n",
       "      (4): GPTNeoBlock(\n",
       "        (ln_1): LayerNorm((768,), eps=1e-05, elementwise_affine=True)\n",
       "        (attn): GPTNeoAttention(\n",
       "          (attention): GPTNeoSelfAttention(\n",
       "            (attn_dropout): Dropout(p=0, inplace=False)\n",
       "            (resid_dropout): Dropout(p=0, inplace=False)\n",
       "            (k_proj): Linear(in_features=0, out_features=768, bias=False)\n",
       "            (v_proj): Linear(in_features=0, out_features=768, bias=False)\n",
       "            (q_proj): Linear(in_features=0, out_features=768, bias=False)\n",
       "            (out_proj): Linear(in_features=0, out_features=768, bias=True)\n",
       "          )\n",
       "        )\n",
       "        (ln_2): LayerNorm((768,), eps=1e-05, elementwise_affine=True)\n",
       "        (mlp): GPTNeoMLP(\n",
       "          (c_fc): Linear(in_features=0, out_features=3072, bias=True)\n",
       "          (c_proj): Linear(in_features=0, out_features=768, bias=True)\n",
       "          (dropout): Dropout(p=0, inplace=False)\n",
       "        )\n",
       "      )\n",
       "      (5): GPTNeoBlock(\n",
       "        (ln_1): LayerNorm((768,), eps=1e-05, elementwise_affine=True)\n",
       "        (attn): GPTNeoAttention(\n",
       "          (attention): GPTNeoLocalSelfAttention(\n",
       "            (attn_dropout): Dropout(p=0, inplace=False)\n",
       "            (resid_dropout): Dropout(p=0, inplace=False)\n",
       "            (k_proj): Linear(in_features=0, out_features=768, bias=False)\n",
       "            (v_proj): Linear(in_features=0, out_features=768, bias=False)\n",
       "            (q_proj): Linear(in_features=0, out_features=768, bias=False)\n",
       "            (out_proj): Linear(in_features=0, out_features=768, bias=True)\n",
       "          )\n",
       "        )\n",
       "        (ln_2): LayerNorm((768,), eps=1e-05, elementwise_affine=True)\n",
       "        (mlp): GPTNeoMLP(\n",
       "          (c_fc): Linear(in_features=0, out_features=3072, bias=True)\n",
       "          (c_proj): Linear(in_features=0, out_features=768, bias=True)\n",
       "          (dropout): Dropout(p=0, inplace=False)\n",
       "        )\n",
       "      )\n",
       "      (6): GPTNeoBlock(\n",
       "        (ln_1): LayerNorm((768,), eps=1e-05, elementwise_affine=True)\n",
       "        (attn): GPTNeoAttention(\n",
       "          (attention): GPTNeoSelfAttention(\n",
       "            (attn_dropout): Dropout(p=0, inplace=False)\n",
       "            (resid_dropout): Dropout(p=0, inplace=False)\n",
       "            (k_proj): Linear(in_features=0, out_features=768, bias=False)\n",
       "            (v_proj): Linear(in_features=0, out_features=768, bias=False)\n",
       "            (q_proj): Linear(in_features=0, out_features=768, bias=False)\n",
       "            (out_proj): Linear(in_features=0, out_features=768, bias=True)\n",
       "          )\n",
       "        )\n",
       "        (ln_2): LayerNorm((768,), eps=1e-05, elementwise_affine=True)\n",
       "        (mlp): GPTNeoMLP(\n",
       "          (c_fc): Linear(in_features=0, out_features=3072, bias=True)\n",
       "          (c_proj): Linear(in_features=0, out_features=768, bias=True)\n",
       "          (dropout): Dropout(p=0, inplace=False)\n",
       "        )\n",
       "      )\n",
       "      (7): GPTNeoBlock(\n",
       "        (ln_1): LayerNorm((768,), eps=1e-05, elementwise_affine=True)\n",
       "        (attn): GPTNeoAttention(\n",
       "          (attention): GPTNeoLocalSelfAttention(\n",
       "            (attn_dropout): Dropout(p=0, inplace=False)\n",
       "            (resid_dropout): Dropout(p=0, inplace=False)\n",
       "            (k_proj): Linear(in_features=0, out_features=768, bias=False)\n",
       "            (v_proj): Linear(in_features=0, out_features=768, bias=False)\n",
       "            (q_proj): Linear(in_features=0, out_features=768, bias=False)\n",
       "            (out_proj): Linear(in_features=0, out_features=768, bias=True)\n",
       "          )\n",
       "        )\n",
       "        (ln_2): LayerNorm((768,), eps=1e-05, elementwise_affine=True)\n",
       "        (mlp): GPTNeoMLP(\n",
       "          (c_fc): Linear(in_features=0, out_features=3072, bias=True)\n",
       "          (c_proj): Linear(in_features=0, out_features=768, bias=True)\n",
       "          (dropout): Dropout(p=0, inplace=False)\n",
       "        )\n",
       "      )\n",
       "      (8): GPTNeoBlock(\n",
       "        (ln_1): LayerNorm((768,), eps=1e-05, elementwise_affine=True)\n",
       "        (attn): GPTNeoAttention(\n",
       "          (attention): GPTNeoSelfAttention(\n",
       "            (attn_dropout): Dropout(p=0, inplace=False)\n",
       "            (resid_dropout): Dropout(p=0, inplace=False)\n",
       "            (k_proj): Linear(in_features=0, out_features=768, bias=False)\n",
       "            (v_proj): Linear(in_features=0, out_features=768, bias=False)\n",
       "            (q_proj): Linear(in_features=0, out_features=768, bias=False)\n",
       "            (out_proj): Linear(in_features=0, out_features=768, bias=True)\n",
       "          )\n",
       "        )\n",
       "        (ln_2): LayerNorm((768,), eps=1e-05, elementwise_affine=True)\n",
       "        (mlp): GPTNeoMLP(\n",
       "          (c_fc): Linear(in_features=0, out_features=3072, bias=True)\n",
       "          (c_proj): Linear(in_features=0, out_features=768, bias=True)\n",
       "          (dropout): Dropout(p=0, inplace=False)\n",
       "        )\n",
       "      )\n",
       "      (9): GPTNeoBlock(\n",
       "        (ln_1): LayerNorm((768,), eps=1e-05, elementwise_affine=True)\n",
       "        (attn): GPTNeoAttention(\n",
       "          (attention): GPTNeoLocalSelfAttention(\n",
       "            (attn_dropout): Dropout(p=0, inplace=False)\n",
       "            (resid_dropout): Dropout(p=0, inplace=False)\n",
       "            (k_proj): Linear(in_features=0, out_features=768, bias=False)\n",
       "            (v_proj): Linear(in_features=0, out_features=768, bias=False)\n",
       "            (q_proj): Linear(in_features=0, out_features=768, bias=False)\n",
       "            (out_proj): Linear(in_features=0, out_features=768, bias=True)\n",
       "          )\n",
       "        )\n",
       "        (ln_2): LayerNorm((768,), eps=1e-05, elementwise_affine=True)\n",
       "        (mlp): GPTNeoMLP(\n",
       "          (c_fc): Linear(in_features=0, out_features=3072, bias=True)\n",
       "          (c_proj): Linear(in_features=0, out_features=768, bias=True)\n",
       "          (dropout): Dropout(p=0, inplace=False)\n",
       "        )\n",
       "      )\n",
       "      (10): GPTNeoBlock(\n",
       "        (ln_1): LayerNorm((768,), eps=1e-05, elementwise_affine=True)\n",
       "        (attn): GPTNeoAttention(\n",
       "          (attention): GPTNeoSelfAttention(\n",
       "            (attn_dropout): Dropout(p=0, inplace=False)\n",
       "            (resid_dropout): Dropout(p=0, inplace=False)\n",
       "            (k_proj): Linear(in_features=0, out_features=768, bias=False)\n",
       "            (v_proj): Linear(in_features=0, out_features=768, bias=False)\n",
       "            (q_proj): Linear(in_features=0, out_features=768, bias=False)\n",
       "            (out_proj): Linear(in_features=0, out_features=768, bias=True)\n",
       "          )\n",
       "        )\n",
       "        (ln_2): LayerNorm((768,), eps=1e-05, elementwise_affine=True)\n",
       "        (mlp): GPTNeoMLP(\n",
       "          (c_fc): Linear(in_features=0, out_features=3072, bias=True)\n",
       "          (c_proj): Linear(in_features=0, out_features=768, bias=True)\n",
       "          (dropout): Dropout(p=0, inplace=False)\n",
       "        )\n",
       "      )\n",
       "      (11): GPTNeoBlock(\n",
       "        (ln_1): LayerNorm((768,), eps=1e-05, elementwise_affine=True)\n",
       "        (attn): GPTNeoAttention(\n",
       "          (attention): GPTNeoLocalSelfAttention(\n",
       "            (attn_dropout): Dropout(p=0, inplace=False)\n",
       "            (resid_dropout): Dropout(p=0, inplace=False)\n",
       "            (k_proj): Linear(in_features=0, out_features=768, bias=False)\n",
       "            (v_proj): Linear(in_features=0, out_features=768, bias=False)\n",
       "            (q_proj): Linear(in_features=0, out_features=768, bias=False)\n",
       "            (out_proj): Linear(in_features=0, out_features=768, bias=True)\n",
       "          )\n",
       "        )\n",
       "        (ln_2): LayerNorm((768,), eps=1e-05, elementwise_affine=True)\n",
       "        (mlp): GPTNeoMLP(\n",
       "          (c_fc): Linear(in_features=0, out_features=3072, bias=True)\n",
       "          (c_proj): Linear(in_features=0, out_features=768, bias=True)\n",
       "          (dropout): Dropout(p=0, inplace=False)\n",
       "        )\n",
       "      )\n",
       "    )\n",
       "    (ln_f): LayerNorm((768,), eps=1e-05, elementwise_affine=True)\n",
       "  )\n",
       "  (lm_head): Linear(in_features=0, out_features=50257, bias=False)\n",
       ")"
      ]
     },
     "execution_count": 5,
     "metadata": {},
     "output_type": "execute_result"
    }
   ],
   "source": [
    "model"
   ]
  },
  {
   "cell_type": "code",
   "execution_count": 6,
   "id": "ef88a7ab",
   "metadata": {},
   "outputs": [
    {
     "data": {
      "text/plain": [
       "' flooding'"
      ]
     },
     "execution_count": 6,
     "metadata": {},
     "output_type": "execute_result"
    }
   ],
   "source": [
    "expected_token_id = 17448\n",
    "tokenizer.decode(expected_token_id)"
   ]
  },
  {
   "cell_type": "markdown",
   "id": "bb67b51e",
   "metadata": {},
   "source": [
    "Apply the Captum Integrated Gradients algorithm to attribute this token to previous input tokens.\n",
    "We cannot use the LMHead model because it is not straightforward to apply attribution to the embedding step"
   ]
  },
  {
   "cell_type": "code",
   "execution_count": 27,
   "id": "7efd586c",
   "metadata": {},
   "outputs": [],
   "source": [
    "from captum.attr import IntegratedGradients\n",
    "\n",
    "embeds = model.transformer.wte(tokens)\n",
    "\n",
    "def forward_with_embeds(embeds):\n",
    "    transformer_outputs = model.transformer.forward(inputs_embeds=embeds)\n",
    "    hidden_states = transformer_outputs[0]\n",
    "    lm_logits = model.lm_head(hidden_states)\n",
    "    return lm_logits[0,-1,expected_token_id:expected_token_id+1]\n",
    "\n",
    "ig=IntegratedGradients(forward_with_embeds)\n",
    "embeds.requires_grad_()\n",
    "attr, delta = ig.attribute(embeds,return_convergence_delta=True)#, target=expected_token_id)\n",
    "attr = attr.detach().cpu().numpy()"
   ]
  },
  {
   "cell_type": "code",
   "execution_count": 32,
   "id": "37976fb8",
   "metadata": {},
   "outputs": [
    {
     "data": {
      "text/plain": [
       "(17, 768)"
      ]
     },
     "execution_count": 32,
     "metadata": {},
     "output_type": "execute_result"
    }
   ],
   "source": [
    "attr[0].shape"
   ]
  },
  {
   "cell_type": "code",
   "execution_count": 31,
   "id": "3ee58aa6",
   "metadata": {},
   "outputs": [
    {
     "data": {
      "text/plain": [
       "array([[[-3.29796156e-03, -1.07006942e-02,  4.07403522e-04, ...,\n",
       "         -1.90527024e-02, -8.24011307e-04,  2.28353885e-02],\n",
       "        [-3.05331149e-01,  6.00705810e-01, -1.25631762e-01, ...,\n",
       "          1.45981987e-01,  1.37261276e-02, -1.18523501e-01],\n",
       "        [-9.16667706e-02, -3.14197896e-01,  3.57470340e-02, ...,\n",
       "         -9.64195247e-02,  3.47905966e-02,  1.82564405e-02],\n",
       "        ...,\n",
       "        [-4.30027424e-03,  7.47382428e-02, -4.02639004e-03, ...,\n",
       "         -1.18789637e-02, -4.61651862e-03,  9.14618413e-02],\n",
       "        [ 4.85033092e-02, -5.49573705e-01,  8.13870024e-02, ...,\n",
       "          2.20733374e-02,  9.25453030e-02, -4.63039483e-02],\n",
       "        [-2.75263210e-01,  2.78068634e-01, -7.51757880e-02, ...,\n",
       "          4.19247301e-02, -4.03581138e-01,  1.02674012e-01]]])"
      ]
     },
     "execution_count": 31,
     "metadata": {},
     "output_type": "execute_result"
    }
   ],
   "source": [
    "attr[0].shap"
   ]
  },
  {
   "cell_type": "code",
   "execution_count": 36,
   "id": "2c540632",
   "metadata": {},
   "outputs": [
    {
     "data": {
      "text/plain": [
       "[<matplotlib.lines.Line2D at 0x212b160d970>]"
      ]
     },
     "execution_count": 36,
     "metadata": {},
     "output_type": "execute_result"
    },
    {
     "data": {
      "image/png": "[encoded data removed]",
      "text/plain": [
       "<Figure size 432x288 with 1 Axes>"
      ]
     },
     "metadata": {
      "needs_background": "light"
     },
     "output_type": "display_data"
    }
   ],
   "source": [
    "import matplotlib.pyplot as plt\n",
    "plt.plot(attr[0,16])\n"
   ]
  },
  {
   "cell_type": "code",
   "execution_count": 38,
   "id": "d84c1c3e",
   "metadata": {},
   "outputs": [
    {
     "data": {
      "text/plain": [
       "[<matplotlib.lines.Line2D at 0x212b1681af0>]"
      ]
     },
     "execution_count": 38,
     "metadata": {},
     "output_type": "execute_result"
    },
    {
     "data": {
      "image/png": "[encoded data removed]",
      "text/plain": [
       "<Figure size 432x288 with 1 Axes>"
      ]
     },
     "metadata": {
      "needs_background": "light"
     },
     "output_type": "display_data"
    }
   ],
   "source": [
    "import numpy as np\n",
    "def norm(vector):\n",
    "    return np.linalg.norm(vector)\n",
    "norms = list(map(norm,attr[0]))\n",
    "plt.plot(norms)\n"
   ]
  },
  {
   "cell_type": "code",
   "execution_count": null,
   "id": "671fb27f",
   "metadata": {},
   "outputs": [],
   "source": []
  }
 ],
 "metadata": {
  "kernelspec": {
   "display_name": "Python 3",
   "language": "python",
   "name": "python3"
  },
  "language_info": {
   "codemirror_mode": {
    "name": "ipython",
    "version": 3
   },
   "file_extension": ".py",
   "mimetype": "text/x-python",
   "name": "python",
   "nbconvert_exporter": "python",
   "pygments_lexer": "ipython3",
   "version": "3.9.1"
  }
 },
 "nbformat": 4,
 "nbformat_minor": 5
}
